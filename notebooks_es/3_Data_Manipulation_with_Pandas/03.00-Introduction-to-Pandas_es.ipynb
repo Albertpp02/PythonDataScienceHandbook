{
 "cells": [
  {
   "cell_type": "markdown",
   "metadata": {},
   "source": [
    "# Manipulación de datos con Pandas"
   ]
  },
  {
   "cell_type": "markdown",
   "metadata": {},
   "source": [
    "En la [Parte 2](02.00-Introducción-a-NumPy.ipynb), profundizamos en NumPy y su objeto `ndarray`, que permite el almacenamiento y la manipulación eficientes de matrices de tipos densos en Python.\n",
    "Aquí desarrollaremos este conocimiento analizando en profundidad las estructuras de datos proporcionadas por la biblioteca Pandas.\n",
    "Pandas es un paquete más nuevo creado sobre NumPy que proporciona una implementación eficiente de un \"DataFrame\".\n",
    "Los ``DataFrame`` son esencialmente matrices multidimensionales con etiquetas de filas y columnas adjuntas, a menudo con tipos heterogéneos y/o datos faltantes.\n",
    "Además de ofrecer una cómoda interfaz de almacenamiento para datos etiquetados, Pandas implementa una serie de potentes operaciones de datos familiares para los usuarios tanto de marcos de bases de datos como de programas de hojas de cálculo.\n",
    "\n",
    "Como hemos visto, la estructura de datos \"ndarray\" de NumPy proporciona características esenciales para el tipo de datos limpios y bien organizados que normalmente se ven en las tareas de computación numérica.\n",
    "Si bien sirve muy bien para este propósito, sus limitaciones se vuelven claras cuando necesitamos más flexibilidad (por ejemplo, adjuntar etiquetas a los datos, trabajar con datos faltantes, etc.) y cuando intentamos operaciones que no se corresponden bien con la transmisión por elementos (por ejemplo, agrupaciones, pivotes, etc.), cada uno de los cuales es una pieza importante para analizar los datos menos estructurados disponibles en muchas formas en el mundo que nos rodea.\n",
    "Pandas, y en particular sus objetos `Series` y `DataFrame`, se basa en la estructura de matriz NumPy y proporciona acceso eficiente a este tipo de tareas de \"gestión de datos\" que ocupan gran parte del tiempo de un científico de datos.\n",
    "\n",
    "En esta parte del libro, nos centraremos en la mecánica del uso eficaz de \"Series\", \"DataFrame\" y estructuras relacionadas.\n",
    "Usaremos ejemplos extraídos de conjuntos de datos reales cuando sea apropiado, pero estos ejemplos no son necesariamente el foco."
   ]
  },
  {
   "cell_type": "markdown",
   "metadata": {},
   "source": [
    "## Instalación y uso de Pandas\n",
    "\n",
    "La instalación de Pandas en su sistema requiere la instalación de NumPy, y si está creando la biblioteca desde el código fuente, necesitará las herramientas adecuadas para compilar las fuentes C y Cython en las que se basa Pandas.\n",
    "Los detalles sobre el proceso de instalación se pueden encontrar en la [documentación de Pandas] (http://pandas.pydata.org/).\n",
    "Si siguió los consejos descritos en el [Prefacio](00.00-Prefacio.ipynb) y utilizó la pila Anaconda, ya tiene Pandas instalado.\n",
    "\n",
    "Una vez instalado Pandas, puedes importarlo y comprobar la versión; Aquí está la versión utilizada por este libro:"
   ]
  },
  {
   "cell_type": "code",
   "execution_count": 1,
   "metadata": {
    "collapsed": false,
    "jupyter": {
     "outputs_hidden": false
    }
   },
   "outputs": [
    {
     "data": {
      "text/plain": [
       "'1.3.5'"
      ]
     },
     "execution_count": 1,
     "metadata": {},
     "output_type": "execute_result"
    }
   ],
   "source": [
    "import pandas\n",
    "pandas.__version__"
   ]
  },
  {
   "cell_type": "markdown",
   "metadata": {},
   "source": [
    "Así como generalmente importamos NumPy con el alias `np`, importaremos Pandas con el alias `pd`:"
   ]
  },
  {
   "cell_type": "code",
   "execution_count": 2,
   "metadata": {
    "tags": []
   },
   "outputs": [],
   "source": [
    "import pandas as pd"
   ]
  },
  {
   "cell_type": "markdown",
   "metadata": {},
   "source": [
    "Esta convención de importación se utilizará a lo largo del resto de este libro."
   ]
  },
  {
   "cell_type": "markdown",
   "metadata": {},
   "source": [
    "## Recordatorio sobre la documentación integrada\n",
    "\n",
    "Mientras lee esta parte del libro, no olvide que IPython le brinda la posibilidad de explorar rápidamente el contenido de un paquete (usando la función de completar tabulación), así como la documentación de varias funciones (usando el `?` personaje). Consulte [Ayuda y documentación en IPython] (01.01-Help-And-Documentation.ipynb) si necesita un repaso sobre esto.\n",
    "\n",
    "Por ejemplo, para mostrar todo el contenido del espacio de nombres de Pandas, puedes escribir:\n",
    "\n",
    "```ipython\n",
    "En [3]: pd.<TAB>\n",
    "```\n",
    "\n",
    "Y para mostrar la documentación integrada de Pandas, puedes usar esto:\n",
    "\n",
    "```ipython\n",
    "En [4]: ​​pd?\n",
    "```\n",
    "\n",
    "Puede encontrar documentación más detallada, junto con tutoriales y otros recursos, en http://pandas.pydata.org/."
   ]
  }
 ],
 "metadata": {
  "anaconda-cloud": {},
  "jupytext": {
   "formats": "ipynb,md"
  },
  "kernelspec": {
   "display_name": "Python 3 (ipykernel)",
   "language": "python",
   "name": "python3"
  },
  "language_info": {
   "codemirror_mode": {
    "name": "ipython",
    "version": 3
   },
   "file_extension": ".py",
   "mimetype": "text/x-python",
   "name": "python",
   "nbconvert_exporter": "python",
   "pygments_lexer": "ipython3",
   "version": "3.9.2"
  }
 },
 "nbformat": 4,
 "nbformat_minor": 4
}
