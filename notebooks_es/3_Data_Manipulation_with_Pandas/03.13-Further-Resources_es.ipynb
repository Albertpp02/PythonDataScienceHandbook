{
 "cells": [
  {
   "cell_type": "markdown",
   "metadata": {},
   "source": [
    "# Recursos adicionales"
   ]
  },
  {
   "cell_type": "markdown",
   "metadata": {
    "deletable": true,
    "editable": true
   },
   "source": [
    "En esta parte del libro, cubrimos muchos de los conceptos básicos del uso eficaz de Pandas para el análisis de datos.\n",
    "Aun así, mucho se ha omitido en nuestra discusión.\n",
    "Para obtener más información sobre Pandas, recomiendo los siguientes recursos:\n",
    "\n",
    "- [Documentación en línea de Pandas] (http://pandas.pydata.org/): esta es la fuente de referencia para obtener la documentación completa del paquete. Si bien los ejemplos de la documentación tienden a basarse en pequeños conjuntos de datos generados, la descripción de las opciones es completa y, en general, muy útil para comprender el uso de diversas funciones.\n",
    "\n",
    "- [*Python para análisis de datos*](https://learning.oreilly.com/library/view/python-for-data/9781098104023/): Escrito por Wes McKinney (el creador original de Pandas), este libro contiene mucho Más detalles sobre el paquete Pandas de los que teníamos espacio en este capítulo. En particular, McKinney profundiza en las herramientas para series temporales, que eran su pan de cada día como consultor financiero. El libro también tiene muchos ejemplos entretenidos sobre la aplicación de Pandas para obtener información a partir de conjuntos de datos del mundo real.\n",
    "\n",
    "- [*Effective Pandas*](https://leanpub.com/ Effective-pandas): este breve libro electrónico del desarrollador de Pandas, Tom Augspurger, proporciona un resumen sucinto sobre cómo utilizar todo el poder de la biblioteca de Pandas de una manera eficaz e idiomática. .\n",
    "\n",
    "- [Pandas en PyVideo] (http://pyvideo.org/search?q=pandas): desde PyCon hasta SciPy y PyData, muchas conferencias han presentado tutoriales de desarrolladores y usuarios avanzados de Pandas. Los tutoriales de PyCon en particular tienden a ser impartidos por presentadores muy bien examinados.\n",
    "\n",
    "Usando estos recursos, combinados con el tutorial proporcionado en estos capítulos, espero que esté preparado para usar Pandas para abordar cualquier problema de análisis de datos que encuentre."
   ]
  }
 ],
 "metadata": {
  "anaconda-cloud": {},
  "jupytext": {
   "formats": "ipynb,md"
  },
  "kernelspec": {
   "display_name": "Python 3 (ipykernel)",
   "language": "python",
   "name": "python3"
  },
  "language_info": {
   "codemirror_mode": {
    "name": "ipython",
    "version": 3
   },
   "file_extension": ".py",
   "mimetype": "text/x-python",
   "name": "python",
   "nbconvert_exporter": "python",
   "pygments_lexer": "ipython3",
   "version": "3.9.2"
  }
 },
 "nbformat": 4,
 "nbformat_minor": 4
}
