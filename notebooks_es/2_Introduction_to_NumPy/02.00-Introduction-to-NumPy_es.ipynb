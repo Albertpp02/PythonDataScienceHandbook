{
 "cells": [
  {
   "cell_type": "markdown",
   "metadata": {},
   "source": [
    "# Introducción a NumPy\n",
    "\n",
    "Esta parte del libro, junto con la [Parte 3](03.00-Introducción-a-Pandas.ipynb), describe técnicas para cargar, almacenar y manipular datos en memoria de manera efectiva en Python.\n",
    "El tema es muy amplio: los conjuntos de datos pueden provenir de una amplia gama de fuentes y en una amplia gama de formatos, incluidas colecciones de documentos, colecciones de imágenes, colecciones de clips de sonido, colecciones de mediciones numéricas o casi cualquier otra cosa.\n",
    "A pesar de esta aparente heterogeneidad, muchos conjuntos de datos pueden representarse fundamentalmente como conjuntos de números.\n",
    "\n",
    "Por ejemplo, las imágenes, en particular las digitales, pueden considerarse simplemente como conjuntos bidimensionales de números que representan el brillo de los píxeles en un área.\n",
    "Los clips de sonido pueden considerarse como conjuntos unidimensionales de intensidad versus tiempo.\n",
    "El texto se puede convertir de varias maneras en representaciones numéricas, como dígitos binarios que representan la frecuencia de ciertas palabras o pares de palabras.\n",
    "No importa cuáles sean los datos, el primer paso para hacerlos analizables será transformarlos en matrices de números.\n",
    "(Discutiremos algunos ejemplos específicos de este proceso en [Ingeniería de funciones](05.04-Feature-Engineering.ipynb).)\n",
    "\n",
    "Por esta razón, el almacenamiento y la manipulación eficientes de matrices numéricas es absolutamente fundamental para el proceso de hacer ciencia de datos.\n",
    "Ahora veremos las herramientas especializadas que tiene Python para manejar este tipo de matrices numéricas: el paquete NumPy y el paquete Pandas (discutidos en la [Parte 3](03.00-Introducción-a-Pandas.ipynb)).\n",
    "\n",
    "Esta parte del libro cubrirá NumPy en detalle. NumPy (abreviatura de *Numerical Python*) proporciona una interfaz eficiente para almacenar y operar en buffers de datos densos.\n",
    "En cierto modo, las matrices NumPy son como el tipo \"lista\" incorporado de Python, pero las matrices NumPy proporcionan operaciones de almacenamiento y datos mucho más eficientes a medida que las matrices crecen en tamaño.\n",
    "Los arreglos NumPy forman el núcleo de casi todo el ecosistema de herramientas de ciencia de datos en Python, por lo que el tiempo dedicado a aprender a usar NumPy de manera efectiva será valioso sin importar qué aspecto de la ciencia de datos le interese.\n",
    "\n",
    "Si siguió los consejos descritos en el Prefacio e instaló la pila Anaconda, ya tiene NumPy instalado y listo para funcionar.\n",
    "Si prefieres hacerlo tú mismo, puedes ir a http://www.numpy.org/ y seguir las instrucciones de instalación que se encuentran allí.\n",
    "Una vez que lo hagas, puedes importar NumPy y verificar la versión:"
   ]
  },
  {
   "cell_type": "code",
   "execution_count": 1,
   "metadata": {
    "collapsed": false,
    "deletable": true,
    "editable": true,
    "jupyter": {
     "outputs_hidden": false
    }
   },
   "outputs": [
    {
     "data": {
      "text/plain": [
       "'1.21.2'"
      ]
     },
     "execution_count": 1,
     "metadata": {},
     "output_type": "execute_result"
    }
   ],
   "source": [
    "import numpy\n",
    "numpy.__version__"
   ]
  },
  {
   "cell_type": "markdown",
   "metadata": {},
   "source": [
    "Para las partes del paquete analizadas aquí, recomendaría NumPy versión 1.8 o posterior.\n",
    "Por convención, encontrarás que la mayoría de las personas en el mundo SciPy/PyData importarán NumPy usando `np` como alias:"
   ]
  },
  {
   "cell_type": "code",
   "execution_count": 2,
   "metadata": {
    "collapsed": false,
    "deletable": true,
    "editable": true,
    "jupyter": {
     "outputs_hidden": false
    }
   },
   "outputs": [],
   "source": [
    "import numpy as np"
   ]
  },
  {
   "cell_type": "markdown",
   "metadata": {},
   "source": [
    "A lo largo de este capítulo, y de hecho en el resto del libro, encontrará que esta es la forma en que importaremos y usaremos NumPy."
   ]
  },
  {
   "cell_type": "markdown",
   "metadata": {},
   "source": [
    "## Recordatorio sobre la documentación integrada\n",
    "\n",
    "Mientras lee esta parte del libro, no olvide que IPython le brinda la posibilidad de explorar rápidamente el contenido de un paquete (mediante la función de finalización de tabulación), así como la documentación de varias funciones (mediante el comando `? `carácter). Para obtener un repaso sobre estos, consulte [Ayuda y documentación en IPython] (01.01-Help-And-Documentation.ipynb).\n",
    "\n",
    "Por ejemplo, para mostrar todo el contenido del espacio de nombres NumPy, puedes escribir esto:\n",
    "\n",
    "```ipython\n",
    "En [3]: np.<TAB>\n",
    "```\n",
    "\n",
    "Y para mostrar la documentación integrada de NumPy, puedes usar esto:\n",
    "\n",
    "```ipython\n",
    "En [4]: ​​np?\n",
    "```\n",
    "\n",
    "Puede encontrar documentación más detallada, junto con tutoriales y otros recursos, en http://www.numpy.org."
   ]
  }
 ],
 "metadata": {
  "anaconda-cloud": {},
  "jupytext": {
   "formats": "ipynb,md"
  },
  "kernelspec": {
   "display_name": "Python 3 (ipykernel)",
   "language": "python",
   "name": "python3"
  },
  "language_info": {
   "codemirror_mode": {
    "name": "ipython",
    "version": 3
   },
   "file_extension": ".py",
   "mimetype": "text/x-python",
   "name": "python",
   "nbconvert_exporter": "python",
   "pygments_lexer": "ipython3",
   "version": "3.9.2"
  }
 },
 "nbformat": 4,
 "nbformat_minor": 4
}
