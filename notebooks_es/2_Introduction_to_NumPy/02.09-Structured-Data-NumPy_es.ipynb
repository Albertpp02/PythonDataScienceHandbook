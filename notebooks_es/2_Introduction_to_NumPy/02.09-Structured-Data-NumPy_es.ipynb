{
 "cells": [
  {
   "cell_type": "markdown",
   "metadata": {},
   "source": [
    "# Datos estructurados: matrices estructuradas de NumPy"
   ]
  },
  {
   "cell_type": "markdown",
   "metadata": {},
   "source": [
    "Si bien a menudo nuestros datos pueden estar bien representados mediante una matriz homogénea de valores, a veces este no es el caso. Este capítulo demuestra el uso de *matrices estructuradas* y *matrices de registros* de NumPy, que proporcionan almacenamiento eficiente para datos compuestos y heterogéneos.  Si bien los patrones que se muestran aquí son útiles para operaciones simples, escenarios como este a menudo se prestan al uso de ``DataFrame``s de Pandas, que exploraremos en la [Parte 3](03.00-Introducción-a-Pandas.ipynb) ."
   ]
  },
  {
   "cell_type": "code",
   "execution_count": 1,
   "metadata": {
    "tags": []
   },
   "outputs": [],
   "source": [
    "import numpy as np"
   ]
  },
  {
   "cell_type": "markdown",
   "metadata": {},
   "source": [
    "Imagine que tenemos varias categorías de datos sobre varias personas (por ejemplo, nombre, edad y peso) y nos gustaría almacenar estos valores para usarlos en un programa Python.\n",
    "Sería posible almacenarlos en tres matrices separadas:"
   ]
  },
  {
   "cell_type": "code",
   "execution_count": 2,
   "metadata": {
    "collapsed": false,
    "jupyter": {
     "outputs_hidden": false
    }
   },
   "outputs": [],
   "source": [
    "name = ['Alice', 'Bob', 'Cathy', 'Doug']\n",
    "age = [25, 45, 37, 19]\n",
    "weight = [55.0, 85.5, 68.0, 61.5]"
   ]
  },
  {
   "cell_type": "markdown",
   "metadata": {},
   "source": [
    "Pero esto es un poco torpe. No hay nada aquí que nos diga que las tres matrices están relacionadas; Las matrices estructuradas de NumPy nos permiten hacer esto de forma más natural mediante el uso de una única estructura para almacenar todos estos datos.\n",
    "\n",
    "Recuerde que anteriormente creamos una matriz simple usando una expresión como esta:"
   ]
  },
  {
   "cell_type": "code",
   "execution_count": 3,
   "metadata": {
    "collapsed": false,
    "jupyter": {
     "outputs_hidden": false
    }
   },
   "outputs": [],
   "source": [
    "x = np.zeros(4, dtype=int)"
   ]
  },
  {
   "cell_type": "markdown",
   "metadata": {},
   "source": [
    "De manera similar, podemos crear una matriz estructurada usando una especificación de tipo de datos compuesto:"
   ]
  },
  {
   "cell_type": "code",
   "execution_count": 4,
   "metadata": {
    "collapsed": false,
    "jupyter": {
     "outputs_hidden": false
    }
   },
   "outputs": [
    {
     "name": "stdout",
     "output_type": "stream",
     "text": [
      "[('name', '<U10'), ('age', '<i4'), ('weight', '<f8')]\n"
     ]
    }
   ],
   "source": [
    "# Use a compound data type for structured arrays\n",
    "data = np.zeros(4, dtype={'names':('name', 'age', 'weight'),\n",
    "                          'formats':('U10', 'i4', 'f8')})\n",
    "print(data.dtype)"
   ]
  },
  {
   "cell_type": "markdown",
   "metadata": {},
   "source": [
    "Aquí `'U10'` se traduce como \"cadena Unicode de longitud máxima 10\", `'i4'` se traduce como \"entero de 4 bytes (es decir, 32 bits)\" y `'f8'` se traduce como \"8 bytes\". (es decir, 64 bits) flotante\".\n",
    "Discutiremos otras opciones para estos códigos de tipo en la siguiente sección.\n",
    "\n",
    "Ahora que hemos creado una matriz contenedora vacía, podemos llenar la matriz con nuestras listas de valores:"
   ]
  },
  {
   "cell_type": "code",
   "execution_count": 5,
   "metadata": {
    "collapsed": false,
    "jupyter": {
     "outputs_hidden": false
    }
   },
   "outputs": [
    {
     "name": "stdout",
     "output_type": "stream",
     "text": [
      "[('Alice', 25, 55. ) ('Bob', 45, 85.5) ('Cathy', 37, 68. )\n",
      " ('Doug', 19, 61.5)]\n"
     ]
    }
   ],
   "source": [
    "data['name'] = name\n",
    "data['age'] = age\n",
    "data['weight'] = weight\n",
    "print(data)"
   ]
  },
  {
   "cell_type": "markdown",
   "metadata": {},
   "source": [
    "Como esperábamos, los datos ahora están convenientemente organizados en una matriz estructurada.\n",
    "\n",
    "Lo útil con los arreglos estructurados es que ahora podemos referirnos a valores ya sea por índice o por nombre:"
   ]
  },
  {
   "cell_type": "code",
   "execution_count": 6,
   "metadata": {
    "collapsed": false,
    "jupyter": {
     "outputs_hidden": false
    }
   },
   "outputs": [
    {
     "data": {
      "text/plain": [
       "array(['Alice', 'Bob', 'Cathy', 'Doug'], dtype='<U10')"
      ]
     },
     "execution_count": 6,
     "metadata": {},
     "output_type": "execute_result"
    }
   ],
   "source": [
    "# Get all names\n",
    "data['name']"
   ]
  },
  {
   "cell_type": "code",
   "execution_count": 7,
   "metadata": {
    "collapsed": false,
    "jupyter": {
     "outputs_hidden": false
    }
   },
   "outputs": [
    {
     "data": {
      "text/plain": [
       "('Alice', 25, 55.)"
      ]
     },
     "execution_count": 7,
     "metadata": {},
     "output_type": "execute_result"
    }
   ],
   "source": [
    "# Get first row of data\n",
    "data[0]"
   ]
  },
  {
   "cell_type": "code",
   "execution_count": 8,
   "metadata": {
    "collapsed": false,
    "jupyter": {
     "outputs_hidden": false
    }
   },
   "outputs": [
    {
     "data": {
      "text/plain": [
       "'Doug'"
      ]
     },
     "execution_count": 8,
     "metadata": {},
     "output_type": "execute_result"
    }
   ],
   "source": [
    "# Get the name from the last row\n",
    "data[-1]['name']"
   ]
  },
  {
   "cell_type": "markdown",
   "metadata": {},
   "source": [
    "Usando el enmascaramiento booleano, podemos incluso realizar algunas operaciones más sofisticadas, como filtrar por edad:"
   ]
  },
  {
   "cell_type": "code",
   "execution_count": 9,
   "metadata": {
    "collapsed": false,
    "jupyter": {
     "outputs_hidden": false
    }
   },
   "outputs": [
    {
     "data": {
      "text/plain": [
       "array(['Alice', 'Doug'], dtype='<U10')"
      ]
     },
     "execution_count": 9,
     "metadata": {},
     "output_type": "execute_result"
    }
   ],
   "source": [
    "# Get names where age is under 30\n",
    "data[data['age'] < 30]['name']"
   ]
  },
  {
   "cell_type": "markdown",
   "metadata": {},
   "source": [
    "Si desea realizar operaciones que sean más complicadas que estas, probablemente debería considerar el paquete Pandas, cubierto en la [Parte 4] (04.00-Introducción-a-Matplotlib.ipynb).\n",
    "Como verá, Pandas proporciona un objeto `DataFrame`, que es una estructura construida sobre matrices NumPy que ofrece una variedad de funciones útiles de manipulación de datos similares a las que ha visto aquí, así como mucho, mucho más."
   ]
  },
  {
   "cell_type": "markdown",
   "metadata": {},
   "source": [
    "## Explorando la creación de matrices estructuradas\n",
    "\n",
    "Los tipos de datos de matriz estructurada se pueden especificar de varias maneras.\n",
    "Anteriormente vimos el método del diccionario:"
   ]
  },
  {
   "cell_type": "code",
   "execution_count": 10,
   "metadata": {
    "collapsed": false,
    "jupyter": {
     "outputs_hidden": false
    }
   },
   "outputs": [
    {
     "data": {
      "text/plain": [
       "dtype([('name', '<U10'), ('age', '<i4'), ('weight', '<f8')])"
      ]
     },
     "execution_count": 10,
     "metadata": {},
     "output_type": "execute_result"
    }
   ],
   "source": [
    "np.dtype({'names':('name', 'age', 'weight'),\n",
    "          'formats':('U10', 'i4', 'f8')})"
   ]
  },
  {
   "cell_type": "markdown",
   "metadata": {},
   "source": [
    "Para mayor claridad, los tipos numéricos se pueden especificar usando tipos de Python o NumPy `dtype`s en su lugar:"
   ]
  },
  {
   "cell_type": "code",
   "execution_count": 11,
   "metadata": {
    "collapsed": false,
    "jupyter": {
     "outputs_hidden": false
    }
   },
   "outputs": [
    {
     "data": {
      "text/plain": [
       "dtype([('name', '<U10'), ('age', '<i8'), ('weight', '<f4')])"
      ]
     },
     "execution_count": 11,
     "metadata": {},
     "output_type": "execute_result"
    }
   ],
   "source": [
    "np.dtype({'names':('name', 'age', 'weight'),\n",
    "          'formats':((np.str_, 10), int, np.float32)})"
   ]
  },
  {
   "cell_type": "markdown",
   "metadata": {},
   "source": [
    "Un tipo compuesto también se puede especificar como una lista de tuplas:"
   ]
  },
  {
   "cell_type": "code",
   "execution_count": 12,
   "metadata": {
    "collapsed": false,
    "jupyter": {
     "outputs_hidden": false
    }
   },
   "outputs": [
    {
     "data": {
      "text/plain": [
       "dtype([('name', 'S10'), ('age', '<i4'), ('weight', '<f8')])"
      ]
     },
     "execution_count": 12,
     "metadata": {},
     "output_type": "execute_result"
    }
   ],
   "source": [
    "np.dtype([('name', 'S10'), ('age', 'i4'), ('weight', 'f8')])"
   ]
  },
  {
   "cell_type": "markdown",
   "metadata": {},
   "source": [
    "Si los nombres de los tipos no le importan, puede especificar los tipos solos en una cadena separada por comas:"
   ]
  },
  {
   "cell_type": "code",
   "execution_count": 13,
   "metadata": {
    "collapsed": false,
    "jupyter": {
     "outputs_hidden": false
    }
   },
   "outputs": [
    {
     "data": {
      "text/plain": [
       "dtype([('f0', 'S10'), ('f1', '<i4'), ('f2', '<f8')])"
      ]
     },
     "execution_count": 13,
     "metadata": {},
     "output_type": "execute_result"
    }
   ],
   "source": [
    "np.dtype('S10,i4,f8')"
   ]
  },
  {
   "cell_type": "markdown",
   "metadata": {},
   "source": [
    "Los códigos de formato de cadena acortados pueden no ser inmediatamente intuitivos, pero se basan en principios simples.\n",
    "El primer carácter (opcional) `<` o `>` significa \"little endian\" o \"big endian\", respectivamente, y especifica la convención de ordenamiento de bits significativos.\n",
    "El siguiente carácter especifica el tipo de datos: caracteres, bytes, enteros, puntos flotantes, etc. (consulte la tabla a continuación).\n",
    "El último carácter o caracteres representan el tamaño del objeto en bytes.\n",
    "\n",
    "| Personaje | Descripción | Ejemplo |\n",
    "| --------- | ----------- | ------- | \n",
    "| ``b'' | Byte | `np.dtype('b')` |\n",
    "| ``yo'' | Entero con signo | `np.dtype('i4') == np.int32` |\n",
    "| ``u'' | Entero sin signo | `np.dtype('u1') == np.uint8` |\n",
    "| ``f'' | Punto flotante | `np.dtype('f8') == np.int64` |\n",
    "| ``c'' | Punto flotante complejo | `np.dtype('c16') == np.complex128`|\n",
    "| `'S'`, `'a'` | Cadena | `np.dtype('S5')` |\n",
    "| ``U'' | Cadena Unicode | `np.dtype('U') == np.str_` |\n",
    "| ``V'' | Datos brutos (nulo) | `np.dtype('V') == np.void` |"
   ]
  },
  {
   "cell_type": "markdown",
   "metadata": {},
   "source": [
    "## Tipos de compuestos más avanzados\n",
    "\n",
    "Es posible definir tipos de compuestos aún más avanzados.\n",
    "Por ejemplo, puede crear un tipo donde cada elemento contenga una matriz o matriz de valores.\n",
    "Aquí, crearemos un tipo de datos con un componente `mat` que consta de una matriz de punto flotante $3\\times 3$:"
   ]
  },
  {
   "cell_type": "code",
   "execution_count": 14,
   "metadata": {
    "collapsed": false,
    "jupyter": {
     "outputs_hidden": false
    }
   },
   "outputs": [
    {
     "name": "stdout",
     "output_type": "stream",
     "text": [
      "(0, [[0., 0., 0.], [0., 0., 0.], [0., 0., 0.]])\n",
      "[[0. 0. 0.]\n",
      " [0. 0. 0.]\n",
      " [0. 0. 0.]]\n"
     ]
    }
   ],
   "source": [
    "tp = np.dtype([('id', 'i8'), ('mat', 'f8', (3, 3))])\n",
    "X = np.zeros(1, dtype=tp)\n",
    "print(X[0])\n",
    "print(X['mat'][0])"
   ]
  },
  {
   "cell_type": "markdown",
   "metadata": {},
   "source": [
    "Ahora cada elemento de la matriz `X` consta de una matriz `id` y una matriz $3\\times 3$.\n",
    "¿Por qué utilizarías esto en lugar de una simple matriz multidimensional o quizás un diccionario de Python?\n",
    "Una razón es que este `dtype` de NumPy se asigna directamente a una definición de estructura C, por lo que se puede acceder directamente al búfer que contiene el contenido de la matriz dentro de un programa C escrito apropiadamente.\n",
    "Si se encuentra escribiendo una interfaz Python para una biblioteca C o Fortran heredada que manipula datos estructurados, las matrices estructuradas pueden proporcionar una interfaz poderosa."
   ]
  },
  {
   "cell_type": "markdown",
   "metadata": {},
   "source": [
    "## Matrices de registros: matrices estructuradas con un toque diferente\n",
    "\n",
    "NumPy también proporciona matrices de registros (instancias de la clase `np.recarray`), que son casi idénticas a las matrices estructuradas que acabamos de describir, pero con una característica adicional: se puede acceder a los campos como atributos en lugar de claves de diccionario.\n",
    "Recuerde que anteriormente accedimos a las edades en nuestro conjunto de datos de muestra escribiendo:"
   ]
  },
  {
   "cell_type": "code",
   "execution_count": 15,
   "metadata": {
    "collapsed": false,
    "jupyter": {
     "outputs_hidden": false
    }
   },
   "outputs": [
    {
     "data": {
      "text/plain": [
       "array([25, 45, 37, 19], dtype=int32)"
      ]
     },
     "execution_count": 15,
     "metadata": {},
     "output_type": "execute_result"
    }
   ],
   "source": [
    "data['age']"
   ]
  },
  {
   "cell_type": "markdown",
   "metadata": {},
   "source": [
    "Si, en cambio, vemos nuestros datos como una matriz de registros, podemos acceder a ellos con un poco menos de pulsaciones de teclas:"
   ]
  },
  {
   "cell_type": "code",
   "execution_count": 16,
   "metadata": {
    "collapsed": false,
    "jupyter": {
     "outputs_hidden": false
    }
   },
   "outputs": [
    {
     "data": {
      "text/plain": [
       "array([25, 45, 37, 19], dtype=int32)"
      ]
     },
     "execution_count": 16,
     "metadata": {},
     "output_type": "execute_result"
    }
   ],
   "source": [
    "data_rec = data.view(np.recarray)\n",
    "data_rec.age"
   ]
  },
  {
   "cell_type": "markdown",
   "metadata": {},
   "source": [
    "La desventaja es que para las matrices de registros, existe una sobrecarga adicional al acceder a los campos, incluso cuando se usa la misma sintaxis:"
   ]
  },
  {
   "cell_type": "code",
   "execution_count": 17,
   "metadata": {},
   "outputs": [
    {
     "name": "stdout",
     "output_type": "stream",
     "text": [
      "121 ns ± 1.4 ns per loop (mean ± std. dev. of 7 runs, 1000000 loops each)\n",
      "2.41 µs ± 15.7 ns per loop (mean ± std. dev. of 7 runs, 100000 loops each)\n",
      "3.98 µs ± 20.5 ns per loop (mean ± std. dev. of 7 runs, 100000 loops each)\n"
     ]
    }
   ],
   "source": [
    "%timeit data['age']\n",
    "%timeit data_rec['age']\n",
    "%timeit data_rec.age"
   ]
  },
  {
   "cell_type": "markdown",
   "metadata": {},
   "source": [
    "Si la notación más conveniente vale la pena (leve) sobrecarga dependerá de su propia aplicación."
   ]
  },
  {
   "cell_type": "markdown",
   "metadata": {},
   "source": [
    "## A los pandas\n",
    "\n",
    "Este capítulo sobre matrices estructuradas y de registros se ubica intencionalmente al final de esta parte del libro, porque conduce muy bien al siguiente paquete que cubriremos: Pandas.\n",
    "Las matrices estructuradas pueden resultar útiles en determinadas situaciones, como cuando se utilizan matrices NumPy para asignar formatos de datos binarios en C, Fortran u otro lenguaje.\n",
    "Pero para el uso diario de datos estructurados, el paquete Pandas es una opción mucho mejor; Lo exploraremos en profundidad en los capítulos siguientes."
   ]
  }
 ],
 "metadata": {
  "anaconda-cloud": {},
  "jupytext": {
   "formats": "ipynb,md"
  },
  "kernelspec": {
   "display_name": "Python 3 (ipykernel)",
   "language": "python",
   "name": "python3"
  },
  "language_info": {
   "codemirror_mode": {
    "name": "ipython",
    "version": 3
   },
   "file_extension": ".py",
   "mimetype": "text/x-python",
   "name": "python",
   "nbconvert_exporter": "python",
   "pygments_lexer": "ipython3",
   "version": "3.9.2"
  }
 },
 "nbformat": 4,
 "nbformat_minor": 4
}
