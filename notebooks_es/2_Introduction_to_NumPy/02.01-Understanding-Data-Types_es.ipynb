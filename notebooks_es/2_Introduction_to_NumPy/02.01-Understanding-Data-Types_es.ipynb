{
 "cells": [
  {
   "cell_type": "markdown",
   "metadata": {},
   "source": [
    "# Comprender los tipos de datos en Python"
   ]
  },
  {
   "cell_type": "markdown",
   "metadata": {},
   "source": [
    "La ciencia y la computación eficaces basadas en datos requieren comprender cómo se almacenan y manipulan los datos.\n",
    "Este capítulo describe y contrasta cómo se manejan las matrices de datos en el propio lenguaje Python y cómo NumPy mejora esto.\n",
    "Comprender esta diferencia es fundamental para comprender gran parte del material del resto del libro.\n",
    "\n",
    "Los usuarios de Python a menudo se sienten atraídos por su facilidad de uso, una de las cuales es la escritura dinámica.\n",
    "Mientras que un lenguaje de tipo estático como C o Java requiere que cada variable se declare explícitamente, un lenguaje de tipo dinámico como Python omite esta especificación. Por ejemplo, en C podrías especificar una operación particular de la siguiente manera:\n",
    "\n",
    "```C\n",
    "/* código C */\n",
    "resultado entero = 0;\n",
    "para(int i=0; i<100; i++){\n",
    "    resultado += i;\n",
    "}\n",
    "```\n",
    "\n",
    "Mientras que en Python la operación equivalente podría escribirse de esta manera:\n",
    "\n",
    "```pitón\n",
    "# código Python\n",
    "resultado = 0\n",
    "para i en el rango (100):\n",
    "    resultado += yo\n",
    "```\n",
    "\n",
    "Observe una diferencia principal: en C, los tipos de datos de cada variable se declaran explícitamente, mientras que en Python los tipos se infieren dinámicamente. Esto significa, por ejemplo, que podemos asignar cualquier tipo de dato a cualquier variable:\n",
    "\n",
    "```pitón\n",
    "# código Python\n",
    "x = 4\n",
    "x = \"cuatro\"\n",
    "```\n",
    "\n",
    "Aquí hemos cambiado el contenido de `x` de un número entero a una cadena. Lo mismo en C conduciría (dependiendo de la configuración del compilador) a un error de compilación u otras consecuencias no deseadas:\n",
    "\n",
    "```C\n",
    "/* código C */\n",
    "entero x = 4;\n",
    "x = \"cuatro\";  // FALLA\n",
    "```\n",
    "\n",
    "Este tipo de flexibilidad es un elemento que hace que Python y otros lenguajes tipados dinámicamente sean convenientes y fáciles de usar.\n",
    "Comprender *cómo* funciona esto es una parte importante del aprendizaje para analizar datos de manera eficiente y efectiva con Python.\n",
    "Pero a lo que también apunta esta flexibilidad de tipos es al hecho de que las variables de Python son más que sólo sus valores; también contienen información adicional sobre el *tipo* del valor. Exploraremos esto más en las secciones siguientes."
   ]
  },
  {
   "cell_type": "markdown",
   "metadata": {},
   "source": [
    "## Un número entero de Python es más que un simple número entero\n",
    "\n",
    "La implementación estándar de Python está escrita en C.\n",
    "Esto significa que cada objeto de Python es simplemente una estructura C hábilmente disfrazada, que contiene no sólo su valor, sino también otra información. Por ejemplo, cuando definimos un número entero en Python, como `x = 10000`, `x` no es solo un número entero \"sin formato\". En realidad, es un puntero a una estructura C compuesta, que contiene varios valores.\n",
    "Al revisar el código fuente de Python 3.10, encontramos que la definición de tipo entero (largo) efectivamente se ve así (una vez que se expanden las macros de C):\n",
    "\n",
    "```C\n",
    "estructura _objeto largo {\n",
    "    ob_refcnt largo;\n",
    "    PyTypeObject *ob_type;\n",
    "    tamaño_t ob_tamaño;\n",
    "    largo ob_digit[1];\n",
    "};\n",
    "```\n",
    "\n",
    "Un único número entero en Python 3.10 en realidad contiene cuatro partes:\n",
    "\n",
    "- `ob_refcnt`, un recuento de referencias que ayuda a Python a manejar silenciosamente la asignación y desasignación de memoria\n",
    "- `ob_type`, que codifica el tipo de variable\n",
    "- `ob_size`, que especifica el tamaño de los siguientes miembros de datos\n",
    "- `ob_digit`, que contiene el valor entero real que esperamos que represente la variable Python\n",
    "\n",
    "Esto significa que existe cierta sobrecarga al almacenar un número entero en Python en comparación con un lenguaje compilado como C, como se ilustra en la siguiente figura:"
   ]
  },
  {
   "cell_type": "markdown",
   "metadata": {},
   "source": [
    "![Diseño de memoria entera](images/cint_vs_pyint.png)"
   ]
  },
  {
   "cell_type": "markdown",
   "metadata": {},
   "source": [
    "Aquí, `PyObject_HEAD` es la parte de la estructura que contiene el recuento de referencias, el código de tipo y otras partes mencionadas anteriormente.\n",
    "\n",
    "Observe la diferencia aquí: un entero C es esencialmente una etiqueta para una posición en la memoria cuyos bytes codifican un valor entero.\n",
    "Un entero de Python es un puntero a una posición en la memoria que contiene toda la información del objeto de Python, incluidos los bytes que contienen el valor entero.\n",
    "Esta información adicional en la estructura entera de Python es lo que permite codificar Python de forma tan libre y dinámica.\n",
    "Sin embargo, toda esta información adicional en los tipos de Python tiene un costo, que se vuelve especialmente evidente en estructuras que combinan muchos de estos objetos."
   ]
  },
  {
   "cell_type": "markdown",
   "metadata": {},
   "source": [
    "## Una lista de Python es más que una simple lista\n",
    "\n",
    "Consideremos ahora qué sucede cuando usamos una estructura de datos de Python que contiene muchos objetos de Python.\n",
    "El contenedor multielemento mutable estándar en Python es la lista.\n",
    "Podemos crear una lista de números enteros de la siguiente manera:"
   ]
  },
  {
   "cell_type": "code",
   "execution_count": 1,
   "metadata": {
    "collapsed": false,
    "jupyter": {
     "outputs_hidden": false
    }
   },
   "outputs": [
    {
     "data": {
      "text/plain": [
       "[0, 1, 2, 3, 4, 5, 6, 7, 8, 9]"
      ]
     },
     "execution_count": 1,
     "metadata": {},
     "output_type": "execute_result"
    }
   ],
   "source": [
    "L = list(range(10))\n",
    "L"
   ]
  },
  {
   "cell_type": "code",
   "execution_count": 2,
   "metadata": {
    "collapsed": false,
    "jupyter": {
     "outputs_hidden": false
    }
   },
   "outputs": [
    {
     "data": {
      "text/plain": [
       "int"
      ]
     },
     "execution_count": 2,
     "metadata": {},
     "output_type": "execute_result"
    }
   ],
   "source": [
    "type(L[0])"
   ]
  },
  {
   "cell_type": "markdown",
   "metadata": {},
   "source": [
    "O, de manera similar, una lista de cadenas:"
   ]
  },
  {
   "cell_type": "code",
   "execution_count": 3,
   "metadata": {
    "collapsed": false,
    "jupyter": {
     "outputs_hidden": false
    }
   },
   "outputs": [
    {
     "data": {
      "text/plain": [
       "['0', '1', '2', '3', '4', '5', '6', '7', '8', '9']"
      ]
     },
     "execution_count": 3,
     "metadata": {},
     "output_type": "execute_result"
    }
   ],
   "source": [
    "L2 = [str(c) for c in L]\n",
    "L2"
   ]
  },
  {
   "cell_type": "code",
   "execution_count": 4,
   "metadata": {
    "collapsed": false,
    "jupyter": {
     "outputs_hidden": false
    }
   },
   "outputs": [
    {
     "data": {
      "text/plain": [
       "str"
      ]
     },
     "execution_count": 4,
     "metadata": {},
     "output_type": "execute_result"
    }
   ],
   "source": [
    "type(L2[0])"
   ]
  },
  {
   "cell_type": "markdown",
   "metadata": {},
   "source": [
    "Gracias a la tipificación dinámica de Python, podemos incluso crear listas heterogéneas:"
   ]
  },
  {
   "cell_type": "code",
   "execution_count": 5,
   "metadata": {
    "collapsed": false,
    "jupyter": {
     "outputs_hidden": false
    }
   },
   "outputs": [
    {
     "data": {
      "text/plain": [
       "[bool, str, float, int]"
      ]
     },
     "execution_count": 5,
     "metadata": {},
     "output_type": "execute_result"
    }
   ],
   "source": [
    "L3 = [True, \"2\", 3.0, 4]\n",
    "[type(item) for item in L3]"
   ]
  },
  {
   "cell_type": "markdown",
   "metadata": {},
   "source": [
    "Pero esta flexibilidad tiene un costo: para permitir estos tipos flexibles, cada elemento de la lista debe contener su propio tipo, recuento de referencias y otra información. Es decir, cada elemento es un objeto Python completo.\n",
    "En el caso especial de que todas las variables sean del mismo tipo, gran parte de esta información es redundante, por lo que puede ser mucho más eficiente almacenar los datos en una matriz de tipo fijo.\n",
    "La diferencia entre una lista de tipo dinámico y una matriz de tipo fijo (estilo NumPy) se ilustra en la siguiente figura:"
   ]
  },
  {
   "cell_type": "markdown",
   "metadata": {},
   "source": [
    "![Diseño de memoria de matriz](images/array_vs_list.png)"
   ]
  },
  {
   "cell_type": "markdown",
   "metadata": {},
   "source": [
    "En el nivel de implementación, la matriz contiene esencialmente un único puntero a un bloque de datos contiguo.\n",
    "La lista de Python, por otro lado, contiene un puntero a un bloque de punteros, cada uno de los cuales a su vez apunta a un objeto Python completo como el entero de Python que vimos anteriormente.\n",
    "Nuevamente, la ventaja de la lista es la flexibilidad: debido a que cada elemento de la lista es una estructura completa que contiene tanto datos como información de tipo, la lista se puede completar con datos de cualquier tipo deseado.\n",
    "Las matrices de tipo fijo estilo NumPy carecen de esta flexibilidad, pero son mucho más eficientes para almacenar y manipular datos."
   ]
  },
  {
   "cell_type": "markdown",
   "metadata": {},
   "source": [
    "## Matrices de tipo fijo en Python\n",
    "\n",
    "Python ofrece varias opciones diferentes para almacenar datos en buffers de datos eficientes y de tipo fijo.\n",
    "El módulo incorporado `array` (disponible desde Python 3.3) se puede utilizar para crear matrices densas de un tipo uniforme:"
   ]
  },
  {
   "cell_type": "code",
   "execution_count": 6,
   "metadata": {
    "collapsed": false,
    "jupyter": {
     "outputs_hidden": false
    }
   },
   "outputs": [
    {
     "data": {
      "text/plain": [
       "array('i', [0, 1, 2, 3, 4, 5, 6, 7, 8, 9])"
      ]
     },
     "execution_count": 6,
     "metadata": {},
     "output_type": "execute_result"
    }
   ],
   "source": [
    "import array\n",
    "L = list(range(10))\n",
    "A = array.array('i', L)\n",
    "A"
   ]
  },
  {
   "cell_type": "markdown",
   "metadata": {},
   "source": [
    "Aquí, `'i'` es un código de tipo que indica que el contenido es un número entero.\n",
    "\n",
    "Sin embargo, mucho más útil es el objeto `ndarray` del paquete NumPy.\n",
    "Mientras que el objeto `array` de Python proporciona un almacenamiento eficiente de datos basados ​​en matrices, NumPy agrega a estas *operaciones* eficientes sobre esos datos.\n",
    "Exploraremos estas operaciones en capítulos posteriores; A continuación, te mostraré algunas formas diferentes de crear una matriz NumPy."
   ]
  },
  {
   "cell_type": "markdown",
   "metadata": {},
   "source": [
    "## Creando matrices a partir de listas de Python\n",
    "\n",
    "Comenzaremos con la importación estándar de NumPy, bajo el alias `np`:"
   ]
  },
  {
   "cell_type": "code",
   "execution_count": null,
   "metadata": {},
   "outputs": [],
   "source": [
    "import numpy as np"
   ]
  },
  {
   "cell_type": "markdown",
   "metadata": {},
   "source": [
    "Ahora podemos usar `np.array` para crear matrices a partir de listas de Python:"
   ]
  },
  {
   "cell_type": "code",
   "execution_count": 8,
   "metadata": {
    "collapsed": false,
    "jupyter": {
     "outputs_hidden": false
    }
   },
   "outputs": [
    {
     "data": {
      "text/plain": [
       "array([1, 4, 2, 5, 3])"
      ]
     },
     "execution_count": 8,
     "metadata": {},
     "output_type": "execute_result"
    }
   ],
   "source": [
    "# Integer array\n",
    "np.array([1, 4, 2, 5, 3])"
   ]
  },
  {
   "cell_type": "markdown",
   "metadata": {},
   "source": [
    "Recuerde que, a diferencia de las listas de Python, las matrices NumPy solo pueden contener datos del mismo tipo.\n",
    "Si los tipos no coinciden, NumPy los actualizará de acuerdo con sus reglas de promoción de tipos; aquí, los números enteros se convierten a punto flotante:"
   ]
  },
  {
   "cell_type": "code",
   "execution_count": 9,
   "metadata": {
    "collapsed": false,
    "jupyter": {
     "outputs_hidden": false
    }
   },
   "outputs": [
    {
     "data": {
      "text/plain": [
       "array([3.14, 4.  , 2.  , 3.  ])"
      ]
     },
     "execution_count": 9,
     "metadata": {},
     "output_type": "execute_result"
    }
   ],
   "source": [
    "np.array([3.14, 4, 2, 3])"
   ]
  },
  {
   "cell_type": "markdown",
   "metadata": {},
   "source": [
    "Si queremos establecer explícitamente el tipo de datos de la matriz resultante, podemos usar la palabra clave `dtype`:"
   ]
  },
  {
   "cell_type": "code",
   "execution_count": 10,
   "metadata": {
    "collapsed": false,
    "jupyter": {
     "outputs_hidden": false
    }
   },
   "outputs": [
    {
     "data": {
      "text/plain": [
       "array([1., 2., 3., 4.], dtype=float32)"
      ]
     },
     "execution_count": 10,
     "metadata": {},
     "output_type": "execute_result"
    }
   ],
   "source": [
    "np.array([1, 2, 3, 4], dtype=np.float32)"
   ]
  },
  {
   "cell_type": "markdown",
   "metadata": {},
   "source": [
    "Finalmente, a diferencia de las listas de Python, que siempre son secuencias unidimensionales, las matrices NumPy pueden ser multidimensionales. Aquí hay una forma de inicializar una matriz multidimensional usando una lista de listas:"
   ]
  },
  {
   "cell_type": "code",
   "execution_count": 11,
   "metadata": {
    "collapsed": false,
    "jupyter": {
     "outputs_hidden": false
    }
   },
   "outputs": [
    {
     "data": {
      "text/plain": [
       "array([[2, 3, 4],\n",
       "       [4, 5, 6],\n",
       "       [6, 7, 8]])"
      ]
     },
     "execution_count": 11,
     "metadata": {},
     "output_type": "execute_result"
    }
   ],
   "source": [
    "# Nested lists result in multidimensional arrays\n",
    "np.array([range(i, i + 3) for i in [2, 4, 6]])"
   ]
  },
  {
   "cell_type": "markdown",
   "metadata": {},
   "source": [
    "Las listas internas se tratan como filas de la matriz bidimensional resultante."
   ]
  },
  {
   "cell_type": "markdown",
   "metadata": {},
   "source": [
    "## Creando matrices desde cero\n",
    "\n",
    "Especialmente para matrices más grandes, es más eficiente crear matrices desde cero utilizando rutinas integradas en NumPy.\n",
    "A continuación se muestran varios ejemplos:"
   ]
  },
  {
   "cell_type": "code",
   "execution_count": 12,
   "metadata": {
    "collapsed": false,
    "jupyter": {
     "outputs_hidden": false
    }
   },
   "outputs": [
    {
     "data": {
      "text/plain": [
       "array([0, 0, 0, 0, 0, 0, 0, 0, 0, 0])"
      ]
     },
     "execution_count": 12,
     "metadata": {},
     "output_type": "execute_result"
    }
   ],
   "source": [
    "# Create a length-10 integer array filled with 0s\n",
    "np.zeros(10, dtype=int)"
   ]
  },
  {
   "cell_type": "code",
   "execution_count": 13,
   "metadata": {
    "collapsed": false,
    "jupyter": {
     "outputs_hidden": false
    }
   },
   "outputs": [
    {
     "data": {
      "text/plain": [
       "array([[1., 1., 1., 1., 1.],\n",
       "       [1., 1., 1., 1., 1.],\n",
       "       [1., 1., 1., 1., 1.]])"
      ]
     },
     "execution_count": 13,
     "metadata": {},
     "output_type": "execute_result"
    }
   ],
   "source": [
    "# Create a 3x5 floating-point array filled with 1s\n",
    "np.ones((3, 5), dtype=float)"
   ]
  },
  {
   "cell_type": "code",
   "execution_count": 14,
   "metadata": {
    "collapsed": false,
    "jupyter": {
     "outputs_hidden": false
    }
   },
   "outputs": [
    {
     "data": {
      "text/plain": [
       "array([[3.14, 3.14, 3.14, 3.14, 3.14],\n",
       "       [3.14, 3.14, 3.14, 3.14, 3.14],\n",
       "       [3.14, 3.14, 3.14, 3.14, 3.14]])"
      ]
     },
     "execution_count": 14,
     "metadata": {},
     "output_type": "execute_result"
    }
   ],
   "source": [
    "# Create a 3x5 array filled with 3.14\n",
    "np.full((3, 5), 3.14)"
   ]
  },
  {
   "cell_type": "code",
   "execution_count": 15,
   "metadata": {
    "collapsed": false,
    "jupyter": {
     "outputs_hidden": false
    }
   },
   "outputs": [
    {
     "data": {
      "text/plain": [
       "array([ 0,  2,  4,  6,  8, 10, 12, 14, 16, 18])"
      ]
     },
     "execution_count": 15,
     "metadata": {},
     "output_type": "execute_result"
    }
   ],
   "source": [
    "# Create an array filled with a linear sequence\n",
    "# starting at 0, ending at 20, stepping by 2\n",
    "# (this is similar to the built-in range function)\n",
    "np.arange(0, 20, 2)"
   ]
  },
  {
   "cell_type": "code",
   "execution_count": 16,
   "metadata": {
    "collapsed": false,
    "jupyter": {
     "outputs_hidden": false
    }
   },
   "outputs": [
    {
     "data": {
      "text/plain": [
       "array([0.  , 0.25, 0.5 , 0.75, 1.  ])"
      ]
     },
     "execution_count": 16,
     "metadata": {},
     "output_type": "execute_result"
    }
   ],
   "source": [
    "# Create an array of five values evenly spaced between 0 and 1\n",
    "np.linspace(0, 1, 5)"
   ]
  },
  {
   "cell_type": "code",
   "execution_count": 17,
   "metadata": {
    "collapsed": false,
    "jupyter": {
     "outputs_hidden": false
    }
   },
   "outputs": [
    {
     "data": {
      "text/plain": [
       "array([[0.09610171, 0.88193001, 0.70548015],\n",
       "       [0.35885395, 0.91670468, 0.8721031 ],\n",
       "       [0.73237865, 0.09708562, 0.52506779]])"
      ]
     },
     "execution_count": 17,
     "metadata": {},
     "output_type": "execute_result"
    }
   ],
   "source": [
    "# Create a 3x3 array of uniformly distributed\n",
    "# pseudorandom values between 0 and 1\n",
    "np.random.random((3, 3))"
   ]
  },
  {
   "cell_type": "code",
   "execution_count": 18,
   "metadata": {
    "collapsed": false,
    "jupyter": {
     "outputs_hidden": false
    }
   },
   "outputs": [
    {
     "data": {
      "text/plain": [
       "array([[-0.46652655, -0.59158776, -1.05392451],\n",
       "       [-1.72634268,  0.03194069, -0.51048869],\n",
       "       [ 1.41240208,  1.77734462, -0.43820037]])"
      ]
     },
     "execution_count": 18,
     "metadata": {},
     "output_type": "execute_result"
    }
   ],
   "source": [
    "# Create a 3x3 array of normally distributed pseudorandom\n",
    "# values with mean 0 and standard deviation 1\n",
    "np.random.normal(0, 1, (3, 3))"
   ]
  },
  {
   "cell_type": "code",
   "execution_count": 19,
   "metadata": {
    "collapsed": false,
    "jupyter": {
     "outputs_hidden": false
    }
   },
   "outputs": [
    {
     "data": {
      "text/plain": [
       "array([[4, 3, 8],\n",
       "       [6, 5, 0],\n",
       "       [1, 1, 4]])"
      ]
     },
     "execution_count": 19,
     "metadata": {},
     "output_type": "execute_result"
    }
   ],
   "source": [
    "# Create a 3x3 array of pseudorandom integers in the interval [0, 10)\n",
    "np.random.randint(0, 10, (3, 3))"
   ]
  },
  {
   "cell_type": "code",
   "execution_count": 20,
   "metadata": {
    "collapsed": false,
    "jupyter": {
     "outputs_hidden": false
    }
   },
   "outputs": [
    {
     "data": {
      "text/plain": [
       "array([[1., 0., 0.],\n",
       "       [0., 1., 0.],\n",
       "       [0., 0., 1.]])"
      ]
     },
     "execution_count": 20,
     "metadata": {},
     "output_type": "execute_result"
    }
   ],
   "source": [
    "# Create a 3x3 identity matrix\n",
    "np.eye(3)"
   ]
  },
  {
   "cell_type": "code",
   "execution_count": 21,
   "metadata": {
    "collapsed": false,
    "jupyter": {
     "outputs_hidden": false
    }
   },
   "outputs": [
    {
     "data": {
      "text/plain": [
       "array([1., 1., 1.])"
      ]
     },
     "execution_count": 21,
     "metadata": {},
     "output_type": "execute_result"
    }
   ],
   "source": [
    "# Create an uninitialized array of three integers; the values will be\n",
    "# whatever happens to already exist at that memory location\n",
    "np.empty(3)"
   ]
  },
  {
   "cell_type": "markdown",
   "metadata": {},
   "source": [
    "## Tipos de datos estándar NumPy\n",
    "\n",
    "Las matrices NumPy contienen valores de un solo tipo, por lo que es importante tener un conocimiento detallado de esos tipos y sus limitaciones.\n",
    "Debido a que NumPy está construido en C, los tipos resultarán familiares para los usuarios de C, Fortran y otros lenguajes relacionados.\n",
    "\n",
    "Los tipos de datos NumPy estándar se enumeran en la siguiente tabla.\n",
    "Tenga en cuenta que al construir una matriz, se pueden especificar usando una cadena:\n",
    "\n",
    "```pitón\n",
    "np.zeros(10, dtype='int16')\n",
    "```\n",
    "\n",
    "O usando el objeto NumPy asociado:\n",
    "\n",
    "```pitón\n",
    "np.zeros(10, dtipo=np.int16)\n",
    "```"
   ]
  },
  {
   "cell_type": "markdown",
   "metadata": {},
   "source": [
    "| Tipo de datos | Descripción |\n",
    "|-------------|-------------|\n",
    "| `bool_` | Booleano (Verdadero o Falso) almacenado como un byte |\n",
    "| `int_` | Tipo entero predeterminado (igual que C `long`; normalmente `int64` o `int32`)| \n",
    "| `intc` | Idéntico a C `int` (normalmente `int32` o `int64`)| \n",
    "| `intp` | Entero utilizado para la indexación (igual que C `ssize_t`; normalmente `int32` o `int64`)| \n",
    "| `int8` | Byte (–128 ​​a 127)| \n",
    "| `int16` | Entero (–32768 a 32767)|\n",
    "| `int32` | Entero (–2147483648 a 2147483647)|\n",
    "| `int64` | Entero (–9223372036854775808 a 9223372036854775807)| \n",
    "| `uint8` | Entero sin signo (0 a 255)| \n",
    "| `uint16` | Entero sin signo (0 a 65535)| \n",
    "| `uint32` | Entero sin signo (0 a 4294967295)| \n",
    "| `uint64` | Entero sin signo (0 a 18446744073709551615)| \n",
    "| `flotar_` | Taquigrafía de `float64`| \n",
    "| `flotador16` | Flotador de media precisión: bit de signo, exponente de 5 bits, mantisa de 10 bits| \n",
    "| `flotante32` | Flotador de precisión simple: bit de signo, exponente de 8 bits, mantisa de 23 bits| \n",
    "| `flotante64` | Flotador de doble precisión: bit de signo, exponente de 11 bits, mantisa de 52 bits| \n",
    "| `complejo_` | Taquigrafía de `complejo128`| \n",
    "| `complejo64` | Número complejo, representado por dos flotantes de 32 bits| \n",
    "| `complejo128`| Número complejo, representado por dos flotantes de 64 bits|"
   ]
  },
  {
   "cell_type": "markdown",
   "metadata": {},
   "source": [
    "Es posible una especificación de tipo más avanzada, como especificar números big- o little-endian; Para obtener más información, consulte la [documentación de NumPy] (http://numpy.org/).\n",
    "NumPy también admite tipos de datos compuestos, que se tratarán en [Datos estructurados: matrices estructuradas de NumPy] (02.09-Datos-estructurados-NumPy.ipynb)."
   ]
  }
 ],
 "metadata": {
  "anaconda-cloud": {},
  "jupytext": {
   "formats": "ipynb,md"
  },
  "kernelspec": {
   "display_name": "Python 3",
   "language": "python",
   "name": "python3"
  },
  "language_info": {
   "codemirror_mode": {
    "name": "ipython",
    "version": 3
   },
   "file_extension": ".py",
   "mimetype": "text/x-python",
   "name": "python",
   "nbconvert_exporter": "python",
   "pygments_lexer": "ipython3",
   "version": "3.9.2"
  }
 },
 "nbformat": 4,
 "nbformat_minor": 4
}
