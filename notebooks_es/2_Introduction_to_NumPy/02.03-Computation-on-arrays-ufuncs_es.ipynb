{
 "cells": [
  {
   "cell_type": "markdown",
   "metadata": {},
   "source": [
    "# Computación en matrices NumPy: funciones universales"
   ]
  },
  {
   "attachments": {},
   "cell_type": "markdown",
   "metadata": {},
   "source": [
    "Hasta ahora, hemos estado discutiendo algunos de los aspectos básicos de NumPy. En los próximos capítulos, profundizaremos en las razones por las que NumPy es tan importante en el mundo de la ciencia de datos de Python: concretamente, porque proporciona una interfaz sencilla y flexible para optimizar el cálculo con matrices de datos.\n",
    "\n",
    "El cálculo en matrices NumPy puede ser muy rápido o muy lento.\n",
    "La clave para hacerlo rápido es utilizar operaciones vectorizadas, generalmente implementadas a través de las *funciones universales* (ufuncs) de NumPy.\n",
    "Este capítulo motiva la necesidad de las ufuncs de NumPy, que pueden usarse para hacer que los cálculos repetidos en elementos de una matriz sean mucho más eficientes.\n",
    "Luego presenta muchas de las funciones aritméticas más comunes y útiles disponibles en el paquete NumPy."
   ]
  },
  {
   "attachments": {},
   "cell_type": "markdown",
   "metadata": {},
   "source": [
    "## La lentitud de los bucles\n",
    "\n",
    "La implementación predeterminada de Python (conocida como CPython) realiza algunas operaciones muy lentamente.\n",
    "Esto se debe en parte a la naturaleza dinámica e interpretada del lenguaje; Los tipos son flexibles, por lo que las secuencias de operaciones no se pueden compilar en código de máquina eficiente como en lenguajes como C y Fortran.\n",
    "Recientemente ha habido varios intentos de abordar esta debilidad: ejemplos bien conocidos son el [proyecto PyPy](http://pypy.org/), una implementación compilada de Python justo a tiempo; el [proyecto Cython](http://cython.org), que convierte el código Python en código C compilable; y el [proyecto Numba] (http://numba.pydata.org/), que convierte fragmentos de código Python en código de bytes LLVM rápido.\n",
    "Cada uno de estos tiene sus fortalezas y debilidades, pero es seguro decir que ninguno de los tres enfoques ha superado aún el alcance y la popularidad del motor CPython estándar.\n",
    "\n",
    "La relativa lentitud de Python generalmente se manifiesta en situaciones en las que se repiten muchas operaciones pequeñas; por ejemplo, recorrer matrices para operar en cada elemento.\n",
    "Por ejemplo, imagina que tenemos una serie de valores y nos gustaría calcular el recíproco de cada uno.\n",
    "Un enfoque sencillo podría verse así:"
   ]
  },
  {
   "cell_type": "code",
   "execution_count": 1,
   "metadata": {
    "collapsed": false,
    "jupyter": {
     "outputs_hidden": false
    }
   },
   "outputs": [
    {
     "data": {
      "text/plain": [
       "array([0.11111111, 0.25      , 1.        , 0.33333333, 0.125     ])"
      ]
     },
     "execution_count": 1,
     "metadata": {},
     "output_type": "execute_result"
    }
   ],
   "source": [
    "import numpy as np\n",
    "rng = np.random.default_rng(seed=1701)\n",
    "\n",
    "def compute_reciprocals(values):\n",
    "    output = np.empty(len(values))\n",
    "    for i in range(len(values)):\n",
    "        output[i] = 1.0 / values[i]\n",
    "    return output\n",
    "        \n",
    "values = rng.integers(1, 10, size=5)\n",
    "compute_reciprocals(values)"
   ]
  },
  {
   "cell_type": "markdown",
   "metadata": {},
   "source": [
    "Esta implementación probablemente le parezca bastante natural a alguien con experiencia en C o Java, por ejemplo.\n",
    "Pero si medimos el tiempo de ejecución de este código para una entrada grande, vemos que esta operación es muy lenta, ¡tal vez sorprendentemente!\n",
    "Compararemos esto con la magia `%timeit` de IPython (que se analiza en [Código de creación de perfiles y sincronización] (01.07-Timing-and-Profiling.ipynb)):"
   ]
  },
  {
   "cell_type": "code",
   "execution_count": 2,
   "metadata": {
    "collapsed": false,
    "jupyter": {
     "outputs_hidden": false
    }
   },
   "outputs": [
    {
     "name": "stdout",
     "output_type": "stream",
     "text": [
      "2.61 s ± 192 ms per loop (mean ± std. dev. of 7 runs, 1 loop each)\n"
     ]
    }
   ],
   "source": [
    "big_array = rng.integers(1, 100, size=1000000)\n",
    "%timeit compute_reciprocals(big_array)"
   ]
  },
  {
   "cell_type": "markdown",
   "metadata": {},
   "source": [
    "¡Se necesitan varios segundos para calcular estos millones de operaciones y almacenar el resultado!\n",
    "Cuando incluso los teléfonos móviles tienen velocidades de procesamiento medidas en gigaflops (es decir, miles de millones de operaciones numéricas por segundo), esto parece casi absurdamente lento.\n",
    "Resulta que el cuello de botella aquí no son las operaciones en sí, sino la verificación de tipos y los envíos de funciones que CPython debe realizar en cada ciclo del ciclo.\n",
    "Cada vez que se calcula el recíproco, Python primero examina el tipo de objeto y realiza una búsqueda dinámica de la función correcta a utilizar para ese tipo.\n",
    "Si, en cambio, estuviéramos trabajando en código compilado, esta especificación de tipo se conocería antes de que se ejecutara el código y el resultado podría calcularse de manera mucho más eficiente."
   ]
  },
  {
   "cell_type": "markdown",
   "metadata": {},
   "source": [
    "## Presentamos Ufuncs\n",
    "\n",
    "Para muchos tipos de operaciones, NumPy proporciona una interfaz conveniente para este tipo de rutina compilada y escrita estáticamente. Esto se conoce como operación *vectorizada*.\n",
    "Para operaciones simples como la división por elementos aquí, la vectorización es tan simple como usar operadores aritméticos de Python directamente en el objeto de matriz.\n",
    "Este enfoque vectorizado está diseñado para empujar el bucle hacia la capa compilada que subyace a NumPy, lo que lleva a una ejecución mucho más rápida.\n",
    "\n",
    "Compare los resultados de las dos operaciones siguientes:"
   ]
  },
  {
   "cell_type": "code",
   "execution_count": 3,
   "metadata": {
    "collapsed": false,
    "jupyter": {
     "outputs_hidden": false
    }
   },
   "outputs": [
    {
     "name": "stdout",
     "output_type": "stream",
     "text": [
      "[0.11111111 0.25       1.         0.33333333 0.125     ]\n",
      "[0.11111111 0.25       1.         0.33333333 0.125     ]\n"
     ]
    }
   ],
   "source": [
    "print(compute_reciprocals(values))\n",
    "print(1.0 / values)"
   ]
  },
  {
   "cell_type": "markdown",
   "metadata": {},
   "source": [
    "Al observar el tiempo de ejecución de nuestra gran matriz, vemos que completa órdenes de magnitud más rápido que el bucle de Python:"
   ]
  },
  {
   "cell_type": "code",
   "execution_count": 4,
   "metadata": {
    "collapsed": false,
    "jupyter": {
     "outputs_hidden": false
    }
   },
   "outputs": [
    {
     "name": "stdout",
     "output_type": "stream",
     "text": [
      "2.54 ms ± 383 µs per loop (mean ± std. dev. of 7 runs, 100 loops each)\n"
     ]
    }
   ],
   "source": [
    "%timeit (1.0 / big_array)"
   ]
  },
  {
   "cell_type": "markdown",
   "metadata": {},
   "source": [
    "Las operaciones vectorizadas en NumPy se implementan a través de ufuncs, cuyo objetivo principal es ejecutar rápidamente operaciones repetidas sobre valores en matrices NumPy.\n",
    "Las Ufuncs son extremadamente flexibles; antes vimos una operación entre un escalar y una matriz, pero también podemos operar entre dos matrices:"
   ]
  },
  {
   "cell_type": "code",
   "execution_count": 5,
   "metadata": {
    "collapsed": false,
    "jupyter": {
     "outputs_hidden": false
    }
   },
   "outputs": [
    {
     "data": {
      "text/plain": [
       "array([0.        , 0.5       , 0.66666667, 0.75      , 0.8       ])"
      ]
     },
     "execution_count": 5,
     "metadata": {},
     "output_type": "execute_result"
    }
   ],
   "source": [
    "np.arange(5) / np.arange(1, 6)"
   ]
  },
  {
   "cell_type": "markdown",
   "metadata": {},
   "source": [
    "Y las operaciones ufunc no se limitan a matrices unidimensionales. También pueden actuar sobre matrices multidimensionales:"
   ]
  },
  {
   "cell_type": "code",
   "execution_count": 6,
   "metadata": {
    "collapsed": false,
    "jupyter": {
     "outputs_hidden": false
    }
   },
   "outputs": [
    {
     "data": {
      "text/plain": [
       "array([[  1,   2,   4],\n",
       "       [  8,  16,  32],\n",
       "       [ 64, 128, 256]])"
      ]
     },
     "execution_count": 6,
     "metadata": {},
     "output_type": "execute_result"
    }
   ],
   "source": [
    "x = np.arange(9).reshape((3, 3))\n",
    "2 ** x"
   ]
  },
  {
   "cell_type": "markdown",
   "metadata": {},
   "source": [
    "Los cálculos que utilizan la vectorización a través de ufuncs son casi siempre más eficientes que sus contrapartes implementadas usando bucles de Python, especialmente a medida que las matrices crecen en tamaño.\n",
    "Cada vez que vea un bucle de este tipo en un script NumPy, debe considerar si se puede reemplazar con una expresión vectorizada."
   ]
  },
  {
   "cell_type": "markdown",
   "metadata": {},
   "source": [
    "## Explorando las funciones de NumPy\n",
    "\n",
    "Las ufuncs existen en dos tipos: *ufuncs unarias*, que operan en una sola entrada, y *ufuncs binarias*, que operan en dos entradas.\n",
    "Veremos ejemplos de ambos tipos de funciones aquí."
   ]
  },
  {
   "cell_type": "markdown",
   "metadata": {},
   "source": [
    "### Aritmética de matrices\n",
    "\n",
    "Las ufuncs de NumPy resultan muy naturales de usar porque utilizan los operadores aritméticos nativos de Python.\n",
    "Se pueden utilizar la suma, resta, multiplicación y división estándar:"
   ]
  },
  {
   "cell_type": "code",
   "execution_count": 7,
   "metadata": {
    "collapsed": false,
    "jupyter": {
     "outputs_hidden": false
    }
   },
   "outputs": [
    {
     "name": "stdout",
     "output_type": "stream",
     "text": [
      "x      = [0 1 2 3]\n",
      "x + 5  = [5 6 7 8]\n",
      "x - 5  = [-5 -4 -3 -2]\n",
      "x * 2  = [0 2 4 6]\n",
      "x / 2  = [0.  0.5 1.  1.5]\n",
      "x // 2 = [0 0 1 1]\n"
     ]
    }
   ],
   "source": [
    "x = np.arange(4)\n",
    "print(\"x      =\", x)\n",
    "print(\"x + 5  =\", x + 5)\n",
    "print(\"x - 5  =\", x - 5)\n",
    "print(\"x * 2  =\", x * 2)\n",
    "print(\"x / 2  =\", x / 2)\n",
    "print(\"x // 2 =\", x // 2)  # floor division"
   ]
  },
  {
   "cell_type": "markdown",
   "metadata": {},
   "source": [
    "También hay una ufunc unaria para negación, un operador `**` para exponenciación y un operador `%` para módulo:"
   ]
  },
  {
   "cell_type": "code",
   "execution_count": 8,
   "metadata": {
    "collapsed": false,
    "jupyter": {
     "outputs_hidden": false
    }
   },
   "outputs": [
    {
     "name": "stdout",
     "output_type": "stream",
     "text": [
      "-x     =  [ 0 -1 -2 -3]\n",
      "x ** 2 =  [0 1 4 9]\n",
      "x % 2  =  [0 1 0 1]\n"
     ]
    }
   ],
   "source": [
    "print(\"-x     = \", -x)\n",
    "print(\"x ** 2 = \", x ** 2)\n",
    "print(\"x % 2  = \", x % 2)"
   ]
  },
  {
   "cell_type": "markdown",
   "metadata": {},
   "source": [
    "Además, se pueden unir como se desee y se respeta el orden estándar de operaciones:"
   ]
  },
  {
   "cell_type": "code",
   "execution_count": 9,
   "metadata": {
    "collapsed": false,
    "jupyter": {
     "outputs_hidden": false
    }
   },
   "outputs": [
    {
     "data": {
      "text/plain": [
       "array([-1.  , -2.25, -4.  , -6.25])"
      ]
     },
     "execution_count": 9,
     "metadata": {},
     "output_type": "execute_result"
    }
   ],
   "source": [
    "-(0.5*x + 1) ** 2"
   ]
  },
  {
   "cell_type": "markdown",
   "metadata": {},
   "source": [
    "Todas estas operaciones aritméticas son simplemente envoltorios convenientes para ufuncs específicas integradas en NumPy. Por ejemplo, el operador `+` es un contenedor para la ufunc `add`:"
   ]
  },
  {
   "cell_type": "code",
   "execution_count": 10,
   "metadata": {
    "collapsed": false,
    "jupyter": {
     "outputs_hidden": false
    }
   },
   "outputs": [
    {
     "data": {
      "text/plain": [
       "array([2, 3, 4, 5])"
      ]
     },
     "execution_count": 10,
     "metadata": {},
     "output_type": "execute_result"
    }
   ],
   "source": [
    "np.add(x, 2)"
   ]
  },
  {
   "cell_type": "markdown",
   "metadata": {},
   "source": [
    "La siguiente tabla enumera los operadores aritméticos implementados en NumPy:\n",
    "\n",
    "| Operador | Ufunc equivalente | Descripción |\n",
    "|-------------|-------------------|--------------- ----------------------|\n",
    "|`+` |`np.add` |Suma (por ejemplo, `1 + 1 = 2`) |\n",
    "|`-` |`np.subtract` |Resta (por ejemplo, `3 - 2 = 1`) |\n",
    "|`-` |`np.negative` |Negación unaria (p. ej., `-2`) |\n",
    "|`*` |`np.multiply` |Multiplicación (por ejemplo, `2 * 3 = 6`) |\n",
    "|`/` |`np.divide` |División (p. ej., `3/2 = 1,5`) |\n",
    "|`//` |`np.floor_divide` |División del piso (por ejemplo, `3 // 2 = 1`) |\n",
    "|`**` |`np.power` |Exponciación (p. ej., `2 ** 3 = 8`) |\n",
    "|`%` |`np.mod` |Módulo/resto (por ejemplo, `9 % 4 = 1`)|\n",
    "\n",
    "Además, existen operadores booleanos/bit a bit; los exploraremos en [Comparaciones, máscaras y lógica booleana] (02.06-Boolean-Arrays-and-Masks.ipynb)."
   ]
  },
  {
   "cell_type": "markdown",
   "metadata": {},
   "source": [
    "### Valor absoluto\n",
    "\n",
    "Así como NumPy comprende los operadores aritméticos integrados de Python, también comprende la función de valor absoluto integrada de Python:"
   ]
  },
  {
   "cell_type": "code",
   "execution_count": 11,
   "metadata": {
    "collapsed": false,
    "jupyter": {
     "outputs_hidden": false
    }
   },
   "outputs": [
    {
     "data": {
      "text/plain": [
       "array([2, 1, 0, 1, 2])"
      ]
     },
     "execution_count": 11,
     "metadata": {},
     "output_type": "execute_result"
    }
   ],
   "source": [
    "x = np.array([-2, -1, 0, 1, 2])\n",
    "abs(x)"
   ]
  },
  {
   "cell_type": "markdown",
   "metadata": {},
   "source": [
    "La ufunc NumPy correspondiente es `np.absolute`, que también está disponible bajo el alias `np.abs`:"
   ]
  },
  {
   "cell_type": "code",
   "execution_count": 12,
   "metadata": {
    "collapsed": false,
    "jupyter": {
     "outputs_hidden": false
    }
   },
   "outputs": [
    {
     "data": {
      "text/plain": [
       "array([2, 1, 0, 1, 2])"
      ]
     },
     "execution_count": 12,
     "metadata": {},
     "output_type": "execute_result"
    }
   ],
   "source": [
    "np.absolute(x)"
   ]
  },
  {
   "cell_type": "code",
   "execution_count": 13,
   "metadata": {
    "collapsed": false,
    "jupyter": {
     "outputs_hidden": false
    }
   },
   "outputs": [
    {
     "data": {
      "text/plain": [
       "array([2, 1, 0, 1, 2])"
      ]
     },
     "execution_count": 13,
     "metadata": {},
     "output_type": "execute_result"
    }
   ],
   "source": [
    "np.abs(x)"
   ]
  },
  {
   "cell_type": "markdown",
   "metadata": {},
   "source": [
    "Este ufunc también puede manejar datos complejos, en cuyo caso devuelve la magnitud:"
   ]
  },
  {
   "cell_type": "code",
   "execution_count": 14,
   "metadata": {
    "collapsed": false,
    "jupyter": {
     "outputs_hidden": false
    }
   },
   "outputs": [
    {
     "data": {
      "text/plain": [
       "array([5., 5., 2., 1.])"
      ]
     },
     "execution_count": 14,
     "metadata": {},
     "output_type": "execute_result"
    }
   ],
   "source": [
    "x = np.array([3 - 4j, 4 - 3j, 2 + 0j, 0 + 1j])\n",
    "np.abs(x)"
   ]
  },
  {
   "cell_type": "markdown",
   "metadata": {},
   "source": [
    "### Funciones trigonométricas\n",
    "\n",
    "NumPy proporciona una gran cantidad de funciones útiles, y algunas de las más útiles para el científico de datos son las funciones trigonométricas.\n",
    "Comenzaremos definiendo una serie de ángulos:"
   ]
  },
  {
   "cell_type": "code",
   "execution_count": 15,
   "metadata": {
    "collapsed": false,
    "jupyter": {
     "outputs_hidden": false
    }
   },
   "outputs": [],
   "source": [
    "theta = np.linspace(0, np.pi, 3)"
   ]
  },
  {
   "cell_type": "markdown",
   "metadata": {},
   "source": [
    "Ahora podemos calcular algunas funciones trigonométricas con estos valores:"
   ]
  },
  {
   "cell_type": "code",
   "execution_count": 16,
   "metadata": {
    "collapsed": false,
    "jupyter": {
     "outputs_hidden": false
    }
   },
   "outputs": [
    {
     "name": "stdout",
     "output_type": "stream",
     "text": [
      "theta      =  [0.         1.57079633 3.14159265]\n",
      "sin(theta) =  [0.0000000e+00 1.0000000e+00 1.2246468e-16]\n",
      "cos(theta) =  [ 1.000000e+00  6.123234e-17 -1.000000e+00]\n",
      "tan(theta) =  [ 0.00000000e+00  1.63312394e+16 -1.22464680e-16]\n"
     ]
    }
   ],
   "source": [
    "print(\"theta      = \", theta)\n",
    "print(\"sin(theta) = \", np.sin(theta))\n",
    "print(\"cos(theta) = \", np.cos(theta))\n",
    "print(\"tan(theta) = \", np.tan(theta))"
   ]
  },
  {
   "cell_type": "markdown",
   "metadata": {},
   "source": [
    "Los valores se calculan dentro de la precisión de la máquina, razón por la cual los valores que deberían ser cero no siempre llegan exactamente a cero.\n",
    "También están disponibles funciones trigonométricas inversas:"
   ]
  },
  {
   "cell_type": "code",
   "execution_count": 17,
   "metadata": {
    "collapsed": false,
    "jupyter": {
     "outputs_hidden": false
    }
   },
   "outputs": [
    {
     "name": "stdout",
     "output_type": "stream",
     "text": [
      "x         =  [-1, 0, 1]\n",
      "arcsin(x) =  [-1.57079633  0.          1.57079633]\n",
      "arccos(x) =  [3.14159265 1.57079633 0.        ]\n",
      "arctan(x) =  [-0.78539816  0.          0.78539816]\n"
     ]
    }
   ],
   "source": [
    "x = [-1, 0, 1]\n",
    "print(\"x         = \", x)\n",
    "print(\"arcsin(x) = \", np.arcsin(x))\n",
    "print(\"arccos(x) = \", np.arccos(x))\n",
    "print(\"arctan(x) = \", np.arctan(x))"
   ]
  },
  {
   "cell_type": "markdown",
   "metadata": {},
   "source": [
    "### Exponentes y logaritmos\n",
    "\n",
    "Otras operaciones comunes disponibles en NumPy ufuncs son las exponenciales:"
   ]
  },
  {
   "cell_type": "code",
   "execution_count": 18,
   "metadata": {
    "collapsed": false,
    "jupyter": {
     "outputs_hidden": false
    }
   },
   "outputs": [
    {
     "name": "stdout",
     "output_type": "stream",
     "text": [
      "x   = [1, 2, 3]\n",
      "e^x = [ 2.71828183  7.3890561  20.08553692]\n",
      "2^x = [2. 4. 8.]\n",
      "3^x = [ 3.  9. 27.]\n"
     ]
    }
   ],
   "source": [
    "x = [1, 2, 3]\n",
    "print(\"x   =\", x)\n",
    "print(\"e^x =\", np.exp(x))\n",
    "print(\"2^x =\", np.exp2(x))\n",
    "print(\"3^x =\", np.power(3., x))"
   ]
  },
  {
   "cell_type": "markdown",
   "metadata": {},
   "source": [
    "También están disponibles los inversos de las exponenciales, los logaritmos.\n",
    "El `np.log` básico proporciona el logaritmo natural; Si prefiere calcular el logaritmo de base 2 o el logaritmo de base 10, también están disponibles:"
   ]
  },
  {
   "cell_type": "code",
   "execution_count": 19,
   "metadata": {
    "collapsed": false,
    "jupyter": {
     "outputs_hidden": false
    }
   },
   "outputs": [
    {
     "name": "stdout",
     "output_type": "stream",
     "text": [
      "x        = [1, 2, 4, 10]\n",
      "ln(x)    = [0.         0.69314718 1.38629436 2.30258509]\n",
      "log2(x)  = [0.         1.         2.         3.32192809]\n",
      "log10(x) = [0.         0.30103    0.60205999 1.        ]\n"
     ]
    }
   ],
   "source": [
    "x = [1, 2, 4, 10]\n",
    "print(\"x        =\", x)\n",
    "print(\"ln(x)    =\", np.log(x))\n",
    "print(\"log2(x)  =\", np.log2(x))\n",
    "print(\"log10(x) =\", np.log10(x))"
   ]
  },
  {
   "cell_type": "markdown",
   "metadata": {},
   "source": [
    "También existen algunas versiones especializadas que son útiles para mantener la precisión con entradas muy pequeñas:"
   ]
  },
  {
   "cell_type": "code",
   "execution_count": 20,
   "metadata": {
    "collapsed": false,
    "jupyter": {
     "outputs_hidden": false
    }
   },
   "outputs": [
    {
     "name": "stdout",
     "output_type": "stream",
     "text": [
      "exp(x) - 1 = [0.         0.0010005  0.01005017 0.10517092]\n",
      "log(1 + x) = [0.         0.0009995  0.00995033 0.09531018]\n"
     ]
    }
   ],
   "source": [
    "x = [0, 0.001, 0.01, 0.1]\n",
    "print(\"exp(x) - 1 =\", np.expm1(x))\n",
    "print(\"log(1 + x) =\", np.log1p(x))"
   ]
  },
  {
   "cell_type": "markdown",
   "metadata": {},
   "source": [
    "Cuando `x` es muy pequeño, estas funciones dan valores más precisos que si se usaran `np.log` o `np.exp` sin formato."
   ]
  },
  {
   "cell_type": "markdown",
   "metadata": {},
   "source": [
    "### Funciones especializadas\n",
    "\n",
    "NumPy tiene muchas más funciones disponibles, incluidas trigonometría hiperbólica, aritmética bit a bit, operaciones de comparación, conversiones de radianes a grados, redondeo y residuos, y mucho más.\n",
    "Una mirada a la documentación de NumPy revela muchas funciones interesantes.\n",
    "\n",
    "Otra excelente fuente de ufuncs más especializados es el submódulo `scipy.special`.\n",
    "Si desea calcular alguna función matemática oscura con sus datos, es probable que esté implementada en `scipy.special`.\n",
    "Hay demasiadas funciones para enumerarlas todas, pero el siguiente fragmento muestra un par que podrían surgir en un contexto estadístico:"
   ]
  },
  {
   "cell_type": "code",
   "execution_count": 21,
   "metadata": {
    "collapsed": false,
    "jupyter": {
     "outputs_hidden": false
    }
   },
   "outputs": [],
   "source": [
    "from scipy import special"
   ]
  },
  {
   "cell_type": "code",
   "execution_count": 22,
   "metadata": {
    "collapsed": false,
    "jupyter": {
     "outputs_hidden": false
    }
   },
   "outputs": [
    {
     "name": "stdout",
     "output_type": "stream",
     "text": [
      "gamma(x)     = [1.0000e+00 2.4000e+01 3.6288e+05]\n",
      "ln|gamma(x)| = [ 0.          3.17805383 12.80182748]\n",
      "beta(x, 2)   = [0.5        0.03333333 0.00909091]\n"
     ]
    }
   ],
   "source": [
    "# Gamma functions (generalized factorials) and related functions\n",
    "x = [1, 5, 10]\n",
    "print(\"gamma(x)     =\", special.gamma(x))\n",
    "print(\"ln|gamma(x)| =\", special.gammaln(x))\n",
    "print(\"beta(x, 2)   =\", special.beta(x, 2))"
   ]
  },
  {
   "cell_type": "code",
   "execution_count": 23,
   "metadata": {
    "collapsed": false,
    "jupyter": {
     "outputs_hidden": false
    }
   },
   "outputs": [
    {
     "name": "stdout",
     "output_type": "stream",
     "text": [
      "erf(x)  = [0.         0.32862676 0.67780119 0.84270079]\n",
      "erfc(x) = [1.         0.67137324 0.32219881 0.15729921]\n",
      "erfinv(x) = [0.         0.27246271 0.73286908        inf]\n"
     ]
    }
   ],
   "source": [
    "# Error function (integral of Gaussian),\n",
    "# its complement, and its inverse\n",
    "x = np.array([0, 0.3, 0.7, 1.0])\n",
    "print(\"erf(x)  =\", special.erf(x))\n",
    "print(\"erfc(x) =\", special.erfc(x))\n",
    "print(\"erfinv(x) =\", special.erfinv(x))"
   ]
  },
  {
   "cell_type": "markdown",
   "metadata": {},
   "source": [
    "Hay muchas, muchas más funciones disponibles tanto en NumPy como en `scipy.special`.\n",
    "Debido a que la documentación de estos paquetes está disponible en línea, una búsqueda en la web como \"función gamma python\" generalmente encontrará la información relevante."
   ]
  },
  {
   "cell_type": "markdown",
   "metadata": {},
   "source": [
    "## Funciones avanzadas de Ufunc\n",
    "\n",
    "Muchos usuarios de NumPy utilizan ufuncs sin siquiera conocer su conjunto completo de funciones.\n",
    "Aquí describiré algunas características especializadas de ufuncs."
   ]
  },
  {
   "cell_type": "markdown",
   "metadata": {},
   "source": [
    "### Especificación de salida\n",
    "\n",
    "Para cálculos grandes, a veces resulta útil poder especificar la matriz donde se almacenará el resultado del cálculo.\n",
    "Para todas las ufuncs, esto se puede hacer usando el argumento `out` de la función:"
   ]
  },
  {
   "cell_type": "code",
   "execution_count": 24,
   "metadata": {
    "collapsed": false,
    "jupyter": {
     "outputs_hidden": false
    }
   },
   "outputs": [
    {
     "name": "stdout",
     "output_type": "stream",
     "text": [
      "[ 0. 10. 20. 30. 40.]\n"
     ]
    }
   ],
   "source": [
    "x = np.arange(5)\n",
    "y = np.empty(5)\n",
    "np.multiply(x, 10, out=y)\n",
    "print(y)"
   ]
  },
  {
   "cell_type": "markdown",
   "metadata": {},
   "source": [
    "Esto incluso se puede utilizar con vistas de matriz. Por ejemplo, podemos escribir los resultados de un cálculo en cualquier otro elemento de una matriz especificada:"
   ]
  },
  {
   "cell_type": "code",
   "execution_count": 25,
   "metadata": {
    "collapsed": false,
    "jupyter": {
     "outputs_hidden": false
    }
   },
   "outputs": [
    {
     "name": "stdout",
     "output_type": "stream",
     "text": [
      "[ 1.  0.  2.  0.  4.  0.  8.  0. 16.  0.]\n"
     ]
    }
   ],
   "source": [
    "y = np.zeros(10)\n",
    "np.power(2, x, out=y[::2])\n",
    "print(y)"
   ]
  },
  {
   "cell_type": "markdown",
   "metadata": {},
   "source": [
    "Si en lugar de eso hubiéramos escrito `y[::2] = 2 ** x`, esto habría resultado en la creación de una matriz temporal para contener los resultados de `2 ** x`, seguida de una segunda operación copiando esos valores. en la matriz `y`.\n",
    "Esto no supone una gran diferencia para un cálculo tan pequeño, pero para matrices muy grandes el ahorro de memoria gracias al uso cuidadoso del argumento \"out\" puede ser significativo."
   ]
  },
  {
   "cell_type": "markdown",
   "metadata": {},
   "source": [
    "### Agregaciones\n",
    "\n",
    "Para ufuncs binarios, las agregaciones se pueden calcular directamente desde el objeto.\n",
    "Por ejemplo, si queremos *reducir* una matriz con una operación particular, podemos usar el método `reducir` de cualquier ufunc.\n",
    "Una reducción aplica repetidamente una operación determinada a los elementos de una matriz hasta que solo queda un resultado.\n",
    "\n",
    "Por ejemplo, llamar a `reduce` en la ufunc `add` devuelve la suma de todos los elementos de la matriz:"
   ]
  },
  {
   "cell_type": "code",
   "execution_count": 26,
   "metadata": {
    "collapsed": false,
    "jupyter": {
     "outputs_hidden": false
    }
   },
   "outputs": [
    {
     "data": {
      "text/plain": [
       "15"
      ]
     },
     "execution_count": 26,
     "metadata": {},
     "output_type": "execute_result"
    }
   ],
   "source": [
    "x = np.arange(1, 6)\n",
    "np.add.reduce(x)"
   ]
  },
  {
   "cell_type": "markdown",
   "metadata": {},
   "source": [
    "De manera similar, llamar a \"reducir\" en la ufunc \"multiplicar\" da como resultado el producto de todos los elementos de la matriz:"
   ]
  },
  {
   "cell_type": "code",
   "execution_count": 27,
   "metadata": {
    "collapsed": false,
    "jupyter": {
     "outputs_hidden": false
    }
   },
   "outputs": [
    {
     "data": {
      "text/plain": [
       "120"
      ]
     },
     "execution_count": 27,
     "metadata": {},
     "output_type": "execute_result"
    }
   ],
   "source": [
    "np.multiply.reduce(x)"
   ]
  },
  {
   "cell_type": "markdown",
   "metadata": {},
   "source": [
    "Si queremos almacenar todos los resultados intermedios del cálculo, podemos usar `acumular`:"
   ]
  },
  {
   "cell_type": "code",
   "execution_count": 28,
   "metadata": {
    "collapsed": false,
    "jupyter": {
     "outputs_hidden": false
    }
   },
   "outputs": [
    {
     "data": {
      "text/plain": [
       "array([ 1,  3,  6, 10, 15])"
      ]
     },
     "execution_count": 28,
     "metadata": {},
     "output_type": "execute_result"
    }
   ],
   "source": [
    "np.add.accumulate(x)"
   ]
  },
  {
   "cell_type": "code",
   "execution_count": 29,
   "metadata": {
    "collapsed": false,
    "jupyter": {
     "outputs_hidden": false
    }
   },
   "outputs": [
    {
     "data": {
      "text/plain": [
       "array([  1,   2,   6,  24, 120])"
      ]
     },
     "execution_count": 29,
     "metadata": {},
     "output_type": "execute_result"
    }
   ],
   "source": [
    "np.multiply.accumulate(x)"
   ]
  },
  {
   "cell_type": "markdown",
   "metadata": {},
   "source": [
    "Tenga en cuenta que para estos casos particulares, existen funciones NumPy dedicadas para calcular los resultados (`np.sum`, `np.prod`, `np.cumsum`, `np.cumprod`), que exploraremos en [Agregaciones : Mínimo, máximo y todo lo intermedio] (02.04-Computación-en-arrays-aggregates.ipynb)."
   ]
  },
  {
   "cell_type": "markdown",
   "metadata": {},
   "source": [
    "### Productos externos\n",
    "\n",
    "Finalmente, cualquier ufunc puede calcular la salida de todos los pares de dos entradas diferentes usando el método \"externo\".\n",
    "Esto le permite, en una línea, hacer cosas como crear una tabla de multiplicar:"
   ]
  },
  {
   "cell_type": "code",
   "execution_count": 30,
   "metadata": {
    "collapsed": false,
    "jupyter": {
     "outputs_hidden": false
    },
    "scrolled": true
   },
   "outputs": [
    {
     "data": {
      "text/plain": [
       "array([[ 1,  2,  3,  4,  5],\n",
       "       [ 2,  4,  6,  8, 10],\n",
       "       [ 3,  6,  9, 12, 15],\n",
       "       [ 4,  8, 12, 16, 20],\n",
       "       [ 5, 10, 15, 20, 25]])"
      ]
     },
     "execution_count": 30,
     "metadata": {},
     "output_type": "execute_result"
    }
   ],
   "source": [
    "x = np.arange(1, 6)\n",
    "np.multiply.outer(x, x)"
   ]
  },
  {
   "cell_type": "markdown",
   "metadata": {},
   "source": [
    "Los métodos `ufunc.at` y `ufunc.reduceat` también son útiles y los exploraremos en [Fancy Indexing](02.07-Fancy-Indexing.ipynb).\n",
    "\n",
    "También encontraremos la capacidad de ufuncs para operar entre matrices de diferentes formas y tamaños, un conjunto de operaciones conocidas como *difusión*.\n",
    "Este tema es lo suficientemente importante como para dedicarle un capítulo completo (consulte [Computación en matrices: transmisión] (02.05-Computación-en-arrays-broadcasting.ipynb))."
   ]
  },
  {
   "cell_type": "markdown",
   "metadata": {},
   "source": [
    "## Ufuncs: aprender más"
   ]
  },
  {
   "cell_type": "markdown",
   "metadata": {},
   "source": [
    "Puede encontrar más información sobre funciones universales (incluida la lista completa de funciones disponibles) en los sitios web de documentación [NumPy](http://www.numpy.org) y [SciPy](http://www.scipy.org) .\n",
    "\n",
    "Recuerde que también puede acceder a la información directamente desde IPython importando los paquetes y utilizando la funcionalidad de ayuda y finalización de pestañas de IPython (`?`), como se describe en [Ayuda y documentación en IPython] (01.01-Ayuda-y-Documentación.ipynb) ."
   ]
  }
 ],
 "metadata": {
  "anaconda-cloud": {},
  "jupytext": {
   "formats": "ipynb,md"
  },
  "kernelspec": {
   "display_name": "Python 3",
   "language": "python",
   "name": "python3"
  },
  "language_info": {
   "codemirror_mode": {
    "name": "ipython",
    "version": 3
   },
   "file_extension": ".py",
   "mimetype": "text/x-python",
   "name": "python",
   "nbconvert_exporter": "python",
   "pygments_lexer": "ipython3",
   "version": "3.9.2"
  }
 },
 "nbformat": 4,
 "nbformat_minor": 4
}
