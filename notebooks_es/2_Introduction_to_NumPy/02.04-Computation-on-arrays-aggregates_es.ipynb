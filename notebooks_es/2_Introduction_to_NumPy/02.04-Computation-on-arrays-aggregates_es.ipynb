{
 "cells": [
  {
   "cell_type": "markdown",
   "metadata": {},
   "source": [
    "# Agregaciones: mínima, máxima y todo lo demás"
   ]
  },
  {
   "cell_type": "markdown",
   "metadata": {},
   "source": [
    "Un primer paso para explorar cualquier conjunto de datos suele ser calcular varias estadísticas resumidas.\n",
    "Quizás las estadísticas de resumen más comunes son la media y la desviación estándar, que le permiten resumir los valores \"típicos\" en un conjunto de datos, pero también son útiles otras agregaciones (la suma, el producto, la mediana, el mínimo y el máximo, los cuantiles, etc.). ).\n",
    "\n",
    "NumPy tiene funciones de agregación rápidas integradas para trabajar en matrices; Discutiremos y probaremos algunos de ellos aquí."
   ]
  },
  {
   "cell_type": "markdown",
   "metadata": {},
   "source": [
    "## Sumar los valores en una matriz\n",
    "\n",
    "Como ejemplo rápido, considere calcular la suma de todos los valores en una matriz.\n",
    "El propio Python puede hacer esto usando la función incorporada `suma`:"
   ]
  },
  {
   "cell_type": "code",
   "execution_count": 1,
   "metadata": {
    "collapsed": false,
    "jupyter": {
     "outputs_hidden": false
    }
   },
   "outputs": [],
   "source": [
    "import numpy as np\n",
    "rng = np.random.default_rng()"
   ]
  },
  {
   "cell_type": "code",
   "execution_count": 2,
   "metadata": {
    "collapsed": false,
    "jupyter": {
     "outputs_hidden": false
    }
   },
   "outputs": [
    {
     "data": {
      "text/plain": [
       "52.76825337322368"
      ]
     },
     "execution_count": 2,
     "metadata": {},
     "output_type": "execute_result"
    }
   ],
   "source": [
    "L = rng.random(100)\n",
    "sum(L)"
   ]
  },
  {
   "cell_type": "markdown",
   "metadata": {},
   "source": [
    "La sintaxis es bastante similar a la de la función `suma` de NumPy, y el resultado es el mismo en el caso más simple:"
   ]
  },
  {
   "cell_type": "code",
   "execution_count": 3,
   "metadata": {
    "collapsed": false,
    "jupyter": {
     "outputs_hidden": false
    }
   },
   "outputs": [
    {
     "data": {
      "text/plain": [
       "52.76825337322366"
      ]
     },
     "execution_count": 3,
     "metadata": {},
     "output_type": "execute_result"
    }
   ],
   "source": [
    "np.sum(L)"
   ]
  },
  {
   "cell_type": "markdown",
   "metadata": {},
   "source": [
    "Sin embargo, debido a que ejecuta la operación en código compilado, la versión de la operación de NumPy se calcula mucho más rápidamente:"
   ]
  },
  {
   "cell_type": "code",
   "execution_count": 4,
   "metadata": {
    "collapsed": false,
    "jupyter": {
     "outputs_hidden": false
    }
   },
   "outputs": [
    {
     "name": "stdout",
     "output_type": "stream",
     "text": [
      "89.9 ms ± 233 µs per loop (mean ± std. dev. of 7 runs, 10 loops each)\n",
      "521 µs ± 8.37 µs per loop (mean ± std. dev. of 7 runs, 1000 loops each)\n"
     ]
    }
   ],
   "source": [
    "big_array = rng.random(1000000)\n",
    "%timeit sum(big_array)\n",
    "%timeit np.sum(big_array)"
   ]
  },
  {
   "cell_type": "markdown",
   "metadata": {},
   "source": [
    "Pero tenga cuidado: la función `sum` y la función `np.sum` no son idénticas, lo que a veces puede generar confusión.\n",
    "En particular, sus argumentos opcionales tienen significados diferentes (`sum(x, 1)` inicializa la suma en `1`, mientras que `np.sum(x, 1)` suma a lo largo del eje `1`), y `np.sum ` reconoce múltiples dimensiones de matriz, como veremos en la siguiente sección."
   ]
  },
  {
   "cell_type": "markdown",
   "metadata": {},
   "source": [
    "## Mínimo y Máximo\n",
    "\n",
    "De manera similar, Python tiene funciones `min` y `max` integradas, que se utilizan para encontrar el valor mínimo y el valor máximo de cualquier matriz determinada:"
   ]
  },
  {
   "cell_type": "code",
   "execution_count": 5,
   "metadata": {
    "collapsed": false,
    "jupyter": {
     "outputs_hidden": false
    }
   },
   "outputs": [
    {
     "data": {
      "text/plain": [
       "(2.0114398036064074e-07, 0.9999997912802653)"
      ]
     },
     "execution_count": 5,
     "metadata": {},
     "output_type": "execute_result"
    }
   ],
   "source": [
    "min(big_array), max(big_array)"
   ]
  },
  {
   "cell_type": "markdown",
   "metadata": {},
   "source": [
    "Las funciones correspondientes de NumPy tienen una sintaxis similar y nuevamente operan mucho más rápidamente:"
   ]
  },
  {
   "cell_type": "code",
   "execution_count": 6,
   "metadata": {
    "collapsed": false,
    "jupyter": {
     "outputs_hidden": false
    }
   },
   "outputs": [
    {
     "data": {
      "text/plain": [
       "(2.0114398036064074e-07, 0.9999997912802653)"
      ]
     },
     "execution_count": 6,
     "metadata": {},
     "output_type": "execute_result"
    }
   ],
   "source": [
    "np.min(big_array), np.max(big_array)"
   ]
  },
  {
   "cell_type": "code",
   "execution_count": 7,
   "metadata": {
    "collapsed": false,
    "jupyter": {
     "outputs_hidden": false
    }
   },
   "outputs": [
    {
     "name": "stdout",
     "output_type": "stream",
     "text": [
      "72 ms ± 177 µs per loop (mean ± std. dev. of 7 runs, 10 loops each)\n",
      "564 µs ± 3.11 µs per loop (mean ± std. dev. of 7 runs, 1000 loops each)\n"
     ]
    }
   ],
   "source": [
    "%timeit min(big_array)\n",
    "%timeit np.min(big_array)"
   ]
  },
  {
   "cell_type": "markdown",
   "metadata": {},
   "source": [
    "Para `min`, `max`, `sum` y varios otros agregados de NumPy, una sintaxis más corta es usar métodos del propio objeto de matriz:"
   ]
  },
  {
   "cell_type": "code",
   "execution_count": 8,
   "metadata": {
    "collapsed": false,
    "jupyter": {
     "outputs_hidden": false
    }
   },
   "outputs": [
    {
     "name": "stdout",
     "output_type": "stream",
     "text": [
      "2.0114398036064074e-07 0.9999997912802653 499854.0273321711\n"
     ]
    }
   ],
   "source": [
    "print(big_array.min(), big_array.max(), big_array.sum())"
   ]
  },
  {
   "cell_type": "markdown",
   "metadata": {},
   "source": [
    "Siempre que sea posible, asegúrese de utilizar la versión NumPy de estos agregados cuando opere en matrices NumPy."
   ]
  },
  {
   "cell_type": "markdown",
   "metadata": {},
   "source": [
    "### Agregados multidimensionales\n",
    "\n",
    "Un tipo común de operación de agregación es una agregación a lo largo de una fila o columna.\n",
    "Digamos que tiene algunos datos almacenados en una matriz bidimensional:"
   ]
  },
  {
   "cell_type": "code",
   "execution_count": 9,
   "metadata": {
    "collapsed": false,
    "jupyter": {
     "outputs_hidden": false
    }
   },
   "outputs": [
    {
     "name": "stdout",
     "output_type": "stream",
     "text": [
      "[[0 3 1 2]\n",
      " [1 9 7 0]\n",
      " [4 8 3 7]]\n"
     ]
    }
   ],
   "source": [
    "M = rng.integers(0, 10, (3, 4))\n",
    "print(M)"
   ]
  },
  {
   "cell_type": "markdown",
   "metadata": {},
   "source": [
    "Las agregaciones NumPy se aplicarán en todos los elementos de una matriz multidimensional:"
   ]
  },
  {
   "cell_type": "code",
   "execution_count": 10,
   "metadata": {
    "collapsed": false,
    "jupyter": {
     "outputs_hidden": false
    }
   },
   "outputs": [
    {
     "data": {
      "text/plain": [
       "45"
      ]
     },
     "execution_count": 10,
     "metadata": {},
     "output_type": "execute_result"
    }
   ],
   "source": [
    "M.sum()"
   ]
  },
  {
   "cell_type": "markdown",
   "metadata": {},
   "source": [
    "Las funciones de agregación toman un argumento adicional que especifica el *eje* a lo largo del cual se calcula el agregado. Por ejemplo, podemos encontrar el valor mínimo dentro de cada columna especificando `eje=0`:"
   ]
  },
  {
   "cell_type": "code",
   "execution_count": 11,
   "metadata": {
    "collapsed": false,
    "jupyter": {
     "outputs_hidden": false
    }
   },
   "outputs": [
    {
     "data": {
      "text/plain": [
       "array([0, 3, 1, 0])"
      ]
     },
     "execution_count": 11,
     "metadata": {},
     "output_type": "execute_result"
    }
   ],
   "source": [
    "M.min(axis=0)"
   ]
  },
  {
   "cell_type": "markdown",
   "metadata": {},
   "source": [
    "La función devuelve cuatro valores, correspondientes a las cuatro columnas de números.\n",
    "\n",
    "De manera similar, podemos encontrar el valor máximo dentro de cada fila:"
   ]
  },
  {
   "cell_type": "code",
   "execution_count": 12,
   "metadata": {
    "collapsed": false,
    "jupyter": {
     "outputs_hidden": false
    }
   },
   "outputs": [
    {
     "data": {
      "text/plain": [
       "array([3, 9, 8])"
      ]
     },
     "execution_count": 12,
     "metadata": {},
     "output_type": "execute_result"
    }
   ],
   "source": [
    "M.max(axis=1)"
   ]
  },
  {
   "cell_type": "markdown",
   "metadata": {},
   "source": [
    "La forma en que se especifica el eje aquí puede resultar confusa para los usuarios de otros idiomas.\n",
    "La palabra clave `axis` especifica la dimensión de la matriz que se *contraerá*, en lugar de la dimensión que se devolverá.\n",
    "Entonces, especificar `axis=0` significa que el eje 0 se contraerá: para matrices bidimensionales, los valores dentro de cada columna se agregarán."
   ]
  },
  {
   "cell_type": "markdown",
   "metadata": {},
   "source": [
    "### Otras funciones de agregación\n",
    "\n",
    "NumPy proporciona varias otras funciones de agregación con una API similar y, además, la mayoría tiene una contraparte segura `NaN` que calcula el resultado ignorando los valores faltantes, que están marcados por el valor especial `NaN` de punto flotante IEEE (consulte [Manejo de funciones faltantes). Datos](03.04-Valores-perdidos.ipynb)).\n",
    "\n",
    "La siguiente tabla proporciona una lista de funciones de agregación útiles disponibles en NumPy:\n",
    "\n",
    "|Nombre de la función |   Versión segura para NaN| Descripción |\n",
    "|-----------------|-------------------|----------- ------------------------------------|\n",
    "| `np.suma` | `np.nansum` | Calcular la suma de elementos |\n",
    "| `np.prod` | `np.nanprod` | Calcular producto de elementos |\n",
    "| `np.media` | `np.nanmean` | Calcular la media de los elementos |\n",
    "| `np.std` | `np.nanstd` | Calcular la desviación estándar |\n",
    "| `np.var` | `np.nanvar` | Calcular la varianza |\n",
    "| `np.min` | `np.nanmin` | Encuentra el valor mínimo |\n",
    "| `np.max` | `np.nanmax` | Encuentra el valor máximo |\n",
    "| `np.argmin` | `np.nanargmin` | Encontrar índice de valor mínimo |\n",
    "| `np.argmax` | `np.nanargmax` | Encontrar índice de valor máximo |\n",
    "| `np.mediana` | `np.nanmediana` | Calcular la mediana de los elementos |\n",
    "| `np.percentil` | `np.nanpercentil`| Calcular estadísticas de elementos basadas en rangos |\n",
    "| `np.cualquier` | N/A | Evaluar si algún elemento es verdadero |\n",
    "| `np.todos` | N/A | Evaluar si todos los elementos son verdaderos |\n",
    "\n",
    "Verá estos agregados con frecuencia a lo largo del resto del libro."
   ]
  },
  {
   "cell_type": "markdown",
   "metadata": {},
   "source": [
    "## Ejemplo: ¿Cuál es la altura promedio de los presidentes de Estados Unidos?"
   ]
  },
  {
   "cell_type": "markdown",
   "metadata": {},
   "source": [
    "Los agregados disponibles en NumPy pueden actuar como estadísticas resumidas para un conjunto de valores.\n",
    "Como pequeño ejemplo, consideremos las alturas de todos los presidentes de Estados Unidos.\n",
    "Estos datos están disponibles en el archivo *president_heights.csv*, que es una lista de etiquetas y valores separados por comas:"
   ]
  },
  {
   "cell_type": "code",
   "execution_count": 13,
   "metadata": {
    "collapsed": false,
    "jupyter": {
     "outputs_hidden": false
    }
   },
   "outputs": [
    {
     "name": "stdout",
     "output_type": "stream",
     "text": [
      "order,name,height(cm)\n",
      "1,George Washington,189\n",
      "2,John Adams,170\n",
      "3,Thomas Jefferson,189\n"
     ]
    }
   ],
   "source": [
    "!head -4 data/president_heights.csv"
   ]
  },
  {
   "cell_type": "markdown",
   "metadata": {},
   "source": [
    "Usaremos el paquete Pandas, que exploraremos más a fondo en la [Parte 3](03.00-Introducción-a-Pandas.ipynb), para leer el archivo y extraer esta información (tenga en cuenta que las alturas se miden en centímetros) :"
   ]
  },
  {
   "cell_type": "code",
   "execution_count": 14,
   "metadata": {
    "collapsed": false,
    "jupyter": {
     "outputs_hidden": false
    }
   },
   "outputs": [
    {
     "name": "stdout",
     "output_type": "stream",
     "text": [
      "[189 170 189 163 183 171 185 168 173 183 173 173 175 178 183 193 178 173\n",
      " 174 183 183 168 170 178 182 180 183 178 182 188 175 179 183 193 182 183\n",
      " 177 185 188 188 182 185 191 182]\n"
     ]
    }
   ],
   "source": [
    "import pandas as pd\n",
    "data = pd.read_csv('data/president_heights.csv')\n",
    "heights = np.array(data['height(cm)'])\n",
    "print(heights)"
   ]
  },
  {
   "cell_type": "markdown",
   "metadata": {},
   "source": [
    "Ahora que tenemos esta matriz de datos, podemos calcular una variedad de estadísticas resumidas:"
   ]
  },
  {
   "cell_type": "code",
   "execution_count": 15,
   "metadata": {
    "collapsed": false,
    "jupyter": {
     "outputs_hidden": false
    }
   },
   "outputs": [
    {
     "name": "stdout",
     "output_type": "stream",
     "text": [
      "Mean height:        180.04545454545453\n",
      "Standard deviation: 6.983599441335736\n",
      "Minimum height:     163\n",
      "Maximum height:     193\n"
     ]
    }
   ],
   "source": [
    "print(\"Mean height:       \", heights.mean())\n",
    "print(\"Standard deviation:\", heights.std())\n",
    "print(\"Minimum height:    \", heights.min())\n",
    "print(\"Maximum height:    \", heights.max())"
   ]
  },
  {
   "cell_type": "markdown",
   "metadata": {},
   "source": [
    "Tenga en cuenta que en cada caso, la operación de agregación redujo toda la matriz a un único valor de resumen, lo que nos brinda información sobre la distribución de valores.\n",
    "También es posible que deseemos calcular cuantiles:"
   ]
  },
  {
   "cell_type": "code",
   "execution_count": 16,
   "metadata": {
    "collapsed": false,
    "jupyter": {
     "outputs_hidden": false
    }
   },
   "outputs": [
    {
     "name": "stdout",
     "output_type": "stream",
     "text": [
      "25th percentile:    174.75\n",
      "Median:             182.0\n",
      "75th percentile:    183.5\n"
     ]
    }
   ],
   "source": [
    "print(\"25th percentile:   \", np.percentile(heights, 25))\n",
    "print(\"Median:            \", np.median(heights))\n",
    "print(\"75th percentile:   \", np.percentile(heights, 75))"
   ]
  },
  {
   "cell_type": "markdown",
   "metadata": {},
   "source": [
    "Vemos que la altura media de los presidentes estadounidenses es de 182 cm, o apenas seis pies.\n",
    "\n",
    "Por supuesto, a veces es más útil ver una representación visual de estos datos, lo cual podemos lograr usando herramientas en Matplotlib (analizaremos Matplotlib con más detalle en la [Parte 4] (04.00-Introducción-a-Matplotlib.ipynb)). Por ejemplo, este código genera el siguiente gráfico:"
   ]
  },
  {
   "cell_type": "code",
   "execution_count": 17,
   "metadata": {
    "collapsed": false,
    "jupyter": {
     "outputs_hidden": false
    }
   },
   "outputs": [],
   "source": [
    "%matplotlib inline\n",
    "import matplotlib.pyplot as plt\n",
    "plt.style.use('seaborn-whitegrid')"
   ]
  },
  {
   "cell_type": "code",
   "execution_count": 18,
   "metadata": {
    "collapsed": false,
    "jupyter": {
     "outputs_hidden": false
    }
   },
   "outputs": [
    {
     "data": {
      "image/png": "[encoded data removed]",
      "text/plain": [
       "<Figure size 432x288 with 1 Axes>"
      ]
     },
     "metadata": {},
     "output_type": "display_data"
    }
   ],
   "source": [
    "plt.hist(heights)\n",
    "plt.title('Height Distribution of US Presidents')\n",
    "plt.xlabel('height (cm)')\n",
    "plt.ylabel('number');"
   ]
  }
 ],
 "metadata": {
  "anaconda-cloud": {},
  "jupytext": {
   "formats": "ipynb,md"
  },
  "kernelspec": {
   "display_name": "Python 3",
   "language": "python",
   "name": "python3"
  },
  "language_info": {
   "codemirror_mode": {
    "name": "ipython",
    "version": 3
   },
   "file_extension": ".py",
   "mimetype": "text/x-python",
   "name": "python",
   "nbconvert_exporter": "python",
   "pygments_lexer": "ipython3",
   "version": "3.9.2"
  }
 },
 "nbformat": 4,
 "nbformat_minor": 4
}
