{
 "cells": [
  {
   "cell_type": "markdown",
   "metadata": {},
   "source": [
    "# Más recursos de aprendizaje automático"
   ]
  },
  {
   "attachments": {},
   "cell_type": "markdown",
   "metadata": {
    "deletable": true,
    "editable": true
   },
   "source": [
    "Esta parte del libro ha sido un recorrido rápido por el aprendizaje automático en Python, utilizando principalmente las herramientas de la biblioteca Scikit-Learn.\n",
    "Por extensos que sean estos capítulos, todavía son demasiado breves para cubrir muchos algoritmos, enfoques y discusiones interesantes e importantes.\n",
    "Aquí quiero sugerir algunos recursos para aprender más sobre el aprendizaje automático en Python, para aquellos que estén interesados:\n",
    "\n",
    "- [El sitio web de Scikit-Learn] (http://scikit-learn.org): El sitio web de Scikit-Learn tiene una impresionante variedad de documentación y ejemplos que cubren algunos de los modelos discutidos aquí, y mucho, mucho más. Si desea un breve repaso de los algoritmos de aprendizaje automático más importantes y más utilizados, este es un buen lugar para comenzar.\n",
    "\n",
    "- *Videos tutoriales de SciPy, PyCon y PyData*: Scikit-Learn y otros temas de aprendizaje automático son los favoritos de siempre en las secciones de tutoriales de muchas series de conferencias centradas en Python, en particular las conferencias PyCon, SciPy y PyData. La mayoría de estas conferencias publican vídeos de sus conferencias magistrales, charlas y tutoriales de forma gratuita en línea, y debería poder encontrarlos fácilmente mediante una búsqueda web adecuada (por ejemplo, \"vídeos de PyCon 2022\").\n",
    "\n",
    "- [*Introducción al aprendizaje automático con Python*](http://shop.oreilly.com/product/0636920030515.do), por Andreas C. Müller y Sarah Guido (O'Reilly). Este libro cubre muchos de los fundamentos del aprendizaje automático discutidos en estos capítulos, pero es particularmente relevante por su cobertura de características más avanzadas de Scikit-Learn, incluidos estimadores adicionales, enfoques de validación de modelos y canalización.\n",
    "\n",
    "- [*Aprendizaje automático con PyTorch y Scikit-Learn*](https://www.packtpub.com/product/machine-learning-with-pytorch-and-scikit-learn/9781801819312), por Sebastian Raschka (Packt). El libro más reciente de Sebastian Raschka comienza con algunos de los temas fundamentales cubiertos en estos capítulos, pero profundiza y muestra cómo esos conceptos se aplican a modelos de aprendizaje profundo y de refuerzo más sofisticados y computacionalmente intensivos utilizando la conocida [biblioteca PyTorch](https: //pytorch.org/)."
   ]
  }
 ],
 "metadata": {
  "anaconda-cloud": {},
  "jupytext": {
   "formats": "ipynb,md"
  },
  "kernelspec": {
   "display_name": "Python 3 (ipykernel)",
   "language": "python",
   "name": "python3"
  },
  "language_info": {
   "codemirror_mode": {
    "name": "ipython",
    "version": 3
   },
   "file_extension": ".py",
   "mimetype": "text/x-python",
   "name": "python",
   "nbconvert_exporter": "python",
   "pygments_lexer": "ipython3",
   "version": "3.9.2"
  }
 },
 "nbformat": 4,
 "nbformat_minor": 4
}
