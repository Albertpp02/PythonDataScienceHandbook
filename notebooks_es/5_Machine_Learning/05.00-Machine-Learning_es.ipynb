{
 "cells": [
  {
   "cell_type": "markdown",
   "metadata": {},
   "source": [
    "# Aprendizaje automático"
   ]
  },
  {
   "cell_type": "markdown",
   "metadata": {},
   "source": [
    "Esta parte final es una introducción al tema muy amplio del aprendizaje automático, principalmente a través del paquete [Scikit-Learn](http://scikit-learn.org) de Python.\n",
    "Puede pensar en el aprendizaje automático como una clase de algoritmos que permiten a un programa detectar patrones particulares en un conjunto de datos y, por lo tanto, \"aprender\" de los datos para sacar inferencias a partir de ellos.\n",
    "Esta no pretende ser una introducción completa al campo del aprendizaje automático; Se trata de un tema amplio que requiere un enfoque más técnico que el que adoptamos aquí.\n",
    "Tampoco pretende ser un manual completo para el uso del paquete Scikit-Learn (para esto, puede consultar los recursos enumerados en [Más recursos de aprendizaje automático](05.15-Learning-More.ipynb)).\n",
    "Más bien, los objetivos aquí son:\n",
    "\n",
    "- Introducir el vocabulario y los conceptos fundamentales del aprendizaje automático.\n",
    "- Presentar la API Scikit-Learn y mostrar algunos ejemplos de su uso.\n",
    "- Profundizar en los detalles de varios de los enfoques clásicos de aprendizaje automático más importantes y desarrollar una intuición sobre cómo funcionan y cuándo y dónde son aplicables.\n",
    "\n",
    "Gran parte de este material se extrae de los tutoriales y talleres de Scikit-Learn que he impartido en varias ocasiones en PyCon, SciPy, PyData y otras conferencias.\n",
    "Cualquier claridad en las siguientes páginas probablemente se deba a los muchos participantes del taller y co-instructores que me han brindado valiosos comentarios sobre este material a lo largo de los años."
   ]
  }
 ],
 "metadata": {
  "anaconda-cloud": {},
  "jupytext": {
   "formats": "ipynb,md"
  },
  "kernelspec": {
   "display_name": "Python 3 (ipykernel)",
   "language": "python",
   "name": "python3"
  },
  "language_info": {
   "codemirror_mode": {
    "name": "ipython",
    "version": 3
   },
   "file_extension": ".py",
   "mimetype": "text/x-python",
   "name": "python",
   "nbconvert_exporter": "python",
   "pygments_lexer": "ipython3",
   "version": "3.9.2"
  }
 },
 "nbformat": 4,
 "nbformat_minor": 4
}
