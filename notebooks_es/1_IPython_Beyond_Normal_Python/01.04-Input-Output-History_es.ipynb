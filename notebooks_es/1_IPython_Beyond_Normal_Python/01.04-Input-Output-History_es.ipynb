{
 "cells": [
  {
   "cell_type": "markdown",
   "metadata": {},
   "source": [
    "# Historial de entrada y salida"
   ]
  },
  {
   "cell_type": "markdown",
   "metadata": {},
   "source": [
    "Anteriormente vio que el shell de IPython le permite acceder a comandos anteriores con las teclas de flecha hacia arriba y hacia abajo, o de manera equivalente, los atajos Ctrl-p/Ctrl-n.\n",
    "Además, tanto en el shell como en los cuadernos, IPython expone varias formas de obtener el resultado de comandos anteriores, así como versiones de cadena de los propios comandos.\n",
    "Los exploraremos aquí."
   ]
  },
  {
   "cell_type": "markdown",
   "metadata": {},
   "source": [
    "## Objetos de entrada y salida de IPython\n",
    "\n",
    "A estas alturas imagino que se estará familiarizando con el estilo de mensajes `In [1]:`/`Out[1]:` utilizado por IPython.\n",
    "Pero resulta que no son sólo una bonita decoración: dan una pista sobre cómo puedes acceder a entradas y salidas anteriores en tu sesión actual.\n",
    "Supongamos que iniciamos una sesión similar a esta:\n",
    "\n",
    "```ipython\n",
    "En [1]: importar matemáticas\n",
    "\n",
    "En [2]: matemáticas.sin(2)\n",
    "Fuera[2]: 0,9092974268256817\n",
    "\n",
    "En [3]: matemáticas.cos(2)\n",
    "Fuera[3]: -0,4161468365471424\n",
    "```"
   ]
  },
  {
   "cell_type": "markdown",
   "metadata": {},
   "source": [
    "Importamos el paquete \"math\" incorporado y luego calculamos el seno y el coseno del número 2.\n",
    "Estas entradas y salidas se muestran en el shell con etiquetas `In`/`Out`, pero hay más: IPython en realidad crea algunas variables de Python llamadas `In` y `Out` que se actualizan automáticamente para reflejar este historial:\n",
    "\n",
    "```ipython\n",
    "En [4]: ​​En\n",
    "Salida[4]: ['', 'importar matemáticas', 'math.sin(2)', 'math.cos(2)', 'Entrada']\n",
    "\n",
    "En [5]: Fuera\n",
    "Fuera[5]:\n",
    "{2: 0,9092974268256817,\n",
    " 3: -0,4161468365471424,\n",
    " 4: ['', 'importar matemáticas', 'math.sin(2)', 'math.cos(2)', 'Entrada', 'Salida']}\n",
    "```"
   ]
  },
  {
   "cell_type": "markdown",
   "metadata": {},
   "source": [
    "El objeto `In` es una lista, que realiza un seguimiento de los comandos en orden (el primer elemento de la lista es un marcador de posición para que `In [1]` pueda hacer referencia al primer comando):\n",
    "\n",
    "```ipython\n",
    "En [6]: imprimir(En[1])\n",
    "importar matematicas\n",
    "```\n",
    "\n",
    "El objeto `Out` no es una lista sino un diccionario que asigna números de entrada a sus salidas (si las hay):\n",
    "\n",
    "```ipython\n",
    "En [7]: imprimir (Salida [2])\n",
    "0.9092974268256817\n",
    "```\n",
    "\n",
    "Tenga en cuenta que no todas las operaciones tienen resultados: por ejemplo, las declaraciones \"importar\" y las declaraciones \"imprimir\" no afectan el resultado.\n",
    "Esto último puede resultar sorprendente, pero tiene sentido si se considera que \"imprimir\" es una función que devuelve \"Ninguno\"; Para abreviar, cualquier comando que devuelva \"Ninguno\" no se agrega a \"Fuera\".\n",
    "\n",
    "Esto puede resultar útil si desea interactuar con resultados anteriores.\n",
    "Por ejemplo, verifiquemos la suma de `sin(2) ** 2` y `cos(2) ** 2` usando los resultados calculados anteriormente:\n",
    "\n",
    "```ipython\n",
    "Entrada [8]: Salida[2] ** 2 + Salida[3] ** 2\n",
    "Fuera[8]: 1,0\n",
    "```\n",
    "\n",
    "El resultado es \"1,0\", como esperaríamos de la conocida identidad trigonométrica.\n",
    "En este caso, utilizar estos resultados anteriores probablemente no sea necesario, pero puede resultar muy útil si ejecuta un cálculo muy costoso y olvida asignar el resultado a una variable."
   ]
  },
  {
   "cell_type": "markdown",
   "metadata": {},
   "source": [
    "## Atajos de subrayado y resultados anteriores\n",
    "\n",
    "El shell estándar de Python contiene solo un atajo simple para acceder a la salida anterior: la variable `_` (es decir, un guión bajo único) se mantiene actualizada con la salida anterior. Esto también funciona en IPython:\n",
    "\n",
    "```ipython\n",
    "En [9]: imprimir(_)\n",
    "1.0\n",
    "```\n",
    "\n",
    "Pero IPython lleva esto un poco más allá: puede usar un guión bajo doble para acceder a la penúltima salida y un guión bajo triple para acceder a la penúltima salida (omitiendo cualquier comando sin salida):\n",
    "\n",
    "```ipython\n",
    "En [10]: imprimir(__)\n",
    "-0.4161468365471424\n",
    "\n",
    "En [11]: imprimir(___)\n",
    "0.9092974268256817\n",
    "```\n",
    "\n",
    "IPython se detiene ahí: más de tres guiones bajos comienza a ser un poco difícil de contar, y en ese punto es más fácil hacer referencia a la salida por número de línea.\n",
    "\n",
    "Sin embargo, hay un atajo más que debo mencionar: una abreviatura de `Out[X]` es `_X` (es decir, un guión bajo seguido del número de línea):\n",
    "\n",
    "```ipython\n",
    "En [12]: Fuera [2]\n",
    "Fuera[12]: 0,9092974268256817\n",
    "\n",
    "En [13]: _2\n",
    "Fuera[13]: 0,9092974268256817\n",
    "```"
   ]
  },
  {
   "cell_type": "markdown",
   "metadata": {},
   "source": [
    "## Suprimiendo la salida\n",
    "A veces es posible que desee suprimir la salida de una declaración (esto quizás sea más común con los comandos de trazado que exploraremos en [Introducción a Matplotlib](04.00-Introducción-a-Matplotlib.ipynb)).\n",
    "O tal vez el comando que está ejecutando produce un resultado que preferiría no almacenar en su historial de salida, tal vez para poder desasignarlo cuando se eliminen otras referencias.\n",
    "La forma más sencilla de suprimir la salida de un comando es agregar un punto y coma al final de la línea:\n",
    "\n",
    "```ipython\n",
    "En [14]: math.sin(2) + math.cos(2);\n",
    "```\n",
    "\n",
    "El resultado se calcula de forma silenciosa y el resultado no se muestra en la pantalla ni se almacena en el diccionario \"Out\":\n",
    "\n",
    "```ipython\n",
    "En [15]: 14 adentro Fuera\n",
    "Fuera[15]: Falso\n",
    "```"
   ]
  },
  {
   "cell_type": "markdown",
   "metadata": {},
   "source": [
    "## Comandos mágicos relacionados\n",
    "Para acceder a un lote de entradas anteriores a la vez, el comando mágico `%history` es muy útil.\n",
    "Así es como puede imprimir las primeras cuatro entradas:\n",
    "\n",
    "```ipython\n",
    "En [16]: %historia -n 1-3\n",
    "   1: importar matemáticas\n",
    "   2: matemáticas.sin(2)\n",
    "   3: matemáticas.cos(2)\n",
    "```\n",
    "\n",
    "Como de costumbre, puede escribir `%history?` para obtener más información y una descripción de las opciones disponibles (consulte [Ayuda y documentación en IPython](01.01-Help-And-Documentation.ipynb) para obtener detalles sobre la funcionalidad `?`.\n",
    "Otros comandos mágicos útiles son `%rerun`, que volverá a ejecutar una parte del historial de comandos, y `%save`, que guarda parte del historial de comandos en un archivo)."
   ]
  }
 ],
 "metadata": {
  "anaconda-cloud": {},
  "jupytext": {
   "formats": "ipynb,md"
  },
  "kernelspec": {
   "display_name": "Python 3",
   "language": "python",
   "name": "python3"
  },
  "language_info": {
   "codemirror_mode": {
    "name": "ipython",
    "version": 3
   },
   "file_extension": ".py",
   "mimetype": "text/x-python",
   "name": "python",
   "nbconvert_exporter": "python",
   "pygments_lexer": "ipython3",
   "version": "3.9.2"
  }
 },
 "nbformat": 4,
 "nbformat_minor": 4
}
