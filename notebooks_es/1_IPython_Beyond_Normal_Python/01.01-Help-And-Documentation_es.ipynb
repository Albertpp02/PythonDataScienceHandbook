{
 "cells": [
  {
   "cell_type": "markdown",
   "metadata": {},
   "source": [
    "# Introducción a IPython y Jupyter\n",
    "\n",
    "Al escribir código Python para ciencia de datos, generalmente opto entre tres modos de trabajo: uso el shell IPython para probar secuencias cortas de comandos, el Jupyter Notebook para análisis interactivos más largos y para compartir contenido con otros, y entornos de desarrollo interactivos (IDE). ) como Emacs o VSCode para crear paquetes Python reutilizables.\n",
    "Este capítulo se centra en los dos primeros modos: el shell IPython y el Jupyter Notebook.\n",
    "El uso de un IDE para el desarrollo de software es una tercera herramienta importante en el repertorio del científico de datos, pero no la abordaremos directamente aquí."
   ]
  },
  {
   "cell_type": "markdown",
   "id": "7b582097",
   "metadata": {},
   "source": [
    "## Lanzamiento del shell IPython\n",
    "\n",
    "El texto de esta parte, como la mayor parte de este libro, no está diseñado para ser absorbido pasivamente.\n",
    "Le recomiendo que a medida que lo lea, lo siga y experimente con las herramientas y la sintaxis que cubrimos: la memoria muscular que desarrolle al hacer esto será mucho más útil que el simple hecho de leer sobre ello.\n",
    "Comience iniciando el intérprete de IPython escribiendo **`ipython`** en la línea de comando; alternativamente, si ha instalado una distribución como Anaconda o EPD, puede haber un iniciador específico para su sistema (analizaremos esto con más detalle en [Ayuda y documentación en IPython](01.01-Help-And-Documentation.ipynb) ).\n",
    "\n",
    "Una vez que haga esto, debería ver un mensaje como el siguiente:\n",
    "\n",
    "```ipython\n",
    "Python 3.9.2 (v3.9.2:1a79785e3e, 19 de febrero de 2021, 09:06:10) \n",
    "Escriba 'copyright', 'créditos' o 'licencia' para obtener más información\n",
    "IPython 7.21.0: un Python interactivo mejorado. Tipo '?' por ayuda.\n",
    "\n",
    "En [1]:\n",
    "```\n",
    "Con eso, estás listo para seguir adelante."
   ]
  },
  {
   "cell_type": "markdown",
   "id": "d1d2d0fb",
   "metadata": {},
   "source": [
    "## Lanzamiento del cuaderno Jupyter\n",
    "\n",
    "Jupyter Notebook es una interfaz gráfica basada en navegador para el shell IPython y se basa en un rico conjunto de capacidades de visualización dinámica.\n",
    "Además de ejecutar sentencias Python/IPython, los cuadernos permiten al usuario incluir texto formateado, visualizaciones estáticas y dinámicas, ecuaciones matemáticas, widgets JavaScript y mucho más.\n",
    "Además, estos documentos se pueden guardar de manera que otras personas puedan abrirlos y ejecutar el código en sus propios sistemas.\n",
    "\n",
    "Aunque verá y editará los cuadernos de Jupyter a través de la ventana de su navegador web, deben conectarse a un proceso de Python en ejecución para poder ejecutar el código.\n",
    "Puede iniciar este proceso (conocido como \"núcleo\") ejecutando el siguiente comando en el shell de su sistema:\n",
    "\n",
    "```\n",
    "$ laboratorio jupyter\n",
    "```\n",
    "\n",
    "Este comando iniciará un servidor web local que será visible para su navegador.\n",
    "Inmediatamente escupe un registro que muestra lo que está haciendo; ese registro se verá así:\n",
    "\n",
    "```\n",
    "$ laboratorio jupyter\n",
    "[ServerApp] Sirviendo cuadernos desde el directorio local: /Users/jakevdp/PythonDataScienceHandbook\n",
    "[ServerApp] Jupyter Server 1.4.1 se ejecuta en:\n",
    "[Aplicación de servidor] http://localhost:8888/lab?token=dd852649\n",
    "[ServerApp] Utilice Control-C para detener este servidor y cerrar todos los kernels (dos veces para omitir la confirmación).\n",
    "```\n",
    "\n",
    "Al emitir el comando, su navegador predeterminado debería abrirse automáticamente y navegar a la URL local indicada;\n",
    "la dirección exacta dependerá de su sistema.\n",
    "Si el navegador no se abre automáticamente, puede abrir una ventana y abrir manualmente esta dirección (*http://localhost:8888/lab/* en este ejemplo)."
   ]
  },
  {
   "cell_type": "markdown",
   "id": "92286db8",
   "metadata": {},
   "source": [
    "## Ayuda y documentación en IPython"
   ]
  },
  {
   "cell_type": "markdown",
   "metadata": {},
   "source": [
    "Si no lee otra sección de este capítulo, lea esta: Considero que las herramientas analizadas aquí son las contribuciones más transformadoras de IPython a mi flujo de trabajo diario.\n",
    "\n",
    "Cuando a una persona con mentalidad tecnológica se le pide que ayude a un amigo, familiar o colega con un problema informático, la mayoría de las veces se trata menos de saber la respuesta que de saber cómo encontrar rápidamente una respuesta desconocida.\n",
    "En la ciencia de datos ocurre lo mismo: los recursos web con capacidad de búsqueda, como la documentación en línea, los hilos de las listas de correo y las respuestas de Stack Overflow, contienen una gran cantidad de información, incluso (¿especialmente?) sobre temas que ha buscado antes.\n",
    "Ser un practicante eficaz de la ciencia de datos se trata menos de memorizar la herramienta o comando que debe utilizar para cada situación posible, y más de aprender a encontrar eficazmente la información que no conoce, ya sea a través de un motor de búsqueda web u otro medio.\n",
    "\n",
    "Una de las funciones más útiles de IPython/Jupyter es acortar la brecha entre el usuario y el tipo de documentación y búsqueda que le ayudará a realizar su trabajo de forma eficaz.\n",
    "Si bien las búsquedas web siguen desempeñando un papel a la hora de responder preguntas complicadas, se puede encontrar una cantidad asombrosa de información sólo a través de IPython.\n",
    "Algunos ejemplos de las preguntas que IPython puede ayudar a responder con unas pocas teclas incluyen:\n",
    "\n",
    "- ¿Cómo llamo a esta función? ¿Qué argumentos y opciones tiene?\n",
    "- ¿Cómo es el código fuente de este objeto Python?\n",
    "- ¿Qué hay en este paquete que importé? \n",
    "- ¿Qué atributos o métodos tiene este objeto?\n",
    "\n",
    "Aquí analizaremos las herramientas proporcionadas en el shell de IPython y Jupyter Notebook para acceder rápidamente a esta información, es decir, el carácter `?` para explorar la documentación, los caracteres `??` para explorar el código fuente y la tecla Tab para el autocompletado."
   ]
  },
  {
   "cell_type": "markdown",
   "metadata": {},
   "source": [
    "### Accediendo a la documentación con ?\n",
    "\n",
    "El lenguaje Python y su ecosistema de ciencia de datos se crean pensando en el usuario, y una gran parte de eso es el acceso a la documentación.\n",
    "Cada objeto de Python contiene una referencia a una cadena, conocida como *docstring*, que en la mayoría de los casos contendrá un resumen conciso del objeto y cómo usarlo.\n",
    "Python tiene una función de \"ayuda\" incorporada que puede acceder a esta información e imprimir los resultados.\n",
    "Por ejemplo, para ver la documentación de la función incorporada `len`, puede hacer lo siguiente:\n",
    "\n",
    "```ipython\n",
    "En [1]: ayuda(len)\n",
    "Ayuda sobre la función incorporada len en los módulos incorporados:\n",
    "\n",
    "len(obj, /)\n",
    "    Devuelve la cantidad de artículos en un contenedor.\n",
    "```\n",
    "\n",
    "Dependiendo de su intérprete, esta información puede mostrarse como texto en línea o en una ventana emergente separada."
   ]
  },
  {
   "cell_type": "markdown",
   "metadata": {},
   "source": [
    "Debido a que encontrar ayuda sobre un objeto es tan común y útil, IPython y Jupyter introducen el carácter `?` como una abreviatura para acceder a esta documentación y otra información relevante:\n",
    "\n",
    "```ipython\n",
    "En [2]: len?\n",
    "Firma: len(obj, /)\n",
    "Docstring: devuelve la cantidad de elementos en un contenedor.\n",
    "Tipo: función_o_método_integrada\n",
    "```"
   ]
  },
  {
   "cell_type": "markdown",
   "metadata": {},
   "source": [
    "Esta notación funciona para casi cualquier cosa, incluidos los métodos de objetos:\n",
    "\n",
    "```ipython\n",
    "En [3]: L = [1, 2, 3]\n",
    "En [4]: ​​L.insertar?\n",
    "Firma: L.insert(índice, objeto, /)\n",
    "Cadena de documentación: Insertar objeto antes del índice.\n",
    "Tipo: función_o_método_integrada\n",
    "```\n",
    "\n",
    "o incluso los propios objetos, con la documentación de su tipo:\n",
    "\n",
    "```ipython\n",
    "En [5]: ¿L?\n",
    "Tipo: lista\n",
    "Forma de cadena: [1, 2, 3]\n",
    "Longitud: 3\n",
    "Cadena de documentación:  \n",
    "Secuencia mutable incorporada.\n",
    "\n",
    "Si no se proporciona ningún argumento, el constructor crea una nueva lista vacía.\n",
    "El argumento debe ser iterable si se especifica.\n",
    "```"
   ]
  },
  {
   "cell_type": "markdown",
   "metadata": {},
   "source": [
    "Es importante destacar que esto funcionará incluso para funciones u otros objetos que crees tú mismo.\n",
    "Aquí definiremos una pequeña función con una cadena de documentación:\n",
    "\n",
    "```ipython\n",
    "En [6]: def cuadrado(a):\n",
    "  ....: \"\"\"Devuelve el cuadrado de a.\"\"\"\n",
    "  ....: devuelve un ** 2\n",
    "  ....:\n",
    "```\n",
    "\n",
    "Tenga en cuenta que para crear una cadena de documentación para nuestra función, simplemente colocamos una cadena literal en la primera línea.\n",
    "Debido a que las cadenas de documentos suelen tener varias líneas, por convención utilizamos la notación de comillas triples de Python para cadenas de varias líneas."
   ]
  },
  {
   "cell_type": "markdown",
   "metadata": {},
   "source": [
    "Ahora usaremos `?` para encontrar esta cadena de documentación:\n",
    "\n",
    "```ipython\n",
    "En [7]: ¿cuadrado?\n",
    "Firma: cuadrado(a)\n",
    "Docstring: Devuelve el cuadrado de a.\n",
    "Archivo: <ipython-entrada-6>\n",
    "Tipo: función\n",
    "```\n",
    "\n",
    "¡Este acceso rápido a la documentación a través de cadenas de documentos es una de las razones por las que debes acostumbrarte a agregar siempre dicha documentación en línea al código que escribes!"
   ]
  },
  {
   "cell_type": "markdown",
   "metadata": {},
   "source": [
    "### Accediendo al código fuente con ??\n",
    "\n",
    "Debido a que el lenguaje Python es tan fácil de leer, generalmente se puede obtener otro nivel de conocimiento leyendo el código fuente del objeto que le interesa.\n",
    "IPython y Jupyter proporcionan un acceso directo al código fuente con el doble signo de interrogación (`??`):\n",
    "\n",
    "```ipython\n",
    "En [8]: cuadrado??\n",
    "Firma: cuadrado(a)\n",
    "Fuente:   \n",
    "def cuadrado(a):\n",
    "    \"\"\"Devuelve el cuadrado de a.\"\"\"\n",
    "    devolver un ** 2\n",
    "Archivo: <ipython-entrada-6>\n",
    "Tipo: función\n",
    "```\n",
    "\n",
    "Para funciones simples como esta, el doble signo de interrogación puede brindar una visión rápida de los detalles ocultos."
   ]
  },
  {
   "cell_type": "markdown",
   "metadata": {},
   "source": [
    "Si juegas mucho con esto, notarás que a veces el sufijo `??` no muestra ningún código fuente: esto generalmente se debe a que el objeto en cuestión no está implementado en Python, sino en C o algún otro lenguaje de extensión compilado. .\n",
    "Si este es el caso, el sufijo `??` da el mismo resultado que el sufijo `?`.\n",
    "Encontrarás esto particularmente con muchos de los objetos y tipos integrados de Python, incluida la función `len` de antes:\n",
    "\n",
    "```ipython\n",
    "En [9]: len??\n",
    "Firma: len(obj, /)\n",
    "Docstring: devuelve la cantidad de elementos en un contenedor.\n",
    "Tipo: función_o_método_integrada\n",
    "```\n",
    "\n",
    "Usar `?` y/o `??` es una forma potente y rápida de encontrar información sobre lo que hace cualquier función o módulo de Python."
   ]
  },
  {
   "cell_type": "markdown",
   "metadata": {},
   "source": [
    "### Explorando módulos con finalización de tabulación\n",
    "\n",
    "Otra interfaz útil es el uso de la tecla Tab para autocompletar y explorar el contenido de objetos, módulos y espacios de nombres.\n",
    "En los ejemplos siguientes, usaré `<TAB>` para indicar cuándo se debe presionar la tecla Tab."
   ]
  },
  {
   "cell_type": "markdown",
   "metadata": {},
   "source": [
    "#### Completar con tabulación el contenido del objeto\n",
    "\n",
    "Cada objeto de Python tiene varios atributos y métodos asociados.\n",
    "Al igual que la función `help` mencionada anteriormente, Python tiene una función `dir` incorporada que devuelve una lista de estos, pero la interfaz de finalización de pestañas es mucho más fácil de usar en la práctica.\n",
    "Para ver una lista de todos los atributos disponibles de un objeto, puede escribir el nombre del objeto seguido de un carácter de punto (\"`.`\") y la tecla Tabulador:\n",
    "\n",
    "```ipython\n",
    "En [10]: L.<TAB>\n",
    "            append() contar insertar revertir \n",
    "            borrar extender orden pop    \n",
    "            copiar índice eliminar           \n",
    "```\n",
    "\n",
    "Para reducir la lista, puede escribir el primer carácter o varios caracteres del nombre y la tecla Tabulador encontrará los atributos y métodos coincidentes:\n",
    "\n",
    "```ipython\n",
    "En [10]: L.c<TAB>\n",
    "             borrar() contar()\n",
    "             Copiar()         \n",
    "\n",
    "En [10]: L.co<TAB>\n",
    "              copiar() contar()\n",
    "```\n",
    "\n",
    "Si solo hay una opción, al presionar la tecla Tab se completará la línea.\n",
    "Por ejemplo, lo siguiente se sustituirá instantáneamente por \"L.count\":\n",
    "\n",
    "```ipython\n",
    "En [10]: L.cou<TAB>\n",
    "\n",
    "```\n",
    "\n",
    "Aunque Python no impone una distinción estricta entre atributos públicos/externos y atributos privados/internos, por convención se utiliza un guión bajo precedente para indicar estos últimos.\n",
    "Para mayor claridad, estos métodos privados y métodos especiales se omiten de la lista de forma predeterminada, pero es posible enumerarlos escribiendo explícitamente el guión bajo:\n",
    "\n",
    "```ipython\n",
    "En [10]: L._<TAB>\n",
    "           __add__ __delattr__ __eq__      \n",
    "           __clase__ __delitem__ __formato__()\n",
    "           __class_getitem__() __dir__() __ge__ >\n",
    "           __contiene__ __doc__ __getattribute__     \n",
    "```\n",
    "\n",
    "Por brevedad, solo he mostrado las primeras columnas del resultado.\n",
    "La mayoría de estos son métodos especiales de doble subrayado de Python (a menudo denominados métodos \"dunder\")."
   ]
  },
  {
   "cell_type": "markdown",
   "metadata": {},
   "source": [
    "#### Completar tabulación al importar\n",
    "\n",
    "La función de tabulación también es útil al importar objetos desde paquetes.\n",
    "Aquí lo usaremos para encontrar todas las importaciones posibles en el paquete `itertools` que comienzan con `co`:\n",
    "\n",
    "```ipython\n",
    "En [10]: desde itertools importa co<TAB>\n",
    "         combinaciones() comprimir()\n",
    "         combinaciones_con_reemplazo() recuento()\n",
    "```\n",
    "\n",
    "De manera similar, puede usar la función de tabulación para ver qué importaciones están disponibles en su sistema (esto cambiará dependiendo de qué scripts y módulos de terceros sean visibles para su sesión de Python):\n",
    "\n",
    "```ipython\n",
    "En [10]: importar <TAB>\n",
    "            abc anyio                          \n",
    "            activar_esta aplicacióndirs                        \n",
    "            aifc appnope >\n",
    "            argón antigravedad2                         \n",
    "\n",
    "En [10]: importar h<TAB>\n",
    "            hashlib html   \n",
    "            montónq http   \n",
    "            hmac        \n",
    "```"
   ]
  },
  {
   "cell_type": "markdown",
   "metadata": {},
   "source": [
    "#### Más allá de completar la pestaña: coincidencia de comodines\n",
    "\n",
    "La función de tabulación es útil si conoce los primeros caracteres del nombre del objeto o atributo que está buscando, pero es de poca ayuda si desea hacer coincidir los caracteres en el medio o al final del nombre.\n",
    "Para este caso de uso, IPython y Jupyter proporcionan un medio de coincidencia de comodines para nombres que utilizan el carácter `*`.\n",
    "\n",
    "Por ejemplo, podemos usar esto para enumerar todos los objetos en el espacio de nombres cuyo nombre termine con \"Advertencia\":\n",
    "\n",
    "```ipython\n",
    "En [10]: *¿Advertencia?\n",
    "BytesAdvertencia Tiempo de ejecuciónAdvertencia\n",
    "Sintaxis de advertencia en desusoAdvertencia\n",
    "Advertencia de futuro Advertencia de Unicode\n",
    "Advertencia de importación Advertencia de usuario\n",
    "PendienteDeprecationWarning Advertencia\n",
    "Advertencia de recursos\n",
    "```\n",
    "\n",
    "Observe que el carácter `*` coincide con cualquier cadena, incluida la cadena vacía.\n",
    "\n",
    "De manera similar, supongamos que estamos buscando un método de cadena que contenga la palabra \"buscar\" en algún lugar de su nombre.\n",
    "Podemos buscarlo de esta manera:\n",
    "\n",
    "```ipython\n",
    "En [11]: cadena.*buscar*?\n",
    "str.buscar\n",
    "str.rfind\n",
    "```\n",
    "\n",
    "Considero que este tipo de búsqueda flexible con comodines puede ser útil para encontrar un comando en particular cuando conozco un paquete nuevo o me reencuentro con uno familiar."
   ]
  }
 ],
 "metadata": {
  "anaconda-cloud": {},
  "jupytext": {
   "formats": "ipynb,md"
  },
  "kernelspec": {
   "display_name": "Python 3.9.6 64-bit ('3.9.6')",
   "language": "python",
   "name": "python3"
  },
  "language_info": {
   "codemirror_mode": {
    "name": "ipython",
    "version": 3
   },
   "file_extension": ".py",
   "mimetype": "text/x-python",
   "name": "python",
   "nbconvert_exporter": "python",
   "pygments_lexer": "ipython3",
   "version": "3.9.6"
  },
  "vscode": {
   "interpreter": {
    "hash": "513788764cd0ec0f97313d5418a13e1ea666d16d72f976a8acadce25a5af2ffc"
   }
  }
 },
 "nbformat": 4,
 "nbformat_minor": 4
}
