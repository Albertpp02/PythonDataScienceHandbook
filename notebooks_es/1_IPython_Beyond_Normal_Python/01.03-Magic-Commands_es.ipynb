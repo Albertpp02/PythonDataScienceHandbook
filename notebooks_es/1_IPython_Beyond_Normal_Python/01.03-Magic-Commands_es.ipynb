{
 "cells": [
  {
   "cell_type": "markdown",
   "metadata": {},
   "source": [
    "# Comandos mágicos de IPython"
   ]
  },
  {
   "cell_type": "markdown",
   "metadata": {},
   "source": [
    "El capítulo anterior mostró cómo IPython le permite usar y explorar Python de manera eficiente e interactiva.\n",
    "Aquí comenzaremos a discutir algunas de las mejoras que IPython agrega además de la sintaxis normal de Python.\n",
    "Estos se conocen en IPython como *comandos mágicos* y tienen el prefijo \"%\".\n",
    "Estos comandos mágicos están diseñados para resolver de manera sucinta varios problemas comunes en el análisis de datos estándar.\n",
    "Los comandos mágicos vienen en dos tipos: *magias de línea*, que se denotan con un solo prefijo `%` y operan en una sola línea de entrada, y *magias de celda*, que se denotan con un prefijo doble `%%` y operan en múltiples líneas de entrada.\n",
    "Demostraré y discutiré algunos ejemplos breves aquí y volveré a una discusión más centrada en varios comandos mágicos útiles más adelante."
   ]
  },
  {
   "cell_type": "markdown",
   "metadata": {},
   "source": [
    "## Ejecutando código externo: %run\n",
    "A medida que comience a desarrollar código más extenso, probablemente se encontrará trabajando en IPython para la exploración interactiva, así como en un editor de texto para almacenar el código que desea reutilizar.\n",
    "En lugar de ejecutar este código en una nueva ventana, puede resultar conveniente ejecutarlo dentro de su sesión de IPython.\n",
    "Esto se puede hacer con el comando mágico `%run`.\n",
    "\n",
    "Por ejemplo, imagina que has creado un archivo *myscript.py* con el siguiente contenido:\n",
    "\n",
    "```pitón\n",
    "# archivo: myscript.py\n",
    "\n",
    "def cuadrado(x):\n",
    "    \"\"\"cuadrar un número\"\"\"\n",
    "    volver x ** 2\n",
    "\n",
    "para N en el rango (1, 4):\n",
    "    print(f\"{N} al cuadrado es {cuadrado(N)}\")\n",
    "```\n",
    "\n",
    "Puede ejecutar esto desde su sesión de IPython de la siguiente manera:\n",
    "\n",
    "```ipython\n",
    "En [6]: %ejecutar myscript.py\n",
    "1 al cuadrado es 1\n",
    "2 al cuadrado es 4\n",
    "3 al cuadrado es 9\n",
    "```\n",
    "\n",
    "Tenga en cuenta también que después de ejecutar este script, cualquier función definida en él estará disponible para su uso en su sesión de IPython:\n",
    "\n",
    "```ipython\n",
    "En [7]: cuadrado(5)\n",
    "Fuera[7]: 25\n",
    "```\n",
    "\n",
    "Hay varias opciones para ajustar cómo se ejecuta su código; Puede ver la documentación de forma normal, escribiendo **`%run?`** en el intérprete de IPython."
   ]
  },
  {
   "cell_type": "markdown",
   "metadata": {},
   "source": [
    "## Ejecución del código de tiempo: %timeit\n",
    "Otro ejemplo de una función mágica útil es `%timeit`, que determinará automáticamente el tiempo de ejecución de la declaración de Python de una sola línea que le sigue.\n",
    "Por ejemplo, es posible que queramos comprobar el rendimiento de una lista de comprensión:\n",
    "\n",
    "```ipython\n",
    "En [8]: %timeit L = [n ** 2 para n en el rango (1000)]\n",
    "430 µs ± 3,21 µs por bucle (media ± desviación estándar de 7 ejecuciones, 1000 bucles cada una)\n",
    "```\n",
    "\n",
    "El beneficio de `%timeit` es que para comandos cortos realizará automáticamente múltiples ejecuciones para lograr resultados más sólidos.\n",
    "Para declaraciones de varias líneas, agregar un segundo signo `%` lo convertirá en una celda mágica que puede manejar múltiples líneas de entrada.\n",
    "Por ejemplo, aquí está la construcción equivalente con un bucle \"for\":\n",
    "\n",
    "```ipython\n",
    "En [9]: %%tiempo\n",
    "   ...: L = []\n",
    "   ...: para n en el rango(1000):\n",
    "   ...: L.append(n ** 2)\n",
    "   ...: \n",
    "484 µs ± 5,67 µs por bucle (media ± desviación estándar de 7 ejecuciones, 1000 bucles cada una)\n",
    "```\n",
    "\n",
    "Podemos ver inmediatamente que la comprensión de listas es aproximadamente un 10% más rápida que la construcción del bucle \"for\" equivalente en este caso.\n",
    "Exploraremos `%timeit` y otros enfoques para sincronizar y crear perfiles de código en [Código de creación de perfiles y sincronización] (01.07-Timing-and-Profiling.ipynb)."
   ]
  },
  {
   "cell_type": "markdown",
   "metadata": {},
   "source": [
    "## Ayuda sobre funciones mágicas: ?, %magic y %lsmagic\n",
    "\n",
    "Al igual que las funciones normales de Python, las funciones mágicas de IPython tienen cadenas de documentos, y esto es útil\n",
    "Se puede acceder a la documentación de forma estándar.\n",
    "Entonces, por ejemplo, para leer la documentación de la función mágica `%timeit`, simplemente escriba esto:\n",
    "\n",
    "```ipython\n",
    "En [10]: %tiempo?\n",
    "```\n",
    "\n",
    "Se puede acceder a la documentación para otras funciones de manera similar.\n",
    "Para acceder a una descripción general de las funciones mágicas disponibles, incluidos algunos ejemplos, puede escribir esto:\n",
    "\n",
    "```ipython\n",
    "En [11]: %magia\n",
    "```\n",
    "\n",
    "Para obtener una lista rápida y sencilla de todas las funciones mágicas disponibles, escriba esto:\n",
    "\n",
    "```ipython\n",
    "En [12]: %lsmagia\n",
    "```\n",
    "\n",
    "Finalmente, mencionaré que es bastante sencillo definir tus propias funciones mágicas si lo deseas.\n",
    "No lo discutiré aquí, pero si está interesado, consulte las referencias enumeradas en [Más recursos de IPython] (01.08-Más-IPython-Resources.ipynb)."
   ]
  }
 ],
 "metadata": {
  "anaconda-cloud": {},
  "jupytext": {
   "formats": "ipynb,md"
  },
  "kernelspec": {
   "display_name": "Python 3.9.6 64-bit ('3.9.6')",
   "language": "python",
   "name": "python3"
  },
  "language_info": {
   "codemirror_mode": {
    "name": "ipython",
    "version": 3
   },
   "file_extension": ".py",
   "mimetype": "text/x-python",
   "name": "python",
   "nbconvert_exporter": "python",
   "pygments_lexer": "ipython3",
   "version": "3.9.6"
  },
  "vscode": {
   "interpreter": {
    "hash": "513788764cd0ec0f97313d5418a13e1ea666d16d72f976a8acadce25a5af2ffc"
   }
  }
 },
 "nbformat": 4,
 "nbformat_minor": 4
}
