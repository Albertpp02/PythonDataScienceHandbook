{
 "cells": [
  {
   "cell_type": "markdown",
   "metadata": {},
   "source": [
    "# Código de perfiles y sincronización"
   ]
  },
  {
   "cell_type": "markdown",
   "metadata": {},
   "source": [
    "En el proceso de desarrollo de código y creación de canales de procesamiento de datos, a menudo se pueden hacer concesiones entre varias implementaciones.\n",
    "Al principio del desarrollo de su algoritmo, puede resultar contraproducente preocuparse por esas cosas. Como bromeó Donald Knuth: \"Deberíamos olvidarnos de las pequeñas eficiencias, digamos aproximadamente el 97% de las veces: la optimización prematura es la raíz de todos los males\".\n",
    "\n",
    "Pero una vez que tenga su código funcionando, puede resultar útil profundizar un poco en su eficiencia.\n",
    "A veces es útil comprobar el tiempo de ejecución de un comando o conjunto de comandos determinado; otras veces es útil examinar un proceso de varias líneas y determinar dónde reside el cuello de botella en alguna serie complicada de operaciones.\n",
    "IPython proporciona acceso a una amplia gama de funciones para este tipo de temporización y creación de perfiles de código.\n",
    "Aquí discutiremos los siguientes comandos mágicos de IPython:\n",
    "\n",
    "- `%time`: cronometra la ejecución de una sola declaración\n",
    "- `%timeit`: tiempo de ejecución repetida de una sola declaración para mayor precisión\n",
    "- `%prun`: Ejecutar código con el generador de perfiles\n",
    "- `%lprun`: ejecuta código con el generador de perfiles línea por línea\n",
    "- `%memit`: mide el uso de memoria de una sola declaración\n",
    "- `%mprun`: ejecuta código con el perfilador de memoria línea por línea\n",
    "\n",
    "Los últimos cuatro comandos no están incluidos en IPython; para usarlos necesitarás obtener las extensiones `line_profiler` y `memory_profiler`, que discutiremos en las siguientes secciones."
   ]
  },
  {
   "cell_type": "markdown",
   "metadata": {},
   "source": [
    "## Fragmentos de código de sincronización: %timeit y %time\n",
    "\n",
    "Vimos la magia de línea `%timeit` y la magia de celda `%%timeit` en la introducción a las funciones mágicas en [IPython Magic Commands](01.03-Magic-Commands.ipynb); Estos se pueden utilizar para cronometrar la ejecución repetida de fragmentos de código:"
   ]
  },
  {
   "cell_type": "code",
   "execution_count": 1,
   "metadata": {},
   "outputs": [
    {
     "name": "stdout",
     "output_type": "stream",
     "text": [
      "1.53 µs ± 47.8 ns per loop (mean ± std. dev. of 7 runs, 1000000 loops each)\n"
     ]
    }
   ],
   "source": [
    "%timeit sum(range(100))"
   ]
  },
  {
   "cell_type": "markdown",
   "metadata": {},
   "source": [
    "Tenga en cuenta que debido a que esta operación es tan rápida, `%timeit` realiza automáticamente una gran cantidad de repeticiones.\n",
    "Para comandos más lentos, `%timeit` se ajustará automáticamente y realizará menos repeticiones:"
   ]
  },
  {
   "cell_type": "code",
   "execution_count": 2,
   "metadata": {},
   "outputs": [
    {
     "name": "stdout",
     "output_type": "stream",
     "text": [
      "536 ms ± 15.9 ms per loop (mean ± std. dev. of 7 runs, 1 loop each)\n"
     ]
    }
   ],
   "source": [
    "%%timeit\n",
    "total = 0\n",
    "for i in range(1000):\n",
    "    for j in range(1000):\n",
    "        total += i * (-1) ** j"
   ]
  },
  {
   "cell_type": "markdown",
   "metadata": {},
   "source": [
    "A veces repetir una operación no es la mejor opción.\n",
    "Por ejemplo, si tenemos una lista que nos gustaría ordenar, es posible que una operación repetida nos engañe; ordenar una lista preordenada es mucho más rápido que ordenar una lista sin ordenar, por lo que la repetición distorsionará el resultado:"
   ]
  },
  {
   "cell_type": "code",
   "execution_count": 3,
   "metadata": {},
   "outputs": [
    {
     "name": "stdout",
     "output_type": "stream",
     "text": [
      "1.71 ms ± 334 µs per loop (mean ± std. dev. of 7 runs, 1000 loops each)\n"
     ]
    }
   ],
   "source": [
    "import random\n",
    "L = [random.random() for i in range(100000)]\n",
    "%timeit L.sort()"
   ]
  },
  {
   "cell_type": "markdown",
   "metadata": {},
   "source": [
    "Para ello, la función mágica `%time` puede ser una mejor opción. También es una buena opción para comandos de ejecución más prolongada, cuando es poco probable que retrasos breves relacionados con el sistema afecten el resultado.\n",
    "Cronometremos la clasificación de una lista sin clasificar y una lista previamente ordenada:"
   ]
  },
  {
   "cell_type": "code",
   "execution_count": 4,
   "metadata": {},
   "outputs": [
    {
     "name": "stdout",
     "output_type": "stream",
     "text": [
      "sorting an unsorted list:\n",
      "CPU times: user 31.3 ms, sys: 686 µs, total: 32 ms\n",
      "Wall time: 33.3 ms\n"
     ]
    }
   ],
   "source": [
    "import random\n",
    "L = [random.random() for i in range(100000)]\n",
    "print(\"sorting an unsorted list:\")\n",
    "%time L.sort()"
   ]
  },
  {
   "cell_type": "code",
   "execution_count": 5,
   "metadata": {},
   "outputs": [
    {
     "name": "stdout",
     "output_type": "stream",
     "text": [
      "sorting an already sorted list:\n",
      "CPU times: user 5.19 ms, sys: 268 µs, total: 5.46 ms\n",
      "Wall time: 14.1 ms\n"
     ]
    }
   ],
   "source": [
    "print(\"sorting an already sorted list:\")\n",
    "%time L.sort()"
   ]
  },
  {
   "attachments": {},
   "cell_type": "markdown",
   "metadata": {},
   "source": [
    "Observe cuánto más rápido se ordena la lista preclasificada, pero observe también cuánto más tiempo toma el tiempo con `%time` versus `%timeit`, ¡incluso para la lista preclasificada!\n",
    "Esto es el resultado del hecho de que `%timeit` hace algunas cosas inteligentes bajo el capó para evitar que las llamadas al sistema interfieran con la sincronización.\n",
    "Por ejemplo, evita la limpieza de objetos Python no utilizados (conocido como *recolección de basura*) que de otro modo podría afectar la sincronización.\n",
    "Por esta razón, los resultados de \"%timeit\" suelen ser notablemente más rápidos que los resultados de \"%time\".\n",
    "\n",
    "Para `%time`, al igual que con `%timeit`, el uso de la sintaxis mágica de celda `%%` permite cronometrar scripts multilínea:"
   ]
  },
  {
   "cell_type": "code",
   "execution_count": 6,
   "metadata": {},
   "outputs": [
    {
     "name": "stdout",
     "output_type": "stream",
     "text": [
      "CPU times: user 655 ms, sys: 5.68 ms, total: 661 ms\n",
      "Wall time: 710 ms\n"
     ]
    }
   ],
   "source": [
    "%%time\n",
    "total = 0\n",
    "for i in range(1000):\n",
    "    for j in range(1000):\n",
    "        total += i * (-1) ** j"
   ]
  },
  {
   "cell_type": "markdown",
   "metadata": {},
   "source": [
    "Para obtener más información sobre `%time` y `%timeit`, así como sus opciones disponibles, use la función de ayuda de IPython (por ejemplo, escriba `%time?` en el indicador de IPython)."
   ]
  },
  {
   "cell_type": "markdown",
   "metadata": {},
   "source": [
    "## Scripts completos de creación de perfiles: %prun\n",
    "\n",
    "Un programa se compone de muchas declaraciones individuales y, a veces, sincronizar estas declaraciones en contexto es más importante que sincronizarlas por sí solas.\n",
    "Python contiene un generador de perfiles de código incorporado (sobre el cual puede leer en la documentación de Python), pero IPython ofrece una forma mucho más conveniente de utilizar este generador de perfiles, en la forma de la función mágica `%prun`.\n",
    "\n",
    "A modo de ejemplo, definiremos una función simple que realiza algunos cálculos:"
   ]
  },
  {
   "cell_type": "markdown",
   "metadata": {},
   "source": []
  },
  {
   "cell_type": "code",
   "execution_count": 7,
   "metadata": {},
   "outputs": [],
   "source": [
    "def sum_of_lists(N):\n",
    "    total = 0\n",
    "    for i in range(5):\n",
    "        L = [j ^ (j >> i) for j in range(N)]\n",
    "        total += sum(L)\n",
    "    return total"
   ]
  },
  {
   "cell_type": "markdown",
   "metadata": {},
   "source": [
    "Ahora podemos llamar a `%prun` con una llamada de función para ver los resultados perfilados:"
   ]
  },
  {
   "cell_type": "code",
   "execution_count": 8,
   "metadata": {},
   "outputs": [
    {
     "name": "stdout",
     "output_type": "stream",
     "text": [
      " "
     ]
    },
    {
     "data": {
      "text/plain": [
       "         14 function calls in 0.932 seconds\n",
       "\n",
       "   Ordered by: internal time\n",
       "\n",
       "   ncalls  tottime  percall  cumtime  percall filename:lineno(function)\n",
       "        5    0.808    0.162    0.808    0.162 <ipython-input-7-f105717832a2>:4(<listcomp>)\n",
       "        5    0.066    0.013    0.066    0.013 {built-in method builtins.sum}\n",
       "        1    0.044    0.044    0.918    0.918 <ipython-input-7-f105717832a2>:1(sum_of_lists)\n",
       "        1    0.014    0.014    0.932    0.932 <string>:1(<module>)\n",
       "        1    0.000    0.000    0.932    0.932 {built-in method builtins.exec}\n",
       "        1    0.000    0.000    0.000    0.000 {method 'disable' of '_lsprof.Profiler' objects}"
      ]
     },
     "metadata": {},
     "output_type": "display_data"
    }
   ],
   "source": [
    "%prun sum_of_lists(1000000)"
   ]
  },
  {
   "cell_type": "markdown",
   "metadata": {},
   "source": [
    "El resultado es una tabla que indica, en orden de tiempo total en cada llamada a función, dónde pasa más tiempo la ejecución. En este caso, la mayor parte del tiempo de ejecución está en la lista de comprensión dentro de `sum_of_lists`.\n",
    "A partir de aquí, podríamos empezar a pensar en qué cambios podríamos realizar para mejorar el rendimiento del algoritmo.\n",
    "\n",
    "Para obtener más información sobre `%prun`, así como sus opciones disponibles, utilice la función de ayuda de IPython (es decir, escriba `%prun?` en el indicador de IPython)."
   ]
  },
  {
   "cell_type": "markdown",
   "metadata": {},
   "source": [
    "## Perfilado línea por línea con %lprun\n",
    "\n",
    "El perfilado función por función de `%prun` es útil, pero a veces es más conveniente tener un informe de perfil línea por línea.\n",
    "Esto no está integrado en Python o IPython, pero hay un paquete `line_profiler` disponible para instalación que puede hacer esto.\n",
    "Comience usando la herramienta de empaquetado de Python, `pip`, para instalar el paquete `line_profiler`:\n",
    "\n",
    "```\n",
    "$ pip instalar line_profiler\n",
    "```\n",
    "\n",
    "A continuación, puede usar IPython para cargar la extensión IPython `line_profiler`, que se ofrece como parte de este paquete:"
   ]
  },
  {
   "cell_type": "code",
   "execution_count": 9,
   "metadata": {},
   "outputs": [],
   "source": [
    "%load_ext line_profiler"
   ]
  },
  {
   "cell_type": "markdown",
   "metadata": {},
   "source": [
    "Ahora el comando `%lprun` creará un perfil línea por línea de cualquier función. En este caso, debemos decirle explícitamente qué funciones nos interesa perfilar:"
   ]
  },
  {
   "cell_type": "code",
   "execution_count": 10,
   "metadata": {},
   "outputs": [
    {
     "data": {
      "text/plain": [
       "Timer unit: 1e-06 s\n",
       "\n",
       "Total time: 0.014803 s\n",
       "File: <ipython-input-7-f105717832a2>\n",
       "Function: sum_of_lists at line 1\n",
       "\n",
       "Line #      Hits         Time  Per Hit   % Time  Line Contents\n",
       "==============================================================\n",
       "     1                                           def sum_of_lists(N):\n",
       "     2         1          6.0      6.0      0.0      total = 0\n",
       "     3         6         13.0      2.2      0.1      for i in range(5):\n",
       "     4         5      14242.0   2848.4     96.2          L = [j ^ (j >> i) for j in range(N)]\n",
       "     5         5        541.0    108.2      3.7          total += sum(L)\n",
       "     6         1          1.0      1.0      0.0      return total"
      ]
     },
     "metadata": {},
     "output_type": "display_data"
    }
   ],
   "source": [
    "%lprun -f sum_of_lists sum_of_lists(5000)"
   ]
  },
  {
   "cell_type": "markdown",
   "metadata": {},
   "source": [
    "La información en la parte superior nos da la clave para leer los resultados: el tiempo se informa en microsegundos y podemos ver dónde pasa más tiempo el programa.\n",
    "En este punto, es posible que podamos utilizar esta información para modificar aspectos del script y hacer que funcione mejor para nuestro caso de uso deseado.\n",
    "\n",
    "Para obtener más información sobre `%lprun`, así como sus opciones disponibles, utilice la función de ayuda de IPython (es decir, escriba `%lprun?` en el indicador de IPython)."
   ]
  },
  {
   "cell_type": "markdown",
   "metadata": {},
   "source": [
    "## Uso de la memoria de creación de perfiles: %memit y %mprun\n",
    "\n",
    "Otro aspecto de la creación de perfiles es la cantidad de memoria que utiliza una operación.\n",
    "Esto se puede evaluar con otra extensión de IPython, `memory_profiler`.\n",
    "Al igual que con `line_profiler`, comenzamos instalando `pip` la extensión:\n",
    "\n",
    "```\n",
    "$ pip instalar memoria_profiler\n",
    "```\n",
    "\n",
    "Luego podemos usar IPython para cargarlo:"
   ]
  },
  {
   "cell_type": "code",
   "execution_count": 11,
   "metadata": {},
   "outputs": [],
   "source": [
    "%load_ext memory_profiler"
   ]
  },
  {
   "cell_type": "markdown",
   "metadata": {},
   "source": [
    "La extensión del perfilador de memoria contiene dos funciones mágicas útiles: `%memit` (que ofrece un equivalente de medición de memoria de `%timeit`) y `%mprun` (que ofrece un equivalente de medición de memoria de `%lprun`).\n",
    "La función mágica `%memit` se puede utilizar de forma bastante sencilla:"
   ]
  },
  {
   "cell_type": "code",
   "execution_count": 12,
   "metadata": {},
   "outputs": [
    {
     "name": "stdout",
     "output_type": "stream",
     "text": [
      "peak memory: 141.70 MiB, increment: 75.65 MiB\n"
     ]
    }
   ],
   "source": [
    "%memit sum_of_lists(1000000)"
   ]
  },
  {
   "cell_type": "markdown",
   "metadata": {},
   "source": [
    "Vemos que esta función utiliza unos 140 MB de memoria.\n",
    "\n",
    "Para una descripción línea por línea del uso de la memoria, podemos usar la función mágica `%mprun`.\n",
    "Desafortunadamente, esto solo funciona para funciones definidas en módulos separados en lugar del cuaderno en sí, por lo que comenzaremos usando la magia de la celda `%%file` para crear un módulo simple llamado `mprun_demo.py`, que contiene nuestra `sum_of_lists`. función, con una adición que hará que los resultados de nuestro perfil de memoria sean más claros:"
   ]
  },
  {
   "cell_type": "code",
   "execution_count": 13,
   "metadata": {},
   "outputs": [
    {
     "name": "stdout",
     "output_type": "stream",
     "text": [
      "Overwriting mprun_demo.py\n"
     ]
    }
   ],
   "source": [
    "%%file mprun_demo.py\n",
    "def sum_of_lists(N):\n",
    "    total = 0\n",
    "    for i in range(5):\n",
    "        L = [j ^ (j >> i) for j in range(N)]\n",
    "        total += sum(L)\n",
    "        del L # remove reference to L\n",
    "    return total"
   ]
  },
  {
   "cell_type": "markdown",
   "metadata": {},
   "source": [
    "Ahora podemos importar la nueva versión de esta función y ejecutar el perfilador de línea de memoria:"
   ]
  },
  {
   "cell_type": "code",
   "execution_count": 14,
   "metadata": {},
   "outputs": [
    {
     "name": "stdout",
     "output_type": "stream",
     "text": [
      "\n"
     ]
    },
    {
     "data": {
      "text/plain": [
       "Filename: /Users/jakevdp/github/jakevdp/PythonDataScienceHandbook/notebooks_v2/mprun_demo.py\n",
       "\n",
       "Line #    Mem usage    Increment  Occurences   Line Contents\n",
       "============================================================\n",
       "     1     66.7 MiB     66.7 MiB           1   def sum_of_lists(N):\n",
       "     2     66.7 MiB      0.0 MiB           1       total = 0\n",
       "     3     75.1 MiB      8.4 MiB           6       for i in range(5):\n",
       "     4    105.9 MiB     30.8 MiB     5000015           L = [j ^ (j >> i) for j in range(N)]\n",
       "     5    109.8 MiB      3.8 MiB           5           total += sum(L)\n",
       "     6     75.1 MiB    -34.6 MiB           5           del L # remove reference to L\n",
       "     7     66.9 MiB     -8.2 MiB           1       return total"
      ]
     },
     "metadata": {},
     "output_type": "display_data"
    }
   ],
   "source": [
    "from mprun_demo import sum_of_lists\n",
    "%mprun -f sum_of_lists sum_of_lists(1000000)"
   ]
  },
  {
   "cell_type": "markdown",
   "metadata": {},
   "source": [
    "Aquí, la columna \"Incremento\" nos dice cuánto afecta cada línea al presupuesto total de memoria: observe que cuando creamos y eliminamos la lista \"L\", estamos agregando aproximadamente 30 MB de uso de memoria.\n",
    "Esto se suma al uso de memoria en segundo plano del propio intérprete de Python.\n",
    "\n",
    "Para obtener más información sobre `%memit` y `%mprun`, así como sus opciones disponibles, use la función de ayuda de IPython (por ejemplo, escriba `%memit?` en el indicador de IPython)."
   ]
  }
 ],
 "metadata": {
  "anaconda-cloud": {},
  "jupytext": {
   "formats": "ipynb,md"
  },
  "kernelspec": {
   "display_name": "Python 3",
   "language": "python",
   "name": "python3"
  },
  "language_info": {
   "codemirror_mode": {
    "name": "ipython",
    "version": 3
   },
   "file_extension": ".py",
   "mimetype": "text/x-python",
   "name": "python",
   "nbconvert_exporter": "python",
   "pygments_lexer": "ipython3",
   "version": "3.9.2"
  }
 },
 "nbformat": 4,
 "nbformat_minor": 4
}
