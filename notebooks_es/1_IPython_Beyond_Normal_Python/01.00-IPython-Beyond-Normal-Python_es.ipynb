{
 "cells": [
  {
   "cell_type": "markdown",
   "metadata": {},
   "source": [
    "# Jupyter: más allá del Python normal"
   ]
  },
  {
   "cell_type": "markdown",
   "metadata": {},
   "source": [
    "Hay muchas opciones para entornos de desarrollo para Python y a menudo me preguntan cuál uso en mi propio trabajo.\n",
    "Mi respuesta a veces sorprende a la gente: mi entorno preferido es [IPython](http://ipython.org/) más un editor de texto (en mi caso, Emacs o VSCode, según mi estado de ánimo).\n",
    "Jupyter comenzó como el shell IPython, que fue creado en 2001 por Fernando Pérez como un intérprete mejorado de Python y desde entonces ha crecido hasta convertirse en un proyecto cuyo objetivo es proporcionar, en palabras de Pérez, \"herramientas para todo el ciclo de vida de la informática de investigación\".\n",
    "Si Python es el motor de nuestra tarea de ciencia de datos, podría pensar en Jupyter como el panel de control interactivo.\n",
    "\n",
    "Además de ser una útil interfaz interactiva para Python, Jupyter también proporciona una serie de útiles adiciones sintácticas al lenguaje; Cubriremos las más útiles de estas adiciones aquí.\n",
    "Quizás la interfaz más familiar proporcionada por el proyecto Jupyter sea Jupyter Notebook, un entorno basado en navegador que es útil para desarrollar, colaborar, compartir e incluso publicar resultados de ciencia de datos.\n",
    "Como ejemplo de la utilidad del formato de cuaderno, no busque más que la página que está leyendo: todo el manuscrito de este libro se compuso como un conjunto de cuadernos Jupyter.\n",
    "\n",
    "Esta parte del libro comenzará repasando algunas de las características de Jupyter e IPython que son útiles para la práctica de la ciencia de datos, enfocándose especialmente en la sintaxis que ofrecen más allá de las características estándar de Python.\n",
    "A continuación, profundizaremos un poco más en algunos de los *comandos mágicos* más útiles que pueden acelerar las tareas comunes en la creación y el uso de código de ciencia de datos.\n",
    "Finalmente, abordaremos algunas de las características del cuaderno que lo hacen útil para comprender datos y compartir resultados."
   ]
  }
 ],
 "metadata": {
  "anaconda-cloud": {},
  "jupytext": {
   "formats": "ipynb,md"
  },
  "kernelspec": {
   "display_name": "Python 3",
   "language": "python",
   "name": "python3"
  },
  "language_info": {
   "codemirror_mode": {
    "name": "ipython",
    "version": 3
   },
   "file_extension": ".py",
   "mimetype": "text/x-python",
   "name": "python",
   "nbconvert_exporter": "python",
   "pygments_lexer": "ipython3",
   "version": "3.9.2"
  }
 },
 "nbformat": 4,
 "nbformat_minor": 4
}
