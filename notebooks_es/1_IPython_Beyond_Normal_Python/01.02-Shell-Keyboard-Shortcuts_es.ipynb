{
 "cells": [
  {
   "cell_type": "markdown",
   "metadata": {},
   "source": [
    "# Atajos de teclado en IPython Shell"
   ]
  },
  {
   "cell_type": "markdown",
   "metadata": {},
   "source": [
    "Si pasa algún tiempo frente a una computadora, probablemente haya encontrado un uso para los atajos de teclado en su flujo de trabajo.\n",
    "Quizás los más familiares sean Cmd-c y Cmd-v (o Ctrl-c y Ctrl-v), utilizados para copiar y pegar en una amplia variedad de programas y sistemas.\n",
    "Los usuarios avanzados tienden a ir aún más lejos: editores de texto populares como Emacs, Vim y otros brindan a los usuarios una increíble variedad de operaciones mediante intrincadas combinaciones de pulsaciones de teclas.\n",
    "\n",
    "El shell de IPython no llega tan lejos, pero proporciona una serie de atajos de teclado para una navegación rápida mientras se escriben comandos.\n",
    "Si bien algunos de estos atajos funcionan en los cuadernos basados ​​en navegador, esta sección trata principalmente sobre atajos en el shell de IPython.\n",
    "\n",
    "Una vez que se acostumbre a ellos, pueden resultar muy útiles para realizar rápidamente ciertos comandos sin mover las manos de la posición \"inicio\" del teclado.\n",
    "Si es usuario de Emacs o si tiene experiencia con shells estilo Linux, lo siguiente le resultará muy familiar.\n",
    "Agruparé estos atajos en algunas categorías: *atajos de navegación*, *atajos de entrada de texto*, *atajos de historial de comandos* y *atajos varios*."
   ]
  },
  {
   "cell_type": "markdown",
   "metadata": {},
   "source": [
    "## Atajos de navegación\n",
    "\n",
    "Si bien el uso de las teclas de flecha izquierda y derecha para avanzar y retroceder en la línea es bastante obvio, existen otras opciones que no requieren mover las manos desde la posición \"inicio\" del teclado:\n",
    "\n",
    "| Pulsación de tecla | Acción |\n",
    "|---------------------------------|--------------- -----------------------|\n",
    "| Ctrl-a | Mover el cursor al principio de la línea |\n",
    "| Ctrl-e | Mover el cursor al final de la línea |\n",
    "| Ctrl-b o la tecla de flecha izquierda | Mover el cursor hacia atrás un carácter |\n",
    "| Ctrl-f o la tecla de flecha derecha | Mover el cursor hacia adelante un carácter |"
   ]
  },
  {
   "cell_type": "markdown",
   "metadata": {},
   "source": [
    "## Atajos de entrada de texto\n",
    "\n",
    "Si bien todo el mundo está familiarizado con el uso de la tecla Retroceso para eliminar el carácter anterior, alcanzar la tecla a menudo requiere un poco de gimnasia con los dedos y solo elimina un carácter a la vez.\n",
    "En IPython existen varios atajos para eliminar una parte del texto que estás escribiendo; Los más útiles de inmediato son los comandos para eliminar líneas enteras de texto.\n",
    "¡Sabrás que estos se han convertido en algo natural si te encuentras usando una combinación de Ctrl-b y Ctrl-d en lugar de presionar Retroceso para eliminar el carácter anterior!\n",
    "\n",
    "| Pulsación de tecla | Acción |\n",
    "|-----------------------------|------------------- -------------------------------|\n",
    "| Tecla de retroceso | Eliminar el carácter anterior en la línea |\n",
    "| Ctrl-d | Eliminar el siguiente carácter de la línea |\n",
    "| Ctrl-k | Cortar texto desde el cursor hasta el final de la línea |\n",
    "| Ctrl-u | Cortar texto desde el principio de la línea hasta el cursor |\n",
    "| Ctrl-y | Tirar (es decir, pegar) texto que se cortó previamente |\n",
    "| Ctrl-t | Transponer (es decir, cambiar) los dos caracteres anteriores |"
   ]
  },
  {
   "cell_type": "markdown",
   "metadata": {},
   "source": [
    "## Atajos del historial de comandos\n",
    "\n",
    "Quizás los atajos más impactantes que se analizan aquí sean los que proporciona IPython para navegar por el historial de comandos.\n",
    "Este historial de comandos va más allá de su sesión actual de IPython: todo su historial de comandos se almacena en una base de datos SQLite en su directorio de perfil de IPython.\n",
    "La forma más sencilla de acceder a los comandos anteriores es utilizar las teclas de flecha hacia arriba y hacia abajo para recorrer el historial, pero también existen otras opciones:\n",
    "\n",
    "| Pulsación de tecla | Acción |\n",
    "|-----------------------------------|------------- -------------------------------|\n",
    "| Ctrl-p (o la tecla de flecha hacia arriba) | Acceder al comando anterior en el historial |\n",
    "| Ctrl-n (o la tecla de flecha hacia abajo) | Acceder al siguiente comando de la historia |\n",
    "| Ctrl-r | Búsqueda inversa a través del historial de comandos |"
   ]
  },
  {
   "cell_type": "markdown",
   "metadata": {},
   "source": [
    "La opción de búsqueda inversa puede resultar especialmente útil.\n",
    "Recuerde que anteriormente definimos una función llamada \"cuadrado\".\n",
    "Hagamos una búsqueda inversa en nuestro historial de Python desde un nuevo shell de IPython y encontremos esta definición nuevamente.\n",
    "Cuando presiona Ctrl-r en la terminal IPython, verá el siguiente mensaje:\n",
    "\n",
    "```ipython\n",
    "En [1]:\n",
    "(búsqueda-i-inversa)`'': \n",
    "```\n",
    "\n",
    "Si comienza a escribir caracteres en este mensaje, IPython completará automáticamente el comando más reciente, si corresponde, que coincida con esos caracteres:\n",
    "\n",
    "```ipython\n",
    "En [1]: \n",
    "(búsqueda-i-inversa)`sqa': ¿cuadrado?\n",
    "```\n",
    "\n",
    "En cualquier momento, puede agregar más caracteres para refinar la búsqueda o presionar Ctrl-r nuevamente para buscar otro comando que coincida con la consulta. Si siguió lo anterior, al presionar Ctrl-r dos veces más se obtiene:\n",
    "\n",
    "```ipython\n",
    "En [1]: \n",
    "(búsqueda-i-inversa)`sqa': def cuadrado(a):\n",
    "    \"\"\"Devuelve el cuadrado de un\"\"\"\n",
    "    devolver un ** 2\n",
    "```\n",
    "\n",
    "Una vez que haya encontrado el comando que está buscando, presione Retorno y la búsqueda finalizará.\n",
    "Luego puede usar el comando recuperado y continuar con su sesión:\n",
    "\n",
    "```ipython\n",
    "En [1]: def cuadrado(a):\n",
    "    \"\"\"Devuelve el cuadrado de un\"\"\"\n",
    "    devolver un ** 2\n",
    "\n",
    "En [2]: cuadrado(2)\n",
    "Fuera[2]: 4\n",
    "```\n",
    "\n",
    "Tenga en cuenta que puede usar Ctrl-p/Ctrl-n o las teclas de flecha arriba/abajo para buscar en su historial de manera similar, pero solo haciendo coincidir los caracteres al principio de la línea.\n",
    "Es decir, si escribe **`def`** y luego presiona Ctrl-p, encontrará el comando más reciente (si lo hay) en su historial que comience con los caracteres `def`."
   ]
  },
  {
   "cell_type": "markdown",
   "metadata": {},
   "source": [
    "## Atajos varios\n",
    "\n",
    "Finalmente, hay algunos atajos diversos que no encajan en ninguna de las categorías anteriores, pero que, sin embargo, es útil conocer:\n",
    "\n",
    "| Pulsación de tecla | Acción |\n",
    "|-----------------------------|------------------- -------------------------|\n",
    "| Ctrl-l | Borrar pantalla del terminal |\n",
    "| Ctrl-c | Interrumpir el comando Python actual |\n",
    "| Ctrl-d | Salir de la sesión de IPython |\n",
    "\n",
    "El atajo Ctrl-c en particular puede resultar útil cuando, sin darse cuenta, inicia un trabajo de larga duración."
   ]
  },
  {
   "cell_type": "markdown",
   "metadata": {},
   "source": [
    "Si bien algunos de los atajos discutidos aquí pueden parecer un poco oscuros al principio, rápidamente se vuelven automáticos con la práctica.\n",
    "Una vez que desarrolles esa memoria muscular, sospecho que incluso desearás que estuvieran disponibles en otros contextos."
   ]
  }
 ],
 "metadata": {
  "anaconda-cloud": {},
  "jupytext": {
   "formats": "ipynb,md"
  },
  "kernelspec": {
   "display_name": "Python 3",
   "language": "python",
   "name": "python3"
  },
  "language_info": {
   "codemirror_mode": {
    "name": "ipython",
    "version": 3
   },
   "file_extension": ".py",
   "mimetype": "text/x-python",
   "name": "python",
   "nbconvert_exporter": "python",
   "pygments_lexer": "ipython3",
   "version": "3.9.2"
  }
 },
 "nbformat": 4,
 "nbformat_minor": 4
}
