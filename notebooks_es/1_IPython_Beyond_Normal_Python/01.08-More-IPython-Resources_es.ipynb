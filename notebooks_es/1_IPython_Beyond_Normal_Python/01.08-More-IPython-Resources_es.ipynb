{
 "cells": [
  {
   "cell_type": "markdown",
   "metadata": {},
   "source": [
    "# Más recursos de IPython"
   ]
  },
  {
   "cell_type": "markdown",
   "metadata": {},
   "source": [
    "En esta serie de capítulos, acabamos de arañar la superficie del uso de IPython para permitir tareas de ciencia de datos.\n",
    "Hay mucha más información disponible tanto en forma impresa como en la web, y aquí enumeraré algunos otros recursos que pueden resultarle útiles."
   ]
  },
  {
   "cell_type": "markdown",
   "metadata": {},
   "source": [
    "## Recursos web\n",
    "\n",
    "- [El sitio web de IPython] (http://ipython.org): el sitio web de IPython proporciona enlaces a documentación, ejemplos, tutoriales y una variedad de otros recursos.\n",
    "- [El sitio web de nbviewer] (http://nbviewer.jupyter.org/): este sitio muestra representaciones estáticas de cualquier portátil Jupyter disponible en Internet. ¡La página principal presenta algunos cuadernos de ejemplo que puede explorar para ver para qué están usando IPython otras personas!\n",
    "- [Una colección seleccionada de cuadernos de Jupyter] (https://github.com/jupyter/jupyter/wiki): esta lista cada vez mayor de cuadernos, impulsada por nbviewer, muestra la profundidad y amplitud del análisis numérico que puede realizar con IPython. . ¡Incluye de todo, desde ejemplos breves y tutoriales hasta cursos y libros completos compuestos en formato de cuaderno!\n",
    "- Videotutoriales: Buscando en Internet, encontrarás muchos vídeotutoriales sobre IPython. Recomiendo especialmente buscar tutoriales de las conferencias PyCon, SciPy y PyData de Fernando Pérez y Brian Granger, dos de los principales creadores y mantenedores de IPython y Jupyter."
   ]
  },
  {
   "cell_type": "markdown",
   "metadata": {},
   "source": [
    "## Libros\n",
    "\n",
    "- [*Python para análisis de datos* (O'Reilly)](http://shop.oreilly.com/product/0636920023784.do): el libro de Wes McKinney incluye un capítulo que cubre el uso de IPython como científico de datos. Aunque gran parte del material se superpone con lo que hemos discutido aquí, siempre es útil otra perspectiva.\n",
    "- [*Aprendizaje de IPython para informática interactiva y visualización de datos* (Packt)](https://www.packtpub.com/big-data-and-business-intelligence/learning-ipython-interactive-computing-and-data-visualization ): Este breve libro de Cyrille Rossant ofrece una buena introducción al uso de IPython para el análisis de datos.\n",
    "- [*Libro de cocina de visualización y computación interactiva de IPython* (Packt)](https://www.packtpub.com/big-data-and-business-intelligence/ipython-interactive-computing-and-visualization-cookbook): También por Cyrille Rossant, este libro es un tratamiento más extenso y avanzado del uso de IPython para la ciencia de datos. A pesar de su nombre, no se trata sólo de IPython; también profundiza en una amplia gama de temas de ciencia de datos.\n",
    "\n",
    "Finalmente, un recordatorio de que puede encontrar ayuda por su cuenta: la funcionalidad de ayuda basada en `?` de IPython (que se analiza en [Ayuda y documentación en IPython](01.01-Help-And-Documentation.ipynb)) puede ser útil si la usa. bien y úselo con frecuencia.\n",
    "A medida que revisa los ejemplos aquí y en otros lugares, puede utilizarlos para familiarizarse con todas las herramientas que IPython tiene para ofrecer."
   ]
  }
 ],
 "metadata": {
  "anaconda-cloud": {},
  "jupytext": {
   "formats": "ipynb,md"
  },
  "kernelspec": {
   "display_name": "Python 3",
   "language": "python",
   "name": "python3"
  },
  "language_info": {
   "codemirror_mode": {
    "name": "ipython",
    "version": 3
   },
   "file_extension": ".py",
   "mimetype": "text/x-python",
   "name": "python",
   "nbconvert_exporter": "python",
   "pygments_lexer": "ipython3",
   "version": "3.9.2"
  }
 },
 "nbformat": 4,
 "nbformat_minor": 4
}
