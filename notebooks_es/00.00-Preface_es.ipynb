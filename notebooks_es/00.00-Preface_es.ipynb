{
 "cells": [
  {
   "cell_type": "markdown",
   "metadata": {},
   "source": [
    "# Prefacio"
   ]
  },
  {
   "cell_type": "markdown",
   "metadata": {},
   "source": [
    "## ¿Qué es la ciencia de datos?\n",
    "\n",
    "Este es un libro sobre cómo hacer ciencia de datos con Python, lo que inmediatamente plantea la pregunta: ¿qué es la *ciencia de datos*?\n",
    "Es una definición sorprendentemente difícil de concretar, especialmente teniendo en cuenta lo omnipresente que se ha vuelto el término.\n",
    "Los críticos vocales lo han descartado de diversas maneras como una etiqueta superflua (después de todo, ¿qué ciencia no involucra datos?) o una simple palabra de moda que sólo existe para salar los currículums y llamar la atención de reclutadores tecnológicos demasiado entusiastas.\n",
    "\n",
    "En mi opinión, estas críticas pasan por alto algo importante.\n",
    "La ciencia de datos, a pesar de su apariencia exagerada, es quizás la mejor etiqueta que tenemos para el conjunto interdisciplinario de habilidades que se están volviendo cada vez más importantes en muchas aplicaciones en la industria y el mundo académico.\n",
    "Este artículo *interdisciplinario* es clave: en mi opinión, la mejor definición existente de ciencia de datos está ilustrada por el Diagrama de Venn de ciencia de datos de Drew Conway, publicado por primera vez en su blog en septiembre de 2010 (consulte la siguiente figura)."
   ]
  },
  {
   "cell_type": "markdown",
   "metadata": {},
   "source": [
    "![Diagrama de Venn de ciencia de datos](images/Data_Science_VD.png)\n",
    "\n",
    "<small>(fuente: [Drew Conway](http://drewconway.com/zia/2013/3/26/the-data-science-venn-diagram), utilizado con autorización)</small>"
   ]
  },
  {
   "cell_type": "markdown",
   "metadata": {},
   "source": [
    "Si bien algunas de las etiquetas de intersección son un poco irónicas, este diagrama captura la esencia de lo que creo que la gente quiere decir cuando dice \"ciencia de datos\": es fundamentalmente un tema interdisciplinario.\n",
    "La ciencia de datos comprende tres áreas distintas y superpuestas: las habilidades de un *estadístico* que sabe cómo modelar y resumir conjuntos de datos (que son cada vez más grandes); las habilidades de un *científico informático* que puede diseñar y utilizar algoritmos para almacenar, procesar y visualizar estos datos de manera eficiente; y la *experiencia en el dominio* (lo que podríamos considerar como capacitación \"clásica\" en un tema) necesaria tanto para formular las preguntas correctas como para poner sus respuestas en contexto.\n",
    "\n",
    "Con esto en mente, lo animo a pensar en la ciencia de datos no como un nuevo dominio de conocimiento para aprender, sino como un nuevo conjunto de habilidades que puede aplicar dentro de su área de especialización actual.\n",
    "Ya sea que esté informando resultados electorales, pronosticando retornos de acciones, optimizando clics en anuncios en línea, identificando microorganismos en fotografías microscópicas, buscando nuevas clases de objetos astronómicos o trabajando con datos en cualquier otro campo, el objetivo de este libro es brindarle la capacidad de Haga y responda nuevas preguntas sobre el área temática elegida."
   ]
  },
  {
   "attachments": {},
   "cell_type": "markdown",
   "metadata": {},
   "source": [
    "## ¿Para quién es este libro?\n",
    "\n",
    "En mi enseñanza tanto en la Universidad de Washington como en varias conferencias y reuniones centradas en la tecnología, una de las preguntas más comunes que he escuchado es esta: \"¿Cómo debo aprender Python?\"\n",
    "Las personas que preguntan son generalmente estudiantes, desarrolladores o investigadores con mentalidad técnica, a menudo con una sólida experiencia en la escritura de códigos y el uso de herramientas computacionales y numéricas.\n",
    "La mayoría de estas personas no quieren aprender Python per se, pero quieren aprender el lenguaje con el objetivo de utilizarlo como una herramienta para la ciencia computacional y con uso intensivo de datos.\n",
    "Si bien hay disponible en línea una gran variedad de videos, publicaciones de blogs y tutoriales para esta audiencia, durante mucho tiempo me he sentido frustrado por la falta de una buena respuesta a esta pregunta; eso es lo que inspiró este libro.\n",
    "\n",
    "El libro no pretende ser una introducción a Python ni a la programación en general; Supongo que el lector está familiarizado con el lenguaje Python, incluida la definición de funciones, la asignación de variables, la llamada a métodos de objetos, el control del flujo de un programa y otras tareas básicas.\n",
    "En cambio, está destinado a ayudar a los usuarios de Python a aprender a utilizar la pila de ciencia de datos de Python (bibliotecas como las mencionadas en la siguiente sección y herramientas relacionadas) para almacenar, manipular y obtener información de los datos de manera efectiva."
   ]
  },
  {
   "cell_type": "markdown",
   "metadata": {},
   "source": [
    "## ¿Por qué Python?\n",
    "\n",
    "Python ha surgido en las últimas dos décadas como una herramienta de primera clase para tareas informáticas científicas, incluido el análisis y visualización de grandes conjuntos de datos.\n",
    "Esto puede haber sorprendido a los primeros defensores del lenguaje Python: el lenguaje en sí no fue diseñado específicamente teniendo en mente el análisis de datos o la informática científica.\n",
    "La utilidad de Python para la ciencia de datos surge principalmente del ecosistema grande y activo de paquetes de terceros: *NumPy* para la manipulación de datos homogéneos basados ​​en matrices, *Pandas* para la manipulación de datos heterogéneos y etiquetados, *SciPy* para la ciencia común. tareas informáticas, *Matplotlib* para visualizaciones con calidad de publicación, *IPython* para ejecución interactiva y uso compartido de código, *Scikit-Learn* para aprendizaje automático y muchas más herramientas que se mencionarán en las siguientes páginas.\n",
    "\n",
    "Si está buscando una guía sobre el lenguaje Python en sí, le sugeriría el proyecto hermano de este libro, [https://www.oreilly.com/library/view/a-whirlwind-tour/9781492037859](_A Whirlwind Tour del lenguaje Python_).\n",
    "Este breve informe ofrece un recorrido por las características esenciales del lenguaje Python, dirigido a científicos de datos que ya están familiarizados con uno o más lenguajes de programación."
   ]
  },
  {
   "cell_type": "markdown",
   "metadata": {},
   "source": [
    "## Esquema del libro\n",
    "\n",
    "Cada parte numerada de este libro se centra en un paquete o herramienta particular que aporta una pieza fundamental de la historia de la ciencia de datos de Python y se divide en capítulos breves e independientes, cada uno de los cuales analiza un solo concepto:\n",
    "\n",
    "- *Parte I, Jupyter: Más allá del Python normal*, presenta IPython y Jupyter. Estos paquetes proporcionan el entorno computacional en el que trabajan muchos científicos de datos que utilizan Python.\n",
    "- *Parte II, Introducción a NumPy*, se centra en la biblioteca NumPy, que proporciona el `ndarray` para el almacenamiento y manipulación eficiente de matrices de datos densas en Python.\n",
    "- *Parte III, Manipulación de datos con Pandas*, presenta la biblioteca Pandas, que proporciona el `DataFrame` para el almacenamiento y manipulación eficiente de datos etiquetados/en columnas en Python.\n",
    "- *Parte IV, Visualización con Matplotlib*, se concentra en Matplotlib, una biblioteca que proporciona capacidades para una gama flexible de visualizaciones de datos en Python.\n",
    "- *Parte V, Aprendizaje automático*, se centra en la biblioteca Scikit-Learn, que proporciona implementaciones Python eficientes y limpias de los algoritmos de aprendizaje automático más importantes y establecidos.\n",
    "\n",
    "El mundo de PyData es ciertamente mucho más grande que estos seis paquetes y crece cada día.\n",
    "Con esto en mente, hago todo lo posible a lo largo de este libro para proporcionar referencias a otros esfuerzos, proyectos y paquetes interesantes que están ampliando los límites de lo que se puede hacer en Python.\n",
    "Sin embargo, los paquetes en los que me concentro son actualmente fundamentales para gran parte del trabajo que se realiza en el espacio de la ciencia de datos de Python, y espero que sigan siendo importantes incluso cuando el ecosistema siga creciendo a su alrededor."
   ]
  },
  {
   "cell_type": "markdown",
   "metadata": {},
   "source": [
    "## Usando ejemplos de código\n",
    "\n",
    "El material complementario (ejemplos de código, figuras, etc.) está disponible para descargar en http://github.com/jakevdp/PythonDataScienceHandbook/. Este libro está aquí para ayudarle a realizar su trabajo. En general, si se ofrece código de ejemplo con este libro, puede utilizarlo en sus programas y documentación. No es necesario que se comunique con nosotros para solicitar permiso a menos que esté reproduciendo una parte importante del código. Por ejemplo, escribir un programa que utilice varios fragmentos de código de este libro no requiere permiso. Vender o distribuir un CD-ROM con ejemplos de libros de O'Reilly requiere permiso. Responder una pregunta citando este libro y citando código de ejemplo no requiere permiso. Incorporar una cantidad significativa de código de ejemplo de este libro en la documentación de su producto requiere permiso.\n",
    "\n",
    "Apreciamos la atribución, pero no la exigimos. Una atribución suele incluir el título, el autor, la editorial y el ISBN. Por ejemplo: \"*Manual de ciencia de datos de Python*, segunda edición, por Jake VanderPlas (O'Reilly). Copyright 2023 Jake VanderPlas, 978-1-098-12122-8\".\n",
    "\n",
    "Si cree que su uso de ejemplos de código queda fuera del uso legítimo o del permiso otorgado anteriormente, no dude en contactarnos en permisos@oreilly.com."
   ]
  },
  {
   "attachments": {},
   "cell_type": "markdown",
   "metadata": {},
   "source": [
    "## Consideraciones de instalación\n",
    "\n",
    "Instalar Python y el conjunto de bibliotecas que permiten la computación científica es sencillo. Esta sección describirá algunas de las cosas que debe tener en cuenta al configurar su computadora.\n",
    "\n",
    "Aunque hay varias formas de instalar Python, la que sugeriría para usar en ciencia de datos es la distribución Anaconda, que funciona de manera similar ya sea que uses Windows, Linux o macOS.\n",
    "La distribución Anaconda viene en dos versiones:\n",
    "\n",
    "- [Miniconda](http://conda.pydata.org/miniconda.html) le proporciona el intérprete de Python, junto con una herramienta de línea de comandos llamada *conda* que opera como un administrador de paquetes multiplataforma orientado a paquetes de Python. , similar en espíritu a las herramientas apt o yum con las que los usuarios de Linux podrían estar familiarizados.\n",
    "\n",
    "- [Anaconda](https://www.continuum.io/downloads) incluye Python y conda, y además incluye un conjunto de otros paquetes preinstalados orientados a la informática científica. Debido al tamaño de este paquete, se espera que la instalación consuma varios gigabytes de espacio en disco.\n",
    "\n",
    "Cualquiera de los paquetes incluidos con Anaconda también se puede instalar manualmente sobre Miniconda; por esta razón sugiero comenzar con Miniconda.\n",
    "\n",
    "Para comenzar, descargue e instale el paquete Miniconda (asegúrese de elegir una versión con Python 3) y luego instale los paquetes principales utilizados en este libro:\n",
    "\n",
    "```\n",
    "[~]$ conda instalar numpy pandas scikit-learn matplotlib seaborn jupyter\n",
    "```\n",
    "\n",
    "A lo largo del texto, también haremos uso de otras herramientas más especializadas del ecosistema científico de Python; La instalación suele ser tan fácil como escribir **`conda install packagename`**.\n",
    "Si alguna vez encuentra paquetes que no están disponibles en el canal predeterminado de conda, asegúrese de consultar [*conda-forge*](https://conda-forge.org/), un amplio repositorio de conda impulsado por la comunidad. paquetes.\n",
    "\n",
    "Para obtener más información sobre conda, incluida información sobre la creación y el uso de entornos conda (que recomendaría *altamente*), consulte la [documentación en línea de conda](http://conda.pydata.org/docs/)."
   ]
  }
 ],
 "metadata": {
  "anaconda-cloud": {},
  "jupytext": {
   "formats": "ipynb,md"
  },
  "kernelspec": {
   "display_name": "Python 3",
   "language": "python",
   "name": "python3"
  },
  "language_info": {
   "codemirror_mode": {
    "name": "ipython",
    "version": 3
   },
   "file_extension": ".py",
   "mimetype": "text/x-python",
   "name": "python",
   "nbconvert_exporter": "python",
   "pygments_lexer": "ipython3",
   "version": "3.9.2"
  }
 },
 "nbformat": 4,
 "nbformat_minor": 4
}
