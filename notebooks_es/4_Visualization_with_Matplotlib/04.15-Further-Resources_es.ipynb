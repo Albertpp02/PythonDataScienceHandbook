{
 "cells": [
  {
   "cell_type": "markdown",
   "metadata": {},
   "source": [
    "# Recursos adicionales\n",
    "\n",
    "Una sola parte de un libro nunca puede pretender cubrir todas las características y tipos de trama disponibles en Matplotlib.\n",
    "Al igual que con otros paquetes que hemos visto, el uso liberal de las funciones de ayuda y finalización de pestañas de IPython (consulte [Ayuda y documentación en IPython](01.01-Help-And-Documentation.ipynb)) puede ser muy útil al explorar la API de Matplotlib.\n",
    "Además, la [documentación en línea] de Matplotlib (http://matplotlib.org/) puede ser una referencia útil.\n",
    "Consulte en particular la [Galería Matplotlib](https://matplotlib.org/stable/gallery/), que muestra miniaturas de cientos de tipos de gráficos diferentes, cada uno vinculado a una página con el fragmento de código Python utilizado para generarlo.\n",
    "Esto le permite inspeccionar visualmente y aprender sobre una amplia gama de diferentes estilos de trazado y técnicas de visualización.\n",
    "\n",
    "Para un tratamiento completo de Matplotlib, recomendaría *Aplicaciones interactivas usando Matplotlib* (Packt), escrito por el desarrollador principal de Matplotlib, Ben Root."
   ]
  },
  {
   "attachments": {},
   "cell_type": "markdown",
   "metadata": {},
   "source": [
    "## Otras bibliotecas de visualización de Python\n",
    "\n",
    "Aunque Matplotlib es la biblioteca de visualización de Python más destacada, existen otras herramientas más modernas que también vale la pena explorar.\n",
    "Mencionaré algunos de ellos brevemente aquí:\n",
    "\n",
    "- [Bokeh](http://bokeh.pydata.org) es una biblioteca de visualización de JavaScript con una interfaz de Python que crea visualizaciones altamente interactivas capaces de manejar conjuntos de datos muy grandes y/o de streaming.\n",
    "- [Plotly](http://plot.ly) es el producto de código abierto homónimo de la empresa Plotly y es similar en espíritu a Bokeh. Está desarrollado activamente y proporciona una amplia gama de tipos de gráficos interactivos.\n",
    "- [HoloViews](https://holoviews.org/) es una API más declarativa y unificada para generar gráficos en una variedad de backends, incluidos Bokeh y Matplotlib.\n",
    "- [Vega](https://vega.github.io/) y [Vega-Lite](https://vega.github.io/vega-lite) son representaciones gráficas declarativas y son producto de años de investigación. sobre cómo pensar en la visualización e interacción de datos. La implementación de representación de referencia es JavaScript y el [paquete Altair](https://altair-viz.github.io/) proporciona una API de Python para generar estos gráficos.\n",
    "\n",
    "El panorama de la visualización en el mundo de Python está en constante evolución y espero que esta lista esté desactualizada cuando se publique este libro.\n",
    "Además, debido a que Python se usa en tantos dominios, encontrará muchas otras herramientas de visualización diseñadas para casos de uso más específicos.\n",
    "Puede ser difícil realizar un seguimiento de todas ellas, pero un buen recurso para aprender sobre esta amplia variedad de herramientas de visualización es https://pyviz.org/, un sitio abierto, impulsado por la comunidad, que contiene tutoriales y ejemplos de muchas visualizaciones diferentes. herramientas."
   ]
  }
 ],
 "metadata": {
  "jupytext": {
   "formats": "ipynb,md"
  },
  "kernelspec": {
   "display_name": "Python 3 (ipykernel)",
   "language": "python",
   "name": "python3"
  },
  "language_info": {
   "codemirror_mode": {
    "name": "ipython",
    "version": 3
   },
   "file_extension": ".py",
   "mimetype": "text/x-python",
   "name": "python",
   "nbconvert_exporter": "python",
   "pygments_lexer": "ipython3",
   "version": "3.9.2"
  }
 },
 "nbformat": 4,
 "nbformat_minor": 4
}
